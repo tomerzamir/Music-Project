{
 "cells": [
  {
   "cell_type": "markdown",
   "id": "9edb396a",
   "metadata": {},
   "source": [
    "# music analysis project"
   ]
  },
  {
   "cell_type": "markdown",
   "id": "5f2e10fc",
   "metadata": {},
   "source": [
    "<b>Imports<b>"
   ]
  },
  {
   "cell_type": "code",
   "execution_count": 1,
   "id": "174e4f7c",
   "metadata": {},
   "outputs": [],
   "source": [
    "import warnings\n",
    "warnings.filterwarnings(\"ignore\")\n",
    "from sklearn.decomposition import PCA\n",
    "from sklearn import metrics\n",
    "from sklearn.model_selection import train_test_split\n",
    "from sklearn.preprocessing import StandardScaler, MinMaxScaler, LabelEncoder\n",
    "from sklearn.linear_model import LogisticRegression, LinearRegression, LassoCV,Lasso\n",
    "from sklearn.metrics import mean_absolute_error, mean_squared_error, r2_score\n",
    "import math\n",
    "from sklearn.neighbors import KNeighborsClassifier\n",
    "\n",
    "\n",
    "from sklearn.metrics import confusion_matrix, classification_report, precision_recall_curve, f1_score, auc\n",
    "\n",
    "from sklearn.ensemble import RandomForestRegressor,RandomForestClassifier\n",
    "from sklearn.model_selection import GridSearchCV\n",
    "from sklearn.naive_bayes import GaussianNB\n",
    "from sklearn.svm import SVC\n",
    "\n",
    "import numpy as np\n",
    "import pandas as pd\n",
    "\n",
    "import matplotlib.pyplot as plt\n",
    "\n",
    "%matplotlib inline  \n",
    "plt.rcParams['figure.figsize'] = (10, 6)\n",
    "\n",
    "from mpl_toolkits.mplot3d import Axes3D\n",
    "from matplotlib import cm\n",
    "\n",
    "import seaborn as sns"
   ]
  },
  {
   "cell_type": "markdown",
   "id": "dac136a9",
   "metadata": {},
   "source": [
    "<b>Functions<b>"
   ]
  },
  {
   "cell_type": "code",
   "execution_count": 2,
   "id": "67e37728",
   "metadata": {},
   "outputs": [],
   "source": [
    "def correlation_matrix(df, matplotlib):\n",
    "\n",
    "    background_color = \"#f6f5f5\"\n",
    "    plt.figure(figsize=(12,10), facecolor=background_color)\n",
    "    \n",
    "    colors = [\"#2f5586\", \"#f6f5f5\",\"#2f5586\"]\n",
    "    colormap = matplotlib.colors.LinearSegmentedColormap.from_list(\"\", colors)\n",
    "    \n",
    "    # Generate a mask for the upper triangle\n",
    "    mask = np.triu(np.ones_like(df, dtype=bool))\n",
    "    ax = sns.heatmap(df, annot=True, mask=mask, cmap=colormap, cbar_kws={\"shrink\": .5})\n",
    "    ax.set_facecolor(background_color)\n",
    "    plt.show() "
   ]
  },
  {
   "cell_type": "code",
   "execution_count": 3,
   "id": "20319b05",
   "metadata": {},
   "outputs": [],
   "source": [
    "def mape_vectorized_v2(y_true, prediction): \n",
    "    #solution to problem of division by 0\n",
    "    mask = y_true != 0\n",
    "    return (np.fabs(y_true - prediction)/y_true)[mask].mean()*100 "
   ]
  },
  {
   "cell_type": "code",
   "execution_count": 4,
   "id": "733f44b3",
   "metadata": {},
   "outputs": [],
   "source": [
    "def show_regresion_error(predictions, true_values):\n",
    "    df_predict = pd.DataFrame(predictions, true_values)\n",
    "    df_predict = df_predict.reset_index(level=0, inplace=False)\n",
    "    df_predict.columns = ['true_value', 'predictions']\n",
    "    \n",
    "    print(\"Mean squared error (test): %.3f\" % mean_squared_error(true_values, predictions, squared=False))\n",
    "    print(\"Mean absolute error (test): %.3f\" %mean_absolute_error(true_values, predictions ))\n",
    "    print(\"Mean absolute percentage error: %.3f\" %mape_vectorized_v2(true_values, predictions))\n",
    "    print(\"R2_score: %.3f\" %r2_score(true_values, predictions))\n",
    "    \n",
    "    sns.scatterplot(data=df_predict, y='predictions', x='true_value')\n",
    "    sns.lineplot(data=df_predict, x='true_value', y='true_value', color='g')"
   ]
  },
  {
   "cell_type": "code",
   "execution_count": 5,
   "id": "d0872946",
   "metadata": {},
   "outputs": [],
   "source": [
    "pd.set_option(\"display.max_columns\", None)"
   ]
  },
  {
   "cell_type": "code",
   "execution_count": 6,
   "id": "2309180f",
   "metadata": {},
   "outputs": [
    {
     "data": {
      "text/plain": [
       "(18403, 18)"
      ]
     },
     "execution_count": 6,
     "metadata": {},
     "output_type": "execute_result"
    }
   ],
   "source": [
    "df = pd.read_csv(\"spotify data.csv\")\n",
    "df.shape"
   ]
  },
  {
   "cell_type": "code",
   "execution_count": 7,
   "id": "a2e43c78",
   "metadata": {},
   "outputs": [
    {
     "data": {
      "text/html": [
       "<div>\n",
       "<style scoped>\n",
       "    .dataframe tbody tr th:only-of-type {\n",
       "        vertical-align: middle;\n",
       "    }\n",
       "\n",
       "    .dataframe tbody tr th {\n",
       "        vertical-align: top;\n",
       "    }\n",
       "\n",
       "    .dataframe thead th {\n",
       "        text-align: right;\n",
       "    }\n",
       "</style>\n",
       "<table border=\"1\" class=\"dataframe\">\n",
       "  <thead>\n",
       "    <tr style=\"text-align: right;\">\n",
       "      <th></th>\n",
       "      <th>0</th>\n",
       "      <th>1</th>\n",
       "      <th>2</th>\n",
       "      <th>3</th>\n",
       "      <th>4</th>\n",
       "    </tr>\n",
       "  </thead>\n",
       "  <tbody>\n",
       "    <tr>\n",
       "      <th>artist</th>\n",
       "      <td>Studio 1</td>\n",
       "      <td>John Fahey</td>\n",
       "      <td>Reigning Sound</td>\n",
       "      <td>The Red Thread</td>\n",
       "      <td>Mac Miller</td>\n",
       "    </tr>\n",
       "    <tr>\n",
       "      <th>album</th>\n",
       "      <td>Studio 1</td>\n",
       "      <td>The Great Santa Barbara Oil Slick</td>\n",
       "      <td>Too Much Guitar</td>\n",
       "      <td>After the Last</td>\n",
       "      <td>Swimming</td>\n",
       "    </tr>\n",
       "    <tr>\n",
       "      <th>reviewauthor</th>\n",
       "      <td>Andy Battaglia</td>\n",
       "      <td>Mark Richardson</td>\n",
       "      <td>Stephen M. Deusner</td>\n",
       "      <td>Chris Dahlen</td>\n",
       "      <td>Evan Rytlewski</td>\n",
       "    </tr>\n",
       "    <tr>\n",
       "      <th>score</th>\n",
       "      <td>8.5</td>\n",
       "      <td>8.2</td>\n",
       "      <td>8.3</td>\n",
       "      <td>7.3</td>\n",
       "      <td>7.5</td>\n",
       "    </tr>\n",
       "    <tr>\n",
       "      <th>releaseyear</th>\n",
       "      <td>2009.0</td>\n",
       "      <td>2005.0</td>\n",
       "      <td>2004.0</td>\n",
       "      <td>2003.0</td>\n",
       "      <td>2018.0</td>\n",
       "    </tr>\n",
       "    <tr>\n",
       "      <th>reviewdate</th>\n",
       "      <td>February 18 2009</td>\n",
       "      <td>February 13 2005</td>\n",
       "      <td>August 19 2004</td>\n",
       "      <td>July 17 2003</td>\n",
       "      <td>August 3 2018</td>\n",
       "    </tr>\n",
       "    <tr>\n",
       "      <th>recordlabel</th>\n",
       "      <td>Studio</td>\n",
       "      <td>Water</td>\n",
       "      <td>In the Red</td>\n",
       "      <td>Badman</td>\n",
       "      <td>Warner Bros.</td>\n",
       "    </tr>\n",
       "    <tr>\n",
       "      <th>genre</th>\n",
       "      <td>Electronic</td>\n",
       "      <td>Folk/Country</td>\n",
       "      <td>Electronic</td>\n",
       "      <td>Rock</td>\n",
       "      <td>Rap</td>\n",
       "    </tr>\n",
       "    <tr>\n",
       "      <th>danceability</th>\n",
       "      <td>0.511917</td>\n",
       "      <td>0.369765</td>\n",
       "      <td>0.253943</td>\n",
       "      <td>0.4254</td>\n",
       "      <td>0.624846</td>\n",
       "    </tr>\n",
       "    <tr>\n",
       "      <th>energy</th>\n",
       "      <td>0.499667</td>\n",
       "      <td>0.325412</td>\n",
       "      <td>0.912857</td>\n",
       "      <td>0.433474</td>\n",
       "      <td>0.438154</td>\n",
       "    </tr>\n",
       "    <tr>\n",
       "      <th>key</th>\n",
       "      <td>5.25</td>\n",
       "      <td>4.470588</td>\n",
       "      <td>4.428571</td>\n",
       "      <td>5.7</td>\n",
       "      <td>4.153846</td>\n",
       "    </tr>\n",
       "    <tr>\n",
       "      <th>loudness</th>\n",
       "      <td>-5.626583</td>\n",
       "      <td>-19.153824</td>\n",
       "      <td>-1.0895</td>\n",
       "      <td>-12.871</td>\n",
       "      <td>-9.456077</td>\n",
       "    </tr>\n",
       "    <tr>\n",
       "      <th>speechiness</th>\n",
       "      <td>0.031983</td>\n",
       "      <td>0.148624</td>\n",
       "      <td>0.0555</td>\n",
       "      <td>0.02826</td>\n",
       "      <td>0.170246</td>\n",
       "    </tr>\n",
       "    <tr>\n",
       "      <th>acousticness</th>\n",
       "      <td>0.724917</td>\n",
       "      <td>0.647053</td>\n",
       "      <td>0.000253</td>\n",
       "      <td>0.310325</td>\n",
       "      <td>0.652462</td>\n",
       "    </tr>\n",
       "    <tr>\n",
       "      <th>instrumentalness</th>\n",
       "      <td>0.024493</td>\n",
       "      <td>0.559133</td>\n",
       "      <td>0.751214</td>\n",
       "      <td>0.224137</td>\n",
       "      <td>0.012819</td>\n",
       "    </tr>\n",
       "    <tr>\n",
       "      <th>liveness</th>\n",
       "      <td>0.165367</td>\n",
       "      <td>0.527782</td>\n",
       "      <td>0.199071</td>\n",
       "      <td>0.12515</td>\n",
       "      <td>0.121131</td>\n",
       "    </tr>\n",
       "    <tr>\n",
       "      <th>valence</th>\n",
       "      <td>0.555083</td>\n",
       "      <td>0.179465</td>\n",
       "      <td>0.552786</td>\n",
       "      <td>0.4514</td>\n",
       "      <td>0.281138</td>\n",
       "    </tr>\n",
       "    <tr>\n",
       "      <th>tempo</th>\n",
       "      <td>101.395167</td>\n",
       "      <td>107.622647</td>\n",
       "      <td>133.8955</td>\n",
       "      <td>104.3542</td>\n",
       "      <td>122.121308</td>\n",
       "    </tr>\n",
       "  </tbody>\n",
       "</table>\n",
       "</div>"
      ],
      "text/plain": [
       "                                 0                                  1  \\\n",
       "artist                    Studio 1                         John Fahey   \n",
       "album                     Studio 1  The Great Santa Barbara Oil Slick   \n",
       "reviewauthor        Andy Battaglia                    Mark Richardson   \n",
       "score                          8.5                                8.2   \n",
       "releaseyear                 2009.0                             2005.0   \n",
       "reviewdate        February 18 2009                   February 13 2005   \n",
       "recordlabel                 Studio                              Water   \n",
       "genre                   Electronic                       Folk/Country   \n",
       "danceability              0.511917                           0.369765   \n",
       "energy                    0.499667                           0.325412   \n",
       "key                           5.25                           4.470588   \n",
       "loudness                 -5.626583                         -19.153824   \n",
       "speechiness               0.031983                           0.148624   \n",
       "acousticness              0.724917                           0.647053   \n",
       "instrumentalness          0.024493                           0.559133   \n",
       "liveness                  0.165367                           0.527782   \n",
       "valence                   0.555083                           0.179465   \n",
       "tempo                   101.395167                         107.622647   \n",
       "\n",
       "                                   2               3               4  \n",
       "artist                Reigning Sound  The Red Thread      Mac Miller  \n",
       "album                Too Much Guitar  After the Last        Swimming  \n",
       "reviewauthor      Stephen M. Deusner    Chris Dahlen  Evan Rytlewski  \n",
       "score                            8.3             7.3             7.5  \n",
       "releaseyear                   2004.0          2003.0          2018.0  \n",
       "reviewdate            August 19 2004    July 17 2003   August 3 2018  \n",
       "recordlabel               In the Red          Badman    Warner Bros.  \n",
       "genre                     Electronic            Rock             Rap  \n",
       "danceability                0.253943          0.4254        0.624846  \n",
       "energy                      0.912857        0.433474        0.438154  \n",
       "key                         4.428571             5.7        4.153846  \n",
       "loudness                     -1.0895         -12.871       -9.456077  \n",
       "speechiness                   0.0555         0.02826        0.170246  \n",
       "acousticness                0.000253        0.310325        0.652462  \n",
       "instrumentalness            0.751214        0.224137        0.012819  \n",
       "liveness                    0.199071         0.12515        0.121131  \n",
       "valence                     0.552786          0.4514        0.281138  \n",
       "tempo                       133.8955        104.3542      122.121308  "
      ]
     },
     "execution_count": 7,
     "metadata": {},
     "output_type": "execute_result"
    }
   ],
   "source": [
    "df.head().T"
   ]
  },
  {
   "cell_type": "markdown",
   "id": "92d924d7",
   "metadata": {},
   "source": [
    "<b>data handling<b>"
   ]
  },
  {
   "cell_type": "code",
   "execution_count": 8,
   "id": "a2887cda",
   "metadata": {},
   "outputs": [
    {
     "data": {
      "text/plain": [
       "(16785, 18)"
      ]
     },
     "execution_count": 8,
     "metadata": {},
     "output_type": "execute_result"
    }
   ],
   "source": [
    "df=df.dropna(axis=0, how='any')\n",
    "df.shape"
   ]
  },
  {
   "cell_type": "code",
   "execution_count": 9,
   "id": "b77be20d",
   "metadata": {},
   "outputs": [
    {
     "data": {
      "text/plain": [
       "1"
      ]
     },
     "execution_count": 9,
     "metadata": {},
     "output_type": "execute_result"
    }
   ],
   "source": [
    "df.duplicated().sum()"
   ]
  },
  {
   "cell_type": "code",
   "execution_count": 10,
   "id": "e66d0943",
   "metadata": {},
   "outputs": [
    {
     "data": {
      "text/html": [
       "<div>\n",
       "<style scoped>\n",
       "    .dataframe tbody tr th:only-of-type {\n",
       "        vertical-align: middle;\n",
       "    }\n",
       "\n",
       "    .dataframe tbody tr th {\n",
       "        vertical-align: top;\n",
       "    }\n",
       "\n",
       "    .dataframe thead th {\n",
       "        text-align: right;\n",
       "    }\n",
       "</style>\n",
       "<table border=\"1\" class=\"dataframe\">\n",
       "  <thead>\n",
       "    <tr style=\"text-align: right;\">\n",
       "      <th></th>\n",
       "      <th>artist</th>\n",
       "      <th>album</th>\n",
       "      <th>reviewauthor</th>\n",
       "      <th>score</th>\n",
       "      <th>releaseyear</th>\n",
       "      <th>reviewdate</th>\n",
       "      <th>recordlabel</th>\n",
       "      <th>genre</th>\n",
       "      <th>danceability</th>\n",
       "      <th>energy</th>\n",
       "      <th>key</th>\n",
       "      <th>loudness</th>\n",
       "      <th>speechiness</th>\n",
       "      <th>acousticness</th>\n",
       "      <th>instrumentalness</th>\n",
       "      <th>liveness</th>\n",
       "      <th>valence</th>\n",
       "      <th>tempo</th>\n",
       "    </tr>\n",
       "  </thead>\n",
       "  <tbody>\n",
       "    <tr>\n",
       "      <th>8013</th>\n",
       "      <td>Fiona Apple</td>\n",
       "      <td>When the Pawn...</td>\n",
       "      <td>Judy Berman</td>\n",
       "      <td>9.4</td>\n",
       "      <td>1999.0</td>\n",
       "      <td>March 24 2019</td>\n",
       "      <td>Sony</td>\n",
       "      <td>Rock</td>\n",
       "      <td>0.5987</td>\n",
       "      <td>0.5203</td>\n",
       "      <td>2.4</td>\n",
       "      <td>-10.0754</td>\n",
       "      <td>0.03376</td>\n",
       "      <td>0.353917</td>\n",
       "      <td>0.013064</td>\n",
       "      <td>0.24087</td>\n",
       "      <td>0.46355</td>\n",
       "      <td>127.3138</td>\n",
       "    </tr>\n",
       "  </tbody>\n",
       "</table>\n",
       "</div>"
      ],
      "text/plain": [
       "           artist             album reviewauthor  score  releaseyear  \\\n",
       "8013  Fiona Apple  When the Pawn...  Judy Berman    9.4       1999.0   \n",
       "\n",
       "         reviewdate recordlabel genre  danceability  energy  key  loudness  \\\n",
       "8013  March 24 2019        Sony  Rock        0.5987  0.5203  2.4  -10.0754   \n",
       "\n",
       "      speechiness  acousticness  instrumentalness  liveness  valence     tempo  \n",
       "8013      0.03376      0.353917          0.013064   0.24087  0.46355  127.3138  "
      ]
     },
     "execution_count": 10,
     "metadata": {},
     "output_type": "execute_result"
    }
   ],
   "source": [
    "df[df.duplicated()]"
   ]
  },
  {
   "cell_type": "code",
   "execution_count": 11,
   "id": "60ceb799",
   "metadata": {},
   "outputs": [],
   "source": [
    "df=df.drop_duplicates()\n",
    "df.reset_index(drop=True, inplace=True)"
   ]
  },
  {
   "cell_type": "code",
   "execution_count": 12,
   "id": "5ffdf967",
   "metadata": {},
   "outputs": [
    {
     "data": {
      "text/plain": [
       "(16784, 18)"
      ]
     },
     "execution_count": 12,
     "metadata": {},
     "output_type": "execute_result"
    }
   ],
   "source": [
    "df.shape"
   ]
  },
  {
   "cell_type": "code",
   "execution_count": 13,
   "id": "41c01407",
   "metadata": {},
   "outputs": [
    {
     "data": {
      "text/html": [
       "<div>\n",
       "<style scoped>\n",
       "    .dataframe tbody tr th:only-of-type {\n",
       "        vertical-align: middle;\n",
       "    }\n",
       "\n",
       "    .dataframe tbody tr th {\n",
       "        vertical-align: top;\n",
       "    }\n",
       "\n",
       "    .dataframe thead th {\n",
       "        text-align: right;\n",
       "    }\n",
       "</style>\n",
       "<table border=\"1\" class=\"dataframe\">\n",
       "  <thead>\n",
       "    <tr style=\"text-align: right;\">\n",
       "      <th></th>\n",
       "      <th>0</th>\n",
       "      <th>1</th>\n",
       "      <th>2</th>\n",
       "      <th>3</th>\n",
       "      <th>4</th>\n",
       "    </tr>\n",
       "  </thead>\n",
       "  <tbody>\n",
       "    <tr>\n",
       "      <th>artist</th>\n",
       "      <td>Studio 1</td>\n",
       "      <td>John Fahey</td>\n",
       "      <td>Reigning Sound</td>\n",
       "      <td>The Red Thread</td>\n",
       "      <td>Mac Miller</td>\n",
       "    </tr>\n",
       "    <tr>\n",
       "      <th>album</th>\n",
       "      <td>Studio 1</td>\n",
       "      <td>The Great Santa Barbara Oil Slick</td>\n",
       "      <td>Too Much Guitar</td>\n",
       "      <td>After the Last</td>\n",
       "      <td>Swimming</td>\n",
       "    </tr>\n",
       "    <tr>\n",
       "      <th>reviewauthor</th>\n",
       "      <td>Andy Battaglia</td>\n",
       "      <td>Mark Richardson</td>\n",
       "      <td>Stephen M. Deusner</td>\n",
       "      <td>Chris Dahlen</td>\n",
       "      <td>Evan Rytlewski</td>\n",
       "    </tr>\n",
       "    <tr>\n",
       "      <th>score</th>\n",
       "      <td>8.5</td>\n",
       "      <td>8.2</td>\n",
       "      <td>8.3</td>\n",
       "      <td>7.3</td>\n",
       "      <td>7.5</td>\n",
       "    </tr>\n",
       "    <tr>\n",
       "      <th>releaseyear</th>\n",
       "      <td>2009.0</td>\n",
       "      <td>2005.0</td>\n",
       "      <td>2004.0</td>\n",
       "      <td>2003.0</td>\n",
       "      <td>2018.0</td>\n",
       "    </tr>\n",
       "    <tr>\n",
       "      <th>reviewdate</th>\n",
       "      <td>February 18 2009</td>\n",
       "      <td>February 13 2005</td>\n",
       "      <td>August 19 2004</td>\n",
       "      <td>July 17 2003</td>\n",
       "      <td>August 3 2018</td>\n",
       "    </tr>\n",
       "    <tr>\n",
       "      <th>recordlabel</th>\n",
       "      <td>Studio</td>\n",
       "      <td>Water</td>\n",
       "      <td>In the Red</td>\n",
       "      <td>Badman</td>\n",
       "      <td>Warner Bros.</td>\n",
       "    </tr>\n",
       "    <tr>\n",
       "      <th>genre</th>\n",
       "      <td>Electronic</td>\n",
       "      <td>Folk/Country</td>\n",
       "      <td>Electronic</td>\n",
       "      <td>Rock</td>\n",
       "      <td>Rap</td>\n",
       "    </tr>\n",
       "    <tr>\n",
       "      <th>danceability</th>\n",
       "      <td>0.511917</td>\n",
       "      <td>0.369765</td>\n",
       "      <td>0.253943</td>\n",
       "      <td>0.4254</td>\n",
       "      <td>0.624846</td>\n",
       "    </tr>\n",
       "    <tr>\n",
       "      <th>energy</th>\n",
       "      <td>0.499667</td>\n",
       "      <td>0.325412</td>\n",
       "      <td>0.912857</td>\n",
       "      <td>0.433474</td>\n",
       "      <td>0.438154</td>\n",
       "    </tr>\n",
       "    <tr>\n",
       "      <th>key</th>\n",
       "      <td>5.25</td>\n",
       "      <td>4.470588</td>\n",
       "      <td>4.428571</td>\n",
       "      <td>5.7</td>\n",
       "      <td>4.153846</td>\n",
       "    </tr>\n",
       "    <tr>\n",
       "      <th>loudness</th>\n",
       "      <td>-5.626583</td>\n",
       "      <td>-19.153824</td>\n",
       "      <td>-1.0895</td>\n",
       "      <td>-12.871</td>\n",
       "      <td>-9.456077</td>\n",
       "    </tr>\n",
       "    <tr>\n",
       "      <th>speechiness</th>\n",
       "      <td>0.031983</td>\n",
       "      <td>0.148624</td>\n",
       "      <td>0.0555</td>\n",
       "      <td>0.02826</td>\n",
       "      <td>0.170246</td>\n",
       "    </tr>\n",
       "    <tr>\n",
       "      <th>acousticness</th>\n",
       "      <td>0.724917</td>\n",
       "      <td>0.647053</td>\n",
       "      <td>0.000253</td>\n",
       "      <td>0.310325</td>\n",
       "      <td>0.652462</td>\n",
       "    </tr>\n",
       "    <tr>\n",
       "      <th>instrumentalness</th>\n",
       "      <td>0.024493</td>\n",
       "      <td>0.559133</td>\n",
       "      <td>0.751214</td>\n",
       "      <td>0.224137</td>\n",
       "      <td>0.012819</td>\n",
       "    </tr>\n",
       "    <tr>\n",
       "      <th>liveness</th>\n",
       "      <td>0.165367</td>\n",
       "      <td>0.527782</td>\n",
       "      <td>0.199071</td>\n",
       "      <td>0.12515</td>\n",
       "      <td>0.121131</td>\n",
       "    </tr>\n",
       "    <tr>\n",
       "      <th>valence</th>\n",
       "      <td>0.555083</td>\n",
       "      <td>0.179465</td>\n",
       "      <td>0.552786</td>\n",
       "      <td>0.4514</td>\n",
       "      <td>0.281138</td>\n",
       "    </tr>\n",
       "    <tr>\n",
       "      <th>tempo</th>\n",
       "      <td>101.395167</td>\n",
       "      <td>107.622647</td>\n",
       "      <td>133.8955</td>\n",
       "      <td>104.3542</td>\n",
       "      <td>122.121308</td>\n",
       "    </tr>\n",
       "  </tbody>\n",
       "</table>\n",
       "</div>"
      ],
      "text/plain": [
       "                                 0                                  1  \\\n",
       "artist                    Studio 1                         John Fahey   \n",
       "album                     Studio 1  The Great Santa Barbara Oil Slick   \n",
       "reviewauthor        Andy Battaglia                    Mark Richardson   \n",
       "score                          8.5                                8.2   \n",
       "releaseyear                 2009.0                             2005.0   \n",
       "reviewdate        February 18 2009                   February 13 2005   \n",
       "recordlabel                 Studio                              Water   \n",
       "genre                   Electronic                       Folk/Country   \n",
       "danceability              0.511917                           0.369765   \n",
       "energy                    0.499667                           0.325412   \n",
       "key                           5.25                           4.470588   \n",
       "loudness                 -5.626583                         -19.153824   \n",
       "speechiness               0.031983                           0.148624   \n",
       "acousticness              0.724917                           0.647053   \n",
       "instrumentalness          0.024493                           0.559133   \n",
       "liveness                  0.165367                           0.527782   \n",
       "valence                   0.555083                           0.179465   \n",
       "tempo                   101.395167                         107.622647   \n",
       "\n",
       "                                   2               3               4  \n",
       "artist                Reigning Sound  The Red Thread      Mac Miller  \n",
       "album                Too Much Guitar  After the Last        Swimming  \n",
       "reviewauthor      Stephen M. Deusner    Chris Dahlen  Evan Rytlewski  \n",
       "score                            8.3             7.3             7.5  \n",
       "releaseyear                   2004.0          2003.0          2018.0  \n",
       "reviewdate            August 19 2004    July 17 2003   August 3 2018  \n",
       "recordlabel               In the Red          Badman    Warner Bros.  \n",
       "genre                     Electronic            Rock             Rap  \n",
       "danceability                0.253943          0.4254        0.624846  \n",
       "energy                      0.912857        0.433474        0.438154  \n",
       "key                         4.428571             5.7        4.153846  \n",
       "loudness                     -1.0895         -12.871       -9.456077  \n",
       "speechiness                   0.0555         0.02826        0.170246  \n",
       "acousticness                0.000253        0.310325        0.652462  \n",
       "instrumentalness            0.751214        0.224137        0.012819  \n",
       "liveness                    0.199071         0.12515        0.121131  \n",
       "valence                     0.552786          0.4514        0.281138  \n",
       "tempo                       133.8955        104.3542      122.121308  "
      ]
     },
     "execution_count": 13,
     "metadata": {},
     "output_type": "execute_result"
    }
   ],
   "source": [
    "df.head().T"
   ]
  },
  {
   "cell_type": "code",
   "execution_count": 14,
   "id": "886cdccc",
   "metadata": {},
   "outputs": [
    {
     "name": "stdout",
     "output_type": "stream",
     "text": [
      "<class 'pandas.core.frame.DataFrame'>\n",
      "RangeIndex: 16784 entries, 0 to 16783\n",
      "Data columns (total 18 columns):\n",
      " #   Column            Non-Null Count  Dtype  \n",
      "---  ------            --------------  -----  \n",
      " 0   artist            16784 non-null  object \n",
      " 1   album             16784 non-null  object \n",
      " 2   reviewauthor      16784 non-null  object \n",
      " 3   score             16784 non-null  float64\n",
      " 4   releaseyear       16784 non-null  float64\n",
      " 5   reviewdate        16784 non-null  object \n",
      " 6   recordlabel       16784 non-null  object \n",
      " 7   genre             16784 non-null  object \n",
      " 8   danceability      16784 non-null  float64\n",
      " 9   energy            16784 non-null  float64\n",
      " 10  key               16784 non-null  float64\n",
      " 11  loudness          16784 non-null  float64\n",
      " 12  speechiness       16784 non-null  float64\n",
      " 13  acousticness      16784 non-null  float64\n",
      " 14  instrumentalness  16784 non-null  float64\n",
      " 15  liveness          16784 non-null  float64\n",
      " 16  valence           16784 non-null  float64\n",
      " 17  tempo             16784 non-null  float64\n",
      "dtypes: float64(12), object(6)\n",
      "memory usage: 2.3+ MB\n"
     ]
    }
   ],
   "source": [
    "df.info()"
   ]
  },
  {
   "cell_type": "code",
   "execution_count": 15,
   "id": "abf7d25c",
   "metadata": {},
   "outputs": [
    {
     "data": {
      "text/plain": [
       "Index(['artist', 'album', 'reviewauthor', 'score', 'releaseyear', 'reviewdate',\n",
       "       'recordlabel', 'genre', 'danceability', 'energy', 'key', 'loudness',\n",
       "       'speechiness', 'acousticness', 'instrumentalness', 'liveness',\n",
       "       'valence', 'tempo'],\n",
       "      dtype='object')"
      ]
     },
     "execution_count": 15,
     "metadata": {},
     "output_type": "execute_result"
    }
   ],
   "source": [
    "preprocess_column_list = ['artist', 'album','reviewauthor']\n",
    "numeric_column_list = ['danceability', 'energy', 'key', 'loudness',\n",
    "       'speechiness', 'acousticness', 'instrumentalness', 'liveness',\n",
    "       'valence', 'tempo']\n",
    "categoric_column_list = ['genre','releaseyear']\n",
    "target_column_list = ['score']\n",
    "\n",
    "df.columns"
   ]
  },
  {
   "cell_type": "markdown",
   "id": "a7beb3e1",
   "metadata": {
    "heading_collapsed": true
   },
   "source": [
    "# EDA"
   ]
  },
  {
   "cell_type": "code",
   "execution_count": 16,
   "id": "b36cd726",
   "metadata": {},
   "outputs": [],
   "source": [
    "def get_highly_correlated_cols(df):\n",
    "    df_corr = df.corr()\n",
    "    corr_pairs = df_corr.unstack()\n",
    "    high_corr_pairs = corr_pairs[(corr_pairs>=0.5) & (corr_pairs < 1)]\n",
    "    \n",
    "    correlations = list()\n",
    "    tuple_arr = list()\n",
    "\n",
    "    high_corr_pairs\n",
    "    for i, value in high_corr_pairs.items():\n",
    "        correlations.append(value)\n",
    "        tuple_arr.append((df.columns.get_loc(i[0]),df.columns.get_loc(i[1])))\n",
    "    \n",
    "    tuple_arr = tuple_arr[::2]\n",
    "    correlations = correlations [::2]\n",
    "    return correlations, tuple_arr"
   ]
  },
  {
   "cell_type": "code",
   "execution_count": 17,
   "id": "54fa685a",
   "metadata": {},
   "outputs": [
    {
     "data": {
      "image/png": "[encoded data removed]",
      "text/plain": [
       "<Figure size 1440x360 with 2 Axes>"
      ]
     },
     "metadata": {
      "needs_background": "light"
     },
     "output_type": "display_data"
    }
   ],
   "source": [
    "correlations, tuples = get_highly_correlated_cols(df)\n",
    "fig, ax = plt.subplots(1,len(tuples),figsize=(20,5))\n",
    "    \n",
    "for i,value in enumerate(tuples):\n",
    "    ax[i].scatter(df.iloc[:,[value[0],value[1]][0]],df.iloc[:,[value[0],value[1]][1]])\n",
    "    plt.title(\"corr({},{} = {})\".format(df.columns[value[0]],df.columns[value[1]],correlations))\n",
    "    plt.xlabel(df.columns[value[0]])\n",
    "    plt.ylabel(df.columns[value[1]])"
   ]
  },
  {
   "cell_type": "code",
   "execution_count": 18,
   "id": "13c97c4a",
   "metadata": {},
   "outputs": [
    {
     "data": {
      "text/plain": [
       "<AxesSubplot:>"
      ]
     },
     "execution_count": 18,
     "metadata": {},
     "output_type": "execute_result"
    },
    {
     "data": {
      "image/png": "[encoded data removed]",
      "text/plain": [
       "<Figure size 864x576 with 2 Axes>"
      ]
     },
     "metadata": {
      "needs_background": "light"
     },
     "output_type": "display_data"
    }
   ],
   "source": [
    "corr = df.corr()\n",
    "\n",
    "kot = corr[corr>=.2]\n",
    "plt.figure(figsize=(12,8))\n",
    "sns.heatmap(kot, cmap=\"Blues\")"
   ]
  },
  {
   "cell_type": "markdown",
   "id": "3d180c5c",
   "metadata": {
    "hidden": true
   },
   "source": [
    "## <b>score</b>"
   ]
  },
  {
   "cell_type": "code",
   "execution_count": 19,
   "id": "ac0c54c7",
   "metadata": {
    "hidden": true
   },
   "outputs": [
    {
     "data": {
      "text/plain": [
       "<AxesSubplot:xlabel='score', ylabel='Density'>"
      ]
     },
     "execution_count": 19,
     "metadata": {},
     "output_type": "execute_result"
    },
    {
     "data": {
      "image/png": "[encoded data removed]",
      "text/plain": [
       "<Figure size 720x432 with 1 Axes>"
      ]
     },
     "metadata": {
      "needs_background": "light"
     },
     "output_type": "display_data"
    }
   ],
   "source": [
    "sns.kdeplot(df.score, shade=True)"
   ]
  },
  {
   "cell_type": "code",
   "execution_count": 20,
   "id": "a601a63c",
   "metadata": {
    "hidden": true
   },
   "outputs": [
    {
     "data": {
      "text/plain": [
       "count    16784.000000\n",
       "mean         7.049446\n",
       "std          1.248035\n",
       "min          0.000000\n",
       "25%          6.500000\n",
       "50%          7.300000\n",
       "75%          7.800000\n",
       "max         10.000000\n",
       "Name: score, dtype: float64"
      ]
     },
     "execution_count": 20,
     "metadata": {},
     "output_type": "execute_result"
    }
   ],
   "source": [
    "df.score.describe()"
   ]
  },
  {
   "cell_type": "markdown",
   "id": "2eb36e36",
   "metadata": {
    "hidden": true
   },
   "source": [
    "## <b>genre</b>"
   ]
  },
  {
   "cell_type": "code",
   "execution_count": 21,
   "id": "2915eac5",
   "metadata": {
    "hidden": true
   },
   "outputs": [
    {
     "data": {
      "text/html": [
       "<div>\n",
       "<style scoped>\n",
       "    .dataframe tbody tr th:only-of-type {\n",
       "        vertical-align: middle;\n",
       "    }\n",
       "\n",
       "    .dataframe tbody tr th {\n",
       "        vertical-align: top;\n",
       "    }\n",
       "\n",
       "    .dataframe thead th {\n",
       "        text-align: right;\n",
       "    }\n",
       "</style>\n",
       "<table border=\"1\" class=\"dataframe\">\n",
       "  <thead>\n",
       "    <tr style=\"text-align: right;\">\n",
       "      <th></th>\n",
       "      <th>artist</th>\n",
       "      <th>album</th>\n",
       "      <th>reviewauthor</th>\n",
       "      <th>score</th>\n",
       "      <th>releaseyear</th>\n",
       "      <th>reviewdate</th>\n",
       "      <th>recordlabel</th>\n",
       "      <th>genre</th>\n",
       "      <th>danceability</th>\n",
       "      <th>energy</th>\n",
       "      <th>key</th>\n",
       "      <th>loudness</th>\n",
       "      <th>speechiness</th>\n",
       "      <th>acousticness</th>\n",
       "      <th>instrumentalness</th>\n",
       "      <th>liveness</th>\n",
       "      <th>valence</th>\n",
       "      <th>tempo</th>\n",
       "    </tr>\n",
       "  </thead>\n",
       "  <tbody>\n",
       "    <tr>\n",
       "      <th>0</th>\n",
       "      <td>Studio 1</td>\n",
       "      <td>Studio 1</td>\n",
       "      <td>Andy Battaglia</td>\n",
       "      <td>8.5</td>\n",
       "      <td>2009.0</td>\n",
       "      <td>February 18 2009</td>\n",
       "      <td>Studio</td>\n",
       "      <td>Electronic</td>\n",
       "      <td>0.511917</td>\n",
       "      <td>0.499667</td>\n",
       "      <td>5.250000</td>\n",
       "      <td>-5.626583</td>\n",
       "      <td>0.031983</td>\n",
       "      <td>0.724917</td>\n",
       "      <td>0.024493</td>\n",
       "      <td>0.165367</td>\n",
       "      <td>0.555083</td>\n",
       "      <td>101.395167</td>\n",
       "    </tr>\n",
       "    <tr>\n",
       "      <th>1</th>\n",
       "      <td>John Fahey</td>\n",
       "      <td>The Great Santa Barbara Oil Slick</td>\n",
       "      <td>Mark Richardson</td>\n",
       "      <td>8.2</td>\n",
       "      <td>2005.0</td>\n",
       "      <td>February 13 2005</td>\n",
       "      <td>Water</td>\n",
       "      <td>Folk/Country</td>\n",
       "      <td>0.369765</td>\n",
       "      <td>0.325412</td>\n",
       "      <td>4.470588</td>\n",
       "      <td>-19.153824</td>\n",
       "      <td>0.148624</td>\n",
       "      <td>0.647053</td>\n",
       "      <td>0.559133</td>\n",
       "      <td>0.527782</td>\n",
       "      <td>0.179465</td>\n",
       "      <td>107.622647</td>\n",
       "    </tr>\n",
       "    <tr>\n",
       "      <th>2</th>\n",
       "      <td>Reigning Sound</td>\n",
       "      <td>Too Much Guitar</td>\n",
       "      <td>Stephen M. Deusner</td>\n",
       "      <td>8.3</td>\n",
       "      <td>2004.0</td>\n",
       "      <td>August 19 2004</td>\n",
       "      <td>In the Red</td>\n",
       "      <td>Electronic</td>\n",
       "      <td>0.253943</td>\n",
       "      <td>0.912857</td>\n",
       "      <td>4.428571</td>\n",
       "      <td>-1.089500</td>\n",
       "      <td>0.055500</td>\n",
       "      <td>0.000253</td>\n",
       "      <td>0.751214</td>\n",
       "      <td>0.199071</td>\n",
       "      <td>0.552786</td>\n",
       "      <td>133.895500</td>\n",
       "    </tr>\n",
       "    <tr>\n",
       "      <th>3</th>\n",
       "      <td>The Red Thread</td>\n",
       "      <td>After the Last</td>\n",
       "      <td>Chris Dahlen</td>\n",
       "      <td>7.3</td>\n",
       "      <td>2003.0</td>\n",
       "      <td>July 17 2003</td>\n",
       "      <td>Badman</td>\n",
       "      <td>Rock</td>\n",
       "      <td>0.425400</td>\n",
       "      <td>0.433474</td>\n",
       "      <td>5.700000</td>\n",
       "      <td>-12.871000</td>\n",
       "      <td>0.028260</td>\n",
       "      <td>0.310325</td>\n",
       "      <td>0.224137</td>\n",
       "      <td>0.125150</td>\n",
       "      <td>0.451400</td>\n",
       "      <td>104.354200</td>\n",
       "    </tr>\n",
       "    <tr>\n",
       "      <th>4</th>\n",
       "      <td>Mac Miller</td>\n",
       "      <td>Swimming</td>\n",
       "      <td>Evan Rytlewski</td>\n",
       "      <td>7.5</td>\n",
       "      <td>2018.0</td>\n",
       "      <td>August 3 2018</td>\n",
       "      <td>Warner Bros.</td>\n",
       "      <td>Rap</td>\n",
       "      <td>0.624846</td>\n",
       "      <td>0.438154</td>\n",
       "      <td>4.153846</td>\n",
       "      <td>-9.456077</td>\n",
       "      <td>0.170246</td>\n",
       "      <td>0.652462</td>\n",
       "      <td>0.012819</td>\n",
       "      <td>0.121131</td>\n",
       "      <td>0.281138</td>\n",
       "      <td>122.121308</td>\n",
       "    </tr>\n",
       "  </tbody>\n",
       "</table>\n",
       "</div>"
      ],
      "text/plain": [
       "           artist                              album        reviewauthor  \\\n",
       "0        Studio 1                           Studio 1      Andy Battaglia   \n",
       "1      John Fahey  The Great Santa Barbara Oil Slick     Mark Richardson   \n",
       "2  Reigning Sound                    Too Much Guitar  Stephen M. Deusner   \n",
       "3  The Red Thread                     After the Last        Chris Dahlen   \n",
       "4      Mac Miller                           Swimming      Evan Rytlewski   \n",
       "\n",
       "   score  releaseyear        reviewdate   recordlabel         genre  \\\n",
       "0    8.5       2009.0  February 18 2009        Studio    Electronic   \n",
       "1    8.2       2005.0  February 13 2005         Water  Folk/Country   \n",
       "2    8.3       2004.0    August 19 2004    In the Red    Electronic   \n",
       "3    7.3       2003.0      July 17 2003        Badman          Rock   \n",
       "4    7.5       2018.0     August 3 2018  Warner Bros.           Rap   \n",
       "\n",
       "   danceability    energy       key   loudness  speechiness  acousticness  \\\n",
       "0      0.511917  0.499667  5.250000  -5.626583     0.031983      0.724917   \n",
       "1      0.369765  0.325412  4.470588 -19.153824     0.148624      0.647053   \n",
       "2      0.253943  0.912857  4.428571  -1.089500     0.055500      0.000253   \n",
       "3      0.425400  0.433474  5.700000 -12.871000     0.028260      0.310325   \n",
       "4      0.624846  0.438154  4.153846  -9.456077     0.170246      0.652462   \n",
       "\n",
       "   instrumentalness  liveness   valence       tempo  \n",
       "0          0.024493  0.165367  0.555083  101.395167  \n",
       "1          0.559133  0.527782  0.179465  107.622647  \n",
       "2          0.751214  0.199071  0.552786  133.895500  \n",
       "3          0.224137  0.125150  0.451400  104.354200  \n",
       "4          0.012819  0.121131  0.281138  122.121308  "
      ]
     },
     "execution_count": 21,
     "metadata": {},
     "output_type": "execute_result"
    }
   ],
   "source": [
    "df.head()"
   ]
  },
  {
   "cell_type": "code",
   "execution_count": 22,
   "id": "bbd4cd94",
   "metadata": {
    "hidden": true
   },
   "outputs": [
    {
     "data": {
      "text/plain": [
       "Rock            6722\n",
       "Electronic      3573\n",
       "Experimental    1647\n",
       "Rap             1617\n",
       "Pop/R&B         1286\n",
       "Metal            754\n",
       "Folk/Country     735\n",
       "Jazz             278\n",
       "Global           161\n",
       "none              11\n",
       "Name: genre, dtype: int64"
      ]
     },
     "execution_count": 22,
     "metadata": {},
     "output_type": "execute_result"
    }
   ],
   "source": [
    "df.genre.value_counts()"
   ]
  },
  {
   "cell_type": "code",
   "execution_count": 23,
   "id": "e3fd7671",
   "metadata": {
    "hidden": true
   },
   "outputs": [
    {
     "data": {
      "text/plain": [
       "Text(0.5, 1.0, 'number of songs by genre')"
      ]
     },
     "execution_count": 23,
     "metadata": {},
     "output_type": "execute_result"
    },
    {
     "data": {
      "image/png": "[encoded data removed]",
      "text/plain": [
       "<Figure size 648x648 with 1 Axes>"
      ]
     },
     "metadata": {},
     "output_type": "display_data"
    }
   ],
   "source": [
    "fig0=plt.figure(figsize=(9,9))\n",
    "df['genre'].value_counts().plot(kind='pie')\n",
    "plt.title(\"number of songs by genre\")"
   ]
  },
  {
   "cell_type": "code",
   "execution_count": 24,
   "id": "04201f9f",
   "metadata": {
    "hidden": true
   },
   "outputs": [
    {
     "data": {
      "text/plain": [
       "<AxesSubplot:xlabel='genre'>"
      ]
     },
     "execution_count": 24,
     "metadata": {},
     "output_type": "execute_result"
    },
    {
     "data": {
      "image/png": "[encoded data removed]",
      "text/plain": [
       "<Figure size 720x432 with 1 Axes>"
      ]
     },
     "metadata": {
      "needs_background": "light"
     },
     "output_type": "display_data"
    }
   ],
   "source": [
    "df1=df.groupby('genre').mean().reset_index()\n",
    "df1.plot(x='genre', y='score')"
   ]
  },
  {
   "attachments": {},
   "cell_type": "markdown",
   "id": "8fca5356",
   "metadata": {},
   "source": [
    "<b>Distribution of score by genres<b>"
   ]
  },
  {
   "cell_type": "code",
   "execution_count": 25,
   "id": "b3fa3700",
   "metadata": {
    "code_folding": [
     0
    ],
    "hidden": true
   },
   "outputs": [
    {
     "data": {
      "image/png": "[encoded data removed]",
      "text/plain": [
       "<Figure size 864x432 with 1 Axes>"
      ]
     },
     "metadata": {
      "needs_background": "light"
     },
     "output_type": "display_data"
    }
   ],
   "source": [
    "g = sns.catplot(\n",
    "    hue='score', \n",
    "    data=df,\n",
    "    kind='count', \n",
    "    x='genre',\n",
    "    palette=[\"cyan\", \"navy\"], \n",
    "    height=6, \n",
    "    aspect=2,\n",
    "    legend=False,\n",
    "    ).set_axis_labels('genre', 'number of albums')\n",
    "#g.ax.legend(labels=['genre','genre'])"
   ]
  },
  {
   "cell_type": "markdown",
   "id": "4d1a8977",
   "metadata": {
    "hidden": true
   },
   "source": [
    "## artist"
   ]
  },
  {
   "cell_type": "code",
   "execution_count": 26,
   "id": "fadebafc",
   "metadata": {
    "hidden": true
   },
   "outputs": [
    {
     "data": {
      "text/plain": [
       "Neil Young               27\n",
       "Bonnie “Prince” Billy    22\n",
       "Animal Collective        21\n",
       "Guided by Voices         20\n",
       "David Bowie              19\n",
       "                         ..\n",
       "Tomb Mold                 1\n",
       "Magnet                    1\n",
       "Captain Beefheart         1\n",
       "Victory at Sea            1\n",
       "Nathan Salsburg           1\n",
       "Name: artist, Length: 7892, dtype: int64"
      ]
     },
     "execution_count": 26,
     "metadata": {},
     "output_type": "execute_result"
    }
   ],
   "source": [
    "df.artist.value_counts()"
   ]
  },
  {
   "cell_type": "code",
   "execution_count": 27,
   "id": "514f83c8",
   "metadata": {
    "hidden": true
   },
   "outputs": [
    {
     "data": {
      "text/plain": [
       "7892"
      ]
     },
     "execution_count": 27,
     "metadata": {},
     "output_type": "execute_result"
    }
   ],
   "source": [
    "len(df.artist.unique())"
   ]
  },
  {
   "cell_type": "markdown",
   "id": "0d5699b6",
   "metadata": {
    "hidden": true
   },
   "source": [
    "## album"
   ]
  },
  {
   "cell_type": "code",
   "execution_count": 28,
   "id": "3fbdbe6c",
   "metadata": {
    "hidden": true
   },
   "outputs": [
    {
     "data": {
      "text/plain": [
       "Confetti        2\n",
       "Radio Amor      2\n",
       "Alter           2\n",
       "In My Mind      2\n",
       "Miniatures      2\n",
       "               ..\n",
       "The Big Bang    2\n",
       "North           2\n",
       "Algiers         2\n",
       "S/T             2\n",
       "Surrounded      2\n",
       "Name: album, Length: 100, dtype: int64"
      ]
     },
     "execution_count": 28,
     "metadata": {},
     "output_type": "execute_result"
    }
   ],
   "source": [
    "df.album.value_counts()[300:400]"
   ]
  },
  {
   "cell_type": "code",
   "execution_count": 29,
   "id": "e2d9ef25",
   "metadata": {
    "hidden": true
   },
   "outputs": [
    {
     "data": {
      "text/plain": [
       "16183"
      ]
     },
     "execution_count": 29,
     "metadata": {},
     "output_type": "execute_result"
    }
   ],
   "source": [
    "len(df.album.unique())"
   ]
  },
  {
   "cell_type": "markdown",
   "id": "fac1921b",
   "metadata": {
    "hidden": true
   },
   "source": [
    "## reviewauthor"
   ]
  },
  {
   "cell_type": "code",
   "execution_count": 30,
   "id": "9ec61fb6",
   "metadata": {
    "hidden": true
   },
   "outputs": [
    {
     "data": {
      "text/plain": [
       "Ian Cohen              690\n",
       "Stephen M. Deusner     595\n",
       "Joe Tangari            563\n",
       "Stuart Berman          476\n",
       "Mark Richardson        449\n",
       "                      ... \n",
       "Sean Stanley             1\n",
       "Marcus Moore             1\n",
       "John Lingan              1\n",
       "Brady Gerber             1\n",
       "Mychal Denzel Smith      1\n",
       "Name: reviewauthor, Length: 554, dtype: int64"
      ]
     },
     "execution_count": 30,
     "metadata": {},
     "output_type": "execute_result"
    }
   ],
   "source": [
    "df.reviewauthor.value_counts()"
   ]
  },
  {
   "cell_type": "code",
   "execution_count": 31,
   "id": "f22cbcea",
   "metadata": {
    "hidden": true
   },
   "outputs": [
    {
     "data": {
      "text/plain": [
       "554"
      ]
     },
     "execution_count": 31,
     "metadata": {},
     "output_type": "execute_result"
    }
   ],
   "source": [
    "len(df.reviewauthor.unique())"
   ]
  },
  {
   "cell_type": "markdown",
   "id": "e8b05f17",
   "metadata": {
    "hidden": true
   },
   "source": [
    "## releaseyear"
   ]
  },
  {
   "cell_type": "code",
   "execution_count": 32,
   "id": "3b19cb71",
   "metadata": {
    "hidden": true
   },
   "outputs": [
    {
     "data": {
      "text/plain": [
       "2018.0    992\n",
       "2016.0    974\n",
       "2017.0    963\n",
       "2015.0    940\n",
       "2019.0    938\n",
       "         ... \n",
       "1962.0      4\n",
       "1963.0      3\n",
       "1957.0      2\n",
       "1960.0      2\n",
       "1959.0      1\n",
       "Name: releaseyear, Length: 61, dtype: int64"
      ]
     },
     "execution_count": 32,
     "metadata": {},
     "output_type": "execute_result"
    }
   ],
   "source": [
    "df.releaseyear.value_counts()"
   ]
  },
  {
   "cell_type": "code",
   "execution_count": 33,
   "id": "fa34d05e",
   "metadata": {},
   "outputs": [
    {
     "data": {
      "text/plain": [
       "<AxesSubplot:>"
      ]
     },
     "execution_count": 33,
     "metadata": {},
     "output_type": "execute_result"
    },
    {
     "data": {
      "image/png": "[encoded data removed]",
      "text/plain": [
       "<Figure size 720x432 with 1 Axes>"
      ]
     },
     "metadata": {
      "needs_background": "light"
     },
     "output_type": "display_data"
    }
   ],
   "source": [
    "df['releaseyear'].hist(bins=20)"
   ]
  },
  {
   "cell_type": "code",
   "execution_count": 34,
   "id": "40b3b06c",
   "metadata": {
    "hidden": true
   },
   "outputs": [
    {
     "data": {
      "text/plain": [
       "<AxesSubplot:xlabel='releaseyear'>"
      ]
     },
     "execution_count": 34,
     "metadata": {},
     "output_type": "execute_result"
    },
    {
     "data": {
      "image/png": "[encoded data removed]",
      "text/plain": [
       "<Figure size 720x432 with 1 Axes>"
      ]
     },
     "metadata": {
      "needs_background": "light"
     },
     "output_type": "display_data"
    }
   ],
   "source": [
    "df1=df.groupby('releaseyear').mean().reset_index()\n",
    "df1.plot(x='releaseyear', y='score')"
   ]
  },
  {
   "cell_type": "markdown",
   "id": "440fd109",
   "metadata": {
    "hidden": true
   },
   "source": [
    "## reviewdate"
   ]
  },
  {
   "cell_type": "code",
   "execution_count": 35,
   "id": "4874858c",
   "metadata": {
    "hidden": true
   },
   "outputs": [
    {
     "data": {
      "text/plain": [
       "March 31 2000      11\n",
       "April 30 2000       9\n",
       "March 31 2001       8\n",
       "May 23 2019         8\n",
       "May 22 2019         8\n",
       "                   ..\n",
       "January 21 2001     1\n",
       "August 23 2000      1\n",
       "October 16 2016     1\n",
       "July 1 2018         1\n",
       "February 2 2007     1\n",
       "Name: reviewdate, Length: 4880, dtype: int64"
      ]
     },
     "execution_count": 35,
     "metadata": {},
     "output_type": "execute_result"
    }
   ],
   "source": [
    "df.reviewdate.value_counts()"
   ]
  },
  {
   "cell_type": "markdown",
   "id": "3981a015",
   "metadata": {
    "hidden": true
   },
   "source": [
    "## recordlabel"
   ]
  },
  {
   "cell_type": "code",
   "execution_count": 36,
   "id": "273fa624",
   "metadata": {
    "hidden": true
   },
   "outputs": [
    {
     "data": {
      "text/plain": [
       "none                         602\n",
       "Self-released                333\n",
       "Sub Pop                      264\n",
       "Merge                        227\n",
       "Domino                       212\n",
       "                            ... \n",
       "Phthalo                        1\n",
       " Daydream Library Series       1\n",
       "Stinky                         1\n",
       "AraabMuzik Label Group         1\n",
       "Stereo Vision                  1\n",
       "Name: recordlabel, Length: 3034, dtype: int64"
      ]
     },
     "execution_count": 36,
     "metadata": {},
     "output_type": "execute_result"
    }
   ],
   "source": [
    "df.recordlabel.value_counts()"
   ]
  },
  {
   "cell_type": "code",
   "execution_count": 37,
   "id": "46a875ba",
   "metadata": {
    "hidden": true
   },
   "outputs": [
    {
     "data": {
      "text/plain": [
       "3034"
      ]
     },
     "execution_count": 37,
     "metadata": {},
     "output_type": "execute_result"
    }
   ],
   "source": [
    "len(df.recordlabel.unique())"
   ]
  },
  {
   "cell_type": "markdown",
   "id": "a7697945",
   "metadata": {
    "hidden": true
   },
   "source": [
    "## Numeric columns"
   ]
  },
  {
   "cell_type": "code",
   "execution_count": 38,
   "id": "30b9cb8e",
   "metadata": {
    "hidden": true
   },
   "outputs": [
    {
     "data": {
      "image/png": "[encoded data removed]",
      "text/plain": [
       "<Figure size 864x720 with 2 Axes>"
      ]
     },
     "metadata": {},
     "output_type": "display_data"
    }
   ],
   "source": [
    "correlation_matrix(df[numeric_column_list].corr(), cm)"
   ]
  },
  {
   "cell_type": "markdown",
   "id": "b9dde13a",
   "metadata": {},
   "source": [
    "<b>score analysis against the numeric features<b>"
   ]
  },
  {
   "cell_type": "code",
   "execution_count": 39,
   "id": "648ffcfc",
   "metadata": {},
   "outputs": [
    {
     "data": {
      "text/plain": [
       "<AxesSubplot:xlabel='loudness'>"
      ]
     },
     "execution_count": 39,
     "metadata": {},
     "output_type": "execute_result"
    },
    {
     "data": {
      "image/png": "[encoded data removed]",
      "text/plain": [
       "<Figure size 720x432 with 1 Axes>"
      ]
     },
     "metadata": {
      "needs_background": "light"
     },
     "output_type": "display_data"
    }
   ],
   "source": [
    "df1=df.groupby('loudness').mean().reset_index()\n",
    "df1.plot(x='loudness', y='score')"
   ]
  },
  {
   "cell_type": "code",
   "execution_count": 40,
   "id": "f90d5976",
   "metadata": {},
   "outputs": [
    {
     "data": {
      "text/plain": [
       "<AxesSubplot:xlabel='tempo'>"
      ]
     },
     "execution_count": 40,
     "metadata": {},
     "output_type": "execute_result"
    },
    {
     "data": {
      "image/png": "[encoded data removed]",
      "text/plain": [
       "<Figure size 720x432 with 1 Axes>"
      ]
     },
     "metadata": {
      "needs_background": "light"
     },
     "output_type": "display_data"
    }
   ],
   "source": [
    "df1=df.groupby('tempo').mean().reset_index()\n",
    "df1.plot(x='tempo', y='score')"
   ]
  },
  {
   "cell_type": "code",
   "execution_count": 41,
   "id": "f9212e26",
   "metadata": {},
   "outputs": [
    {
     "data": {
      "text/plain": [
       "<mpl_toolkits.mplot3d.art3d.Path3DCollection at 0x204d9196a00>"
      ]
     },
     "execution_count": 41,
     "metadata": {},
     "output_type": "execute_result"
    },
    {
     "data": {
      "image/png": "[encoded data removed]",
      "text/plain": [
       "<Figure size 720x432 with 1 Axes>"
      ]
     },
     "metadata": {
      "needs_background": "light"
     },
     "output_type": "display_data"
    }
   ],
   "source": [
    "ax= plt.axes(projection='3d')\n",
    "\n",
    "xdata= df.energy\n",
    "ydata=df.loudness\n",
    "zdata=df.score\n",
    "\n",
    "plt.xlabel('speechiness')\n",
    "plt.ylabel('instrumentalness')\n",
    "\n",
    "ax.scatter3D(xdata,ydata,zdata,c=zdata)"
   ]
  },
  {
   "cell_type": "markdown",
   "id": "dcd97c69",
   "metadata": {},
   "source": [
    "# Data Processing"
   ]
  },
  {
   "cell_type": "code",
   "execution_count": 42,
   "id": "67e9ea95",
   "metadata": {},
   "outputs": [],
   "source": [
    "preprocess_column_list = ['artist', 'album','reviewauthor']\n",
    "numeric_column_list = ['danceability', 'energy', 'key', 'loudness',\n",
    "       'speechiness', 'acousticness', 'instrumentalness', 'liveness',\n",
    "       'valence', 'tempo']\n",
    "categoric_column_list = ['genre','releaseyear']\n",
    "target_column_list = ['score']"
   ]
  },
  {
   "cell_type": "code",
   "execution_count": 43,
   "id": "c38ce90d",
   "metadata": {},
   "outputs": [
    {
     "name": "stdout",
     "output_type": "stream",
     "text": [
      "<class 'pandas.core.frame.DataFrame'>\n",
      "RangeIndex: 16784 entries, 0 to 16783\n",
      "Data columns (total 18 columns):\n",
      " #   Column            Non-Null Count  Dtype  \n",
      "---  ------            --------------  -----  \n",
      " 0   artist            16784 non-null  object \n",
      " 1   album             16784 non-null  object \n",
      " 2   reviewauthor      16784 non-null  object \n",
      " 3   score             16784 non-null  float64\n",
      " 4   releaseyear       16784 non-null  float64\n",
      " 5   reviewdate        16784 non-null  object \n",
      " 6   recordlabel       16784 non-null  object \n",
      " 7   genre             16784 non-null  object \n",
      " 8   danceability      16784 non-null  float64\n",
      " 9   energy            16784 non-null  float64\n",
      " 10  key               16784 non-null  float64\n",
      " 11  loudness          16784 non-null  float64\n",
      " 12  speechiness       16784 non-null  float64\n",
      " 13  acousticness      16784 non-null  float64\n",
      " 14  instrumentalness  16784 non-null  float64\n",
      " 15  liveness          16784 non-null  float64\n",
      " 16  valence           16784 non-null  float64\n",
      " 17  tempo             16784 non-null  float64\n",
      "dtypes: float64(12), object(6)\n",
      "memory usage: 2.3+ MB\n"
     ]
    }
   ],
   "source": [
    "df.info()"
   ]
  },
  {
   "cell_type": "code",
   "execution_count": 44,
   "id": "d2ce18e7",
   "metadata": {},
   "outputs": [],
   "source": [
    "df_01 = df.copy()"
   ]
  },
  {
   "cell_type": "code",
   "execution_count": 45,
   "id": "8592e9fa",
   "metadata": {},
   "outputs": [],
   "source": [
    "df_01.rename(columns={'releaseyear': 'years_since'}, inplace=True)\n",
    "t=2022\n",
    "df_01['years_since']=t-df_01['years_since']\n"
   ]
  },
  {
   "cell_type": "markdown",
   "id": "ea9b56d2",
   "metadata": {},
   "source": [
    "<b>artists</b>"
   ]
  },
  {
   "cell_type": "code",
   "execution_count": 46,
   "id": "727f55e7",
   "metadata": {},
   "outputs": [
    {
     "data": {
      "text/plain": [
       "(7892,)"
      ]
     },
     "execution_count": 46,
     "metadata": {},
     "output_type": "execute_result"
    }
   ],
   "source": [
    "dups_artists = df_01.pivot_table(columns=['artist'], aggfunc='size')\n",
    "dups_artists.shape"
   ]
  },
  {
   "cell_type": "code",
   "execution_count": 47,
   "id": "6e9ba771",
   "metadata": {},
   "outputs": [],
   "source": [
    "artists_df=pd.DataFrame({'artist':dups_artists.index, 'number_of_albums':dups_artists.values})"
   ]
  },
  {
   "cell_type": "code",
   "execution_count": 48,
   "id": "eaf77e55",
   "metadata": {},
   "outputs": [],
   "source": [
    "#artists_df.head()"
   ]
  },
  {
   "cell_type": "code",
   "execution_count": 49,
   "id": "376fbd95",
   "metadata": {},
   "outputs": [],
   "source": [
    "df_01= df_01.join(artists_df.set_index('artist'), on='artist')"
   ]
  },
  {
   "cell_type": "code",
   "execution_count": 50,
   "id": "8ebca4ee",
   "metadata": {},
   "outputs": [
    {
     "name": "stdout",
     "output_type": "stream",
     "text": [
      "<class 'pandas.core.frame.DataFrame'>\n",
      "RangeIndex: 16784 entries, 0 to 16783\n",
      "Data columns (total 19 columns):\n",
      " #   Column            Non-Null Count  Dtype  \n",
      "---  ------            --------------  -----  \n",
      " 0   artist            16784 non-null  object \n",
      " 1   album             16784 non-null  object \n",
      " 2   reviewauthor      16784 non-null  object \n",
      " 3   score             16784 non-null  float64\n",
      " 4   years_since       16784 non-null  float64\n",
      " 5   reviewdate        16784 non-null  object \n",
      " 6   recordlabel       16784 non-null  object \n",
      " 7   genre             16784 non-null  object \n",
      " 8   danceability      16784 non-null  float64\n",
      " 9   energy            16784 non-null  float64\n",
      " 10  key               16784 non-null  float64\n",
      " 11  loudness          16784 non-null  float64\n",
      " 12  speechiness       16784 non-null  float64\n",
      " 13  acousticness      16784 non-null  float64\n",
      " 14  instrumentalness  16784 non-null  float64\n",
      " 15  liveness          16784 non-null  float64\n",
      " 16  valence           16784 non-null  float64\n",
      " 17  tempo             16784 non-null  float64\n",
      " 18  number_of_albums  16784 non-null  int64  \n",
      "dtypes: float64(12), int64(1), object(6)\n",
      "memory usage: 2.4+ MB\n"
     ]
    }
   ],
   "source": [
    "df_01.info()"
   ]
  },
  {
   "cell_type": "markdown",
   "id": "59250705",
   "metadata": {},
   "source": [
    "<b>album</b>"
   ]
  },
  {
   "cell_type": "code",
   "execution_count": 51,
   "id": "df6bf895",
   "metadata": {},
   "outputs": [],
   "source": [
    "dups_album = df_01.pivot_table(columns=['album'], aggfunc='size')\n",
    "album_df=pd.DataFrame({'album':dups_album.index, 'number_of_dups':dups_album.values})\n",
    "df_01= df_01.join(album_df.set_index('album'), on='album')"
   ]
  },
  {
   "cell_type": "code",
   "execution_count": 52,
   "id": "2704f0ab",
   "metadata": {},
   "outputs": [
    {
     "data": {
      "text/plain": [
       "1     15742\n",
       "2       738\n",
       "3       132\n",
       "4        52\n",
       "5        35\n",
       "26       26\n",
       "6        24\n",
       "18       18\n",
       "10       10\n",
       "7         7\n",
       "Name: number_of_dups, dtype: int64"
      ]
     },
     "execution_count": 52,
     "metadata": {},
     "output_type": "execute_result"
    }
   ],
   "source": [
    "df_01.number_of_dups.value_counts()"
   ]
  },
  {
   "cell_type": "markdown",
   "id": "5b8cb484",
   "metadata": {},
   "source": [
    "<b>reviewauthor</b>"
   ]
  },
  {
   "cell_type": "code",
   "execution_count": 53,
   "id": "a559efd3",
   "metadata": {},
   "outputs": [],
   "source": [
    "df_01 = df_01.drop([\"reviewdate\",\"recordlabel\",'artist','album','reviewauthor'], axis=1)"
   ]
  },
  {
   "cell_type": "code",
   "execution_count": 54,
   "id": "1c4189d8",
   "metadata": {},
   "outputs": [
    {
     "data": {
      "text/html": [
       "<div>\n",
       "<style scoped>\n",
       "    .dataframe tbody tr th:only-of-type {\n",
       "        vertical-align: middle;\n",
       "    }\n",
       "\n",
       "    .dataframe tbody tr th {\n",
       "        vertical-align: top;\n",
       "    }\n",
       "\n",
       "    .dataframe thead th {\n",
       "        text-align: right;\n",
       "    }\n",
       "</style>\n",
       "<table border=\"1\" class=\"dataframe\">\n",
       "  <thead>\n",
       "    <tr style=\"text-align: right;\">\n",
       "      <th></th>\n",
       "      <th>0</th>\n",
       "      <th>1</th>\n",
       "      <th>2</th>\n",
       "      <th>3</th>\n",
       "      <th>4</th>\n",
       "    </tr>\n",
       "  </thead>\n",
       "  <tbody>\n",
       "    <tr>\n",
       "      <th>score</th>\n",
       "      <td>8.5</td>\n",
       "      <td>8.2</td>\n",
       "      <td>8.3</td>\n",
       "      <td>7.3</td>\n",
       "      <td>7.5</td>\n",
       "    </tr>\n",
       "    <tr>\n",
       "      <th>years_since</th>\n",
       "      <td>13.0</td>\n",
       "      <td>17.0</td>\n",
       "      <td>18.0</td>\n",
       "      <td>19.0</td>\n",
       "      <td>4.0</td>\n",
       "    </tr>\n",
       "    <tr>\n",
       "      <th>genre</th>\n",
       "      <td>Electronic</td>\n",
       "      <td>Folk/Country</td>\n",
       "      <td>Electronic</td>\n",
       "      <td>Rock</td>\n",
       "      <td>Rap</td>\n",
       "    </tr>\n",
       "    <tr>\n",
       "      <th>danceability</th>\n",
       "      <td>0.511917</td>\n",
       "      <td>0.369765</td>\n",
       "      <td>0.253943</td>\n",
       "      <td>0.4254</td>\n",
       "      <td>0.624846</td>\n",
       "    </tr>\n",
       "    <tr>\n",
       "      <th>energy</th>\n",
       "      <td>0.499667</td>\n",
       "      <td>0.325412</td>\n",
       "      <td>0.912857</td>\n",
       "      <td>0.433474</td>\n",
       "      <td>0.438154</td>\n",
       "    </tr>\n",
       "    <tr>\n",
       "      <th>key</th>\n",
       "      <td>5.25</td>\n",
       "      <td>4.470588</td>\n",
       "      <td>4.428571</td>\n",
       "      <td>5.7</td>\n",
       "      <td>4.153846</td>\n",
       "    </tr>\n",
       "    <tr>\n",
       "      <th>loudness</th>\n",
       "      <td>-5.626583</td>\n",
       "      <td>-19.153824</td>\n",
       "      <td>-1.0895</td>\n",
       "      <td>-12.871</td>\n",
       "      <td>-9.456077</td>\n",
       "    </tr>\n",
       "    <tr>\n",
       "      <th>speechiness</th>\n",
       "      <td>0.031983</td>\n",
       "      <td>0.148624</td>\n",
       "      <td>0.0555</td>\n",
       "      <td>0.02826</td>\n",
       "      <td>0.170246</td>\n",
       "    </tr>\n",
       "    <tr>\n",
       "      <th>acousticness</th>\n",
       "      <td>0.724917</td>\n",
       "      <td>0.647053</td>\n",
       "      <td>0.000253</td>\n",
       "      <td>0.310325</td>\n",
       "      <td>0.652462</td>\n",
       "    </tr>\n",
       "    <tr>\n",
       "      <th>instrumentalness</th>\n",
       "      <td>0.024493</td>\n",
       "      <td>0.559133</td>\n",
       "      <td>0.751214</td>\n",
       "      <td>0.224137</td>\n",
       "      <td>0.012819</td>\n",
       "    </tr>\n",
       "    <tr>\n",
       "      <th>liveness</th>\n",
       "      <td>0.165367</td>\n",
       "      <td>0.527782</td>\n",
       "      <td>0.199071</td>\n",
       "      <td>0.12515</td>\n",
       "      <td>0.121131</td>\n",
       "    </tr>\n",
       "    <tr>\n",
       "      <th>valence</th>\n",
       "      <td>0.555083</td>\n",
       "      <td>0.179465</td>\n",
       "      <td>0.552786</td>\n",
       "      <td>0.4514</td>\n",
       "      <td>0.281138</td>\n",
       "    </tr>\n",
       "    <tr>\n",
       "      <th>tempo</th>\n",
       "      <td>101.395167</td>\n",
       "      <td>107.622647</td>\n",
       "      <td>133.8955</td>\n",
       "      <td>104.3542</td>\n",
       "      <td>122.121308</td>\n",
       "    </tr>\n",
       "    <tr>\n",
       "      <th>number_of_albums</th>\n",
       "      <td>1</td>\n",
       "      <td>4</td>\n",
       "      <td>4</td>\n",
       "      <td>1</td>\n",
       "      <td>5</td>\n",
       "    </tr>\n",
       "    <tr>\n",
       "      <th>number_of_dups</th>\n",
       "      <td>1</td>\n",
       "      <td>1</td>\n",
       "      <td>1</td>\n",
       "      <td>1</td>\n",
       "      <td>2</td>\n",
       "    </tr>\n",
       "  </tbody>\n",
       "</table>\n",
       "</div>"
      ],
      "text/plain": [
       "                           0             1           2         3           4\n",
       "score                    8.5           8.2         8.3       7.3         7.5\n",
       "years_since             13.0          17.0        18.0      19.0         4.0\n",
       "genre             Electronic  Folk/Country  Electronic      Rock         Rap\n",
       "danceability        0.511917      0.369765    0.253943    0.4254    0.624846\n",
       "energy              0.499667      0.325412    0.912857  0.433474    0.438154\n",
       "key                     5.25      4.470588    4.428571       5.7    4.153846\n",
       "loudness           -5.626583    -19.153824     -1.0895   -12.871   -9.456077\n",
       "speechiness         0.031983      0.148624      0.0555   0.02826    0.170246\n",
       "acousticness        0.724917      0.647053    0.000253  0.310325    0.652462\n",
       "instrumentalness    0.024493      0.559133    0.751214  0.224137    0.012819\n",
       "liveness            0.165367      0.527782    0.199071   0.12515    0.121131\n",
       "valence             0.555083      0.179465    0.552786    0.4514    0.281138\n",
       "tempo             101.395167    107.622647    133.8955  104.3542  122.121308\n",
       "number_of_albums           1             4           4         1           5\n",
       "number_of_dups             1             1           1         1           2"
      ]
     },
     "execution_count": 54,
     "metadata": {},
     "output_type": "execute_result"
    }
   ],
   "source": [
    "df_01.head().T"
   ]
  },
  {
   "cell_type": "code",
   "execution_count": 55,
   "id": "8e3f455e",
   "metadata": {},
   "outputs": [],
   "source": [
    "#creating a copy of df_01 without dummies\n",
    "df_02=df_01"
   ]
  },
  {
   "cell_type": "markdown",
   "id": "a8d2b07c",
   "metadata": {},
   "source": [
    "<b>genre</b>"
   ]
  },
  {
   "cell_type": "code",
   "execution_count": 56,
   "id": "cfcf44f6",
   "metadata": {},
   "outputs": [
    {
     "data": {
      "text/html": [
       "<div>\n",
       "<style scoped>\n",
       "    .dataframe tbody tr th:only-of-type {\n",
       "        vertical-align: middle;\n",
       "    }\n",
       "\n",
       "    .dataframe tbody tr th {\n",
       "        vertical-align: top;\n",
       "    }\n",
       "\n",
       "    .dataframe thead th {\n",
       "        text-align: right;\n",
       "    }\n",
       "</style>\n",
       "<table border=\"1\" class=\"dataframe\">\n",
       "  <thead>\n",
       "    <tr style=\"text-align: right;\">\n",
       "      <th></th>\n",
       "      <th>score</th>\n",
       "      <th>years_since</th>\n",
       "      <th>danceability</th>\n",
       "      <th>energy</th>\n",
       "      <th>key</th>\n",
       "      <th>loudness</th>\n",
       "      <th>speechiness</th>\n",
       "      <th>acousticness</th>\n",
       "      <th>instrumentalness</th>\n",
       "      <th>liveness</th>\n",
       "      <th>valence</th>\n",
       "      <th>tempo</th>\n",
       "      <th>number_of_albums</th>\n",
       "      <th>number_of_dups</th>\n",
       "      <th>genre_Electronic</th>\n",
       "      <th>genre_Experimental</th>\n",
       "      <th>genre_Folk/Country</th>\n",
       "      <th>genre_Global</th>\n",
       "      <th>genre_Jazz</th>\n",
       "      <th>genre_Metal</th>\n",
       "      <th>genre_Pop/R&amp;B</th>\n",
       "      <th>genre_Rap</th>\n",
       "      <th>genre_Rock</th>\n",
       "      <th>genre_none</th>\n",
       "    </tr>\n",
       "  </thead>\n",
       "  <tbody>\n",
       "    <tr>\n",
       "      <th>0</th>\n",
       "      <td>8.5</td>\n",
       "      <td>13.0</td>\n",
       "      <td>0.511917</td>\n",
       "      <td>0.499667</td>\n",
       "      <td>5.250000</td>\n",
       "      <td>-5.626583</td>\n",
       "      <td>0.031983</td>\n",
       "      <td>0.724917</td>\n",
       "      <td>0.024493</td>\n",
       "      <td>0.165367</td>\n",
       "      <td>0.555083</td>\n",
       "      <td>101.395167</td>\n",
       "      <td>1</td>\n",
       "      <td>1</td>\n",
       "      <td>1</td>\n",
       "      <td>0</td>\n",
       "      <td>0</td>\n",
       "      <td>0</td>\n",
       "      <td>0</td>\n",
       "      <td>0</td>\n",
       "      <td>0</td>\n",
       "      <td>0</td>\n",
       "      <td>0</td>\n",
       "      <td>0</td>\n",
       "    </tr>\n",
       "    <tr>\n",
       "      <th>1</th>\n",
       "      <td>8.2</td>\n",
       "      <td>17.0</td>\n",
       "      <td>0.369765</td>\n",
       "      <td>0.325412</td>\n",
       "      <td>4.470588</td>\n",
       "      <td>-19.153824</td>\n",
       "      <td>0.148624</td>\n",
       "      <td>0.647053</td>\n",
       "      <td>0.559133</td>\n",
       "      <td>0.527782</td>\n",
       "      <td>0.179465</td>\n",
       "      <td>107.622647</td>\n",
       "      <td>4</td>\n",
       "      <td>1</td>\n",
       "      <td>0</td>\n",
       "      <td>0</td>\n",
       "      <td>1</td>\n",
       "      <td>0</td>\n",
       "      <td>0</td>\n",
       "      <td>0</td>\n",
       "      <td>0</td>\n",
       "      <td>0</td>\n",
       "      <td>0</td>\n",
       "      <td>0</td>\n",
       "    </tr>\n",
       "    <tr>\n",
       "      <th>2</th>\n",
       "      <td>8.3</td>\n",
       "      <td>18.0</td>\n",
       "      <td>0.253943</td>\n",
       "      <td>0.912857</td>\n",
       "      <td>4.428571</td>\n",
       "      <td>-1.089500</td>\n",
       "      <td>0.055500</td>\n",
       "      <td>0.000253</td>\n",
       "      <td>0.751214</td>\n",
       "      <td>0.199071</td>\n",
       "      <td>0.552786</td>\n",
       "      <td>133.895500</td>\n",
       "      <td>4</td>\n",
       "      <td>1</td>\n",
       "      <td>1</td>\n",
       "      <td>0</td>\n",
       "      <td>0</td>\n",
       "      <td>0</td>\n",
       "      <td>0</td>\n",
       "      <td>0</td>\n",
       "      <td>0</td>\n",
       "      <td>0</td>\n",
       "      <td>0</td>\n",
       "      <td>0</td>\n",
       "    </tr>\n",
       "    <tr>\n",
       "      <th>3</th>\n",
       "      <td>7.3</td>\n",
       "      <td>19.0</td>\n",
       "      <td>0.425400</td>\n",
       "      <td>0.433474</td>\n",
       "      <td>5.700000</td>\n",
       "      <td>-12.871000</td>\n",
       "      <td>0.028260</td>\n",
       "      <td>0.310325</td>\n",
       "      <td>0.224137</td>\n",
       "      <td>0.125150</td>\n",
       "      <td>0.451400</td>\n",
       "      <td>104.354200</td>\n",
       "      <td>1</td>\n",
       "      <td>1</td>\n",
       "      <td>0</td>\n",
       "      <td>0</td>\n",
       "      <td>0</td>\n",
       "      <td>0</td>\n",
       "      <td>0</td>\n",
       "      <td>0</td>\n",
       "      <td>0</td>\n",
       "      <td>0</td>\n",
       "      <td>1</td>\n",
       "      <td>0</td>\n",
       "    </tr>\n",
       "    <tr>\n",
       "      <th>4</th>\n",
       "      <td>7.5</td>\n",
       "      <td>4.0</td>\n",
       "      <td>0.624846</td>\n",
       "      <td>0.438154</td>\n",
       "      <td>4.153846</td>\n",
       "      <td>-9.456077</td>\n",
       "      <td>0.170246</td>\n",
       "      <td>0.652462</td>\n",
       "      <td>0.012819</td>\n",
       "      <td>0.121131</td>\n",
       "      <td>0.281138</td>\n",
       "      <td>122.121308</td>\n",
       "      <td>5</td>\n",
       "      <td>2</td>\n",
       "      <td>0</td>\n",
       "      <td>0</td>\n",
       "      <td>0</td>\n",
       "      <td>0</td>\n",
       "      <td>0</td>\n",
       "      <td>0</td>\n",
       "      <td>0</td>\n",
       "      <td>1</td>\n",
       "      <td>0</td>\n",
       "      <td>0</td>\n",
       "    </tr>\n",
       "  </tbody>\n",
       "</table>\n",
       "</div>"
      ],
      "text/plain": [
       "   score  years_since  danceability    energy       key   loudness  \\\n",
       "0    8.5         13.0      0.511917  0.499667  5.250000  -5.626583   \n",
       "1    8.2         17.0      0.369765  0.325412  4.470588 -19.153824   \n",
       "2    8.3         18.0      0.253943  0.912857  4.428571  -1.089500   \n",
       "3    7.3         19.0      0.425400  0.433474  5.700000 -12.871000   \n",
       "4    7.5          4.0      0.624846  0.438154  4.153846  -9.456077   \n",
       "\n",
       "   speechiness  acousticness  instrumentalness  liveness   valence  \\\n",
       "0     0.031983      0.724917          0.024493  0.165367  0.555083   \n",
       "1     0.148624      0.647053          0.559133  0.527782  0.179465   \n",
       "2     0.055500      0.000253          0.751214  0.199071  0.552786   \n",
       "3     0.028260      0.310325          0.224137  0.125150  0.451400   \n",
       "4     0.170246      0.652462          0.012819  0.121131  0.281138   \n",
       "\n",
       "        tempo  number_of_albums  number_of_dups  genre_Electronic  \\\n",
       "0  101.395167                 1               1                 1   \n",
       "1  107.622647                 4               1                 0   \n",
       "2  133.895500                 4               1                 1   \n",
       "3  104.354200                 1               1                 0   \n",
       "4  122.121308                 5               2                 0   \n",
       "\n",
       "   genre_Experimental  genre_Folk/Country  genre_Global  genre_Jazz  \\\n",
       "0                   0                   0             0           0   \n",
       "1                   0                   1             0           0   \n",
       "2                   0                   0             0           0   \n",
       "3                   0                   0             0           0   \n",
       "4                   0                   0             0           0   \n",
       "\n",
       "   genre_Metal  genre_Pop/R&B  genre_Rap  genre_Rock  genre_none  \n",
       "0            0              0          0           0           0  \n",
       "1            0              0          0           0           0  \n",
       "2            0              0          0           0           0  \n",
       "3            0              0          0           1           0  \n",
       "4            0              0          1           0           0  "
      ]
     },
     "execution_count": 56,
     "metadata": {},
     "output_type": "execute_result"
    }
   ],
   "source": [
    "df_01=pd.get_dummies(df_01,columns=['genre'],prefix=['genre'])\n",
    "df_01.head()"
   ]
  },
  {
   "cell_type": "markdown",
   "id": "2b0e1c0c",
   "metadata": {},
   "source": [
    "# Linear models"
   ]
  },
  {
   "cell_type": "markdown",
   "id": "7d32ba92",
   "metadata": {
    "heading_collapsed": true
   },
   "source": [
    "## Regession model of score"
   ]
  },
  {
   "cell_type": "code",
   "execution_count": 57,
   "id": "441825e4",
   "metadata": {
    "hidden": true
   },
   "outputs": [
    {
     "data": {
      "text/html": [
       "<div>\n",
       "<style scoped>\n",
       "    .dataframe tbody tr th:only-of-type {\n",
       "        vertical-align: middle;\n",
       "    }\n",
       "\n",
       "    .dataframe tbody tr th {\n",
       "        vertical-align: top;\n",
       "    }\n",
       "\n",
       "    .dataframe thead th {\n",
       "        text-align: right;\n",
       "    }\n",
       "</style>\n",
       "<table border=\"1\" class=\"dataframe\">\n",
       "  <thead>\n",
       "    <tr style=\"text-align: right;\">\n",
       "      <th></th>\n",
       "      <th>score</th>\n",
       "      <th>years_since</th>\n",
       "      <th>danceability</th>\n",
       "      <th>energy</th>\n",
       "      <th>key</th>\n",
       "      <th>loudness</th>\n",
       "      <th>speechiness</th>\n",
       "      <th>acousticness</th>\n",
       "      <th>instrumentalness</th>\n",
       "      <th>liveness</th>\n",
       "      <th>valence</th>\n",
       "      <th>tempo</th>\n",
       "      <th>number_of_albums</th>\n",
       "      <th>number_of_dups</th>\n",
       "      <th>genre_Electronic</th>\n",
       "      <th>genre_Experimental</th>\n",
       "      <th>genre_Folk/Country</th>\n",
       "      <th>genre_Global</th>\n",
       "      <th>genre_Jazz</th>\n",
       "      <th>genre_Metal</th>\n",
       "      <th>genre_Pop/R&amp;B</th>\n",
       "      <th>genre_Rap</th>\n",
       "      <th>genre_Rock</th>\n",
       "      <th>genre_none</th>\n",
       "    </tr>\n",
       "  </thead>\n",
       "  <tbody>\n",
       "    <tr>\n",
       "      <th>0</th>\n",
       "      <td>8.5</td>\n",
       "      <td>13.0</td>\n",
       "      <td>0.511917</td>\n",
       "      <td>0.499667</td>\n",
       "      <td>5.250000</td>\n",
       "      <td>-5.626583</td>\n",
       "      <td>0.031983</td>\n",
       "      <td>0.724917</td>\n",
       "      <td>0.024493</td>\n",
       "      <td>0.165367</td>\n",
       "      <td>0.555083</td>\n",
       "      <td>101.395167</td>\n",
       "      <td>1</td>\n",
       "      <td>1</td>\n",
       "      <td>1</td>\n",
       "      <td>0</td>\n",
       "      <td>0</td>\n",
       "      <td>0</td>\n",
       "      <td>0</td>\n",
       "      <td>0</td>\n",
       "      <td>0</td>\n",
       "      <td>0</td>\n",
       "      <td>0</td>\n",
       "      <td>0</td>\n",
       "    </tr>\n",
       "    <tr>\n",
       "      <th>1</th>\n",
       "      <td>8.2</td>\n",
       "      <td>17.0</td>\n",
       "      <td>0.369765</td>\n",
       "      <td>0.325412</td>\n",
       "      <td>4.470588</td>\n",
       "      <td>-19.153824</td>\n",
       "      <td>0.148624</td>\n",
       "      <td>0.647053</td>\n",
       "      <td>0.559133</td>\n",
       "      <td>0.527782</td>\n",
       "      <td>0.179465</td>\n",
       "      <td>107.622647</td>\n",
       "      <td>4</td>\n",
       "      <td>1</td>\n",
       "      <td>0</td>\n",
       "      <td>0</td>\n",
       "      <td>1</td>\n",
       "      <td>0</td>\n",
       "      <td>0</td>\n",
       "      <td>0</td>\n",
       "      <td>0</td>\n",
       "      <td>0</td>\n",
       "      <td>0</td>\n",
       "      <td>0</td>\n",
       "    </tr>\n",
       "    <tr>\n",
       "      <th>2</th>\n",
       "      <td>8.3</td>\n",
       "      <td>18.0</td>\n",
       "      <td>0.253943</td>\n",
       "      <td>0.912857</td>\n",
       "      <td>4.428571</td>\n",
       "      <td>-1.089500</td>\n",
       "      <td>0.055500</td>\n",
       "      <td>0.000253</td>\n",
       "      <td>0.751214</td>\n",
       "      <td>0.199071</td>\n",
       "      <td>0.552786</td>\n",
       "      <td>133.895500</td>\n",
       "      <td>4</td>\n",
       "      <td>1</td>\n",
       "      <td>1</td>\n",
       "      <td>0</td>\n",
       "      <td>0</td>\n",
       "      <td>0</td>\n",
       "      <td>0</td>\n",
       "      <td>0</td>\n",
       "      <td>0</td>\n",
       "      <td>0</td>\n",
       "      <td>0</td>\n",
       "      <td>0</td>\n",
       "    </tr>\n",
       "    <tr>\n",
       "      <th>3</th>\n",
       "      <td>7.3</td>\n",
       "      <td>19.0</td>\n",
       "      <td>0.425400</td>\n",
       "      <td>0.433474</td>\n",
       "      <td>5.700000</td>\n",
       "      <td>-12.871000</td>\n",
       "      <td>0.028260</td>\n",
       "      <td>0.310325</td>\n",
       "      <td>0.224137</td>\n",
       "      <td>0.125150</td>\n",
       "      <td>0.451400</td>\n",
       "      <td>104.354200</td>\n",
       "      <td>1</td>\n",
       "      <td>1</td>\n",
       "      <td>0</td>\n",
       "      <td>0</td>\n",
       "      <td>0</td>\n",
       "      <td>0</td>\n",
       "      <td>0</td>\n",
       "      <td>0</td>\n",
       "      <td>0</td>\n",
       "      <td>0</td>\n",
       "      <td>1</td>\n",
       "      <td>0</td>\n",
       "    </tr>\n",
       "    <tr>\n",
       "      <th>4</th>\n",
       "      <td>7.5</td>\n",
       "      <td>4.0</td>\n",
       "      <td>0.624846</td>\n",
       "      <td>0.438154</td>\n",
       "      <td>4.153846</td>\n",
       "      <td>-9.456077</td>\n",
       "      <td>0.170246</td>\n",
       "      <td>0.652462</td>\n",
       "      <td>0.012819</td>\n",
       "      <td>0.121131</td>\n",
       "      <td>0.281138</td>\n",
       "      <td>122.121308</td>\n",
       "      <td>5</td>\n",
       "      <td>2</td>\n",
       "      <td>0</td>\n",
       "      <td>0</td>\n",
       "      <td>0</td>\n",
       "      <td>0</td>\n",
       "      <td>0</td>\n",
       "      <td>0</td>\n",
       "      <td>0</td>\n",
       "      <td>1</td>\n",
       "      <td>0</td>\n",
       "      <td>0</td>\n",
       "    </tr>\n",
       "  </tbody>\n",
       "</table>\n",
       "</div>"
      ],
      "text/plain": [
       "   score  years_since  danceability    energy       key   loudness  \\\n",
       "0    8.5         13.0      0.511917  0.499667  5.250000  -5.626583   \n",
       "1    8.2         17.0      0.369765  0.325412  4.470588 -19.153824   \n",
       "2    8.3         18.0      0.253943  0.912857  4.428571  -1.089500   \n",
       "3    7.3         19.0      0.425400  0.433474  5.700000 -12.871000   \n",
       "4    7.5          4.0      0.624846  0.438154  4.153846  -9.456077   \n",
       "\n",
       "   speechiness  acousticness  instrumentalness  liveness   valence  \\\n",
       "0     0.031983      0.724917          0.024493  0.165367  0.555083   \n",
       "1     0.148624      0.647053          0.559133  0.527782  0.179465   \n",
       "2     0.055500      0.000253          0.751214  0.199071  0.552786   \n",
       "3     0.028260      0.310325          0.224137  0.125150  0.451400   \n",
       "4     0.170246      0.652462          0.012819  0.121131  0.281138   \n",
       "\n",
       "        tempo  number_of_albums  number_of_dups  genre_Electronic  \\\n",
       "0  101.395167                 1               1                 1   \n",
       "1  107.622647                 4               1                 0   \n",
       "2  133.895500                 4               1                 1   \n",
       "3  104.354200                 1               1                 0   \n",
       "4  122.121308                 5               2                 0   \n",
       "\n",
       "   genre_Experimental  genre_Folk/Country  genre_Global  genre_Jazz  \\\n",
       "0                   0                   0             0           0   \n",
       "1                   0                   1             0           0   \n",
       "2                   0                   0             0           0   \n",
       "3                   0                   0             0           0   \n",
       "4                   0                   0             0           0   \n",
       "\n",
       "   genre_Metal  genre_Pop/R&B  genre_Rap  genre_Rock  genre_none  \n",
       "0            0              0          0           0           0  \n",
       "1            0              0          0           0           0  \n",
       "2            0              0          0           0           0  \n",
       "3            0              0          0           1           0  \n",
       "4            0              0          1           0           0  "
      ]
     },
     "execution_count": 57,
     "metadata": {},
     "output_type": "execute_result"
    }
   ],
   "source": [
    "df_01.head()"
   ]
  },
  {
   "cell_type": "code",
   "execution_count": 58,
   "id": "9c5e7c74",
   "metadata": {
    "hidden": true
   },
   "outputs": [
    {
     "data": {
      "text/plain": [
       "((16784,), (16784, 23))"
      ]
     },
     "execution_count": 58,
     "metadata": {},
     "output_type": "execute_result"
    }
   ],
   "source": [
    "y = df_01['score']\n",
    "X = df_01.drop(['score'],axis=1)\n",
    "y.shape, X.shape"
   ]
  },
  {
   "cell_type": "code",
   "execution_count": 59,
   "id": "040e80af",
   "metadata": {
    "hidden": true
   },
   "outputs": [
    {
     "name": "stdout",
     "output_type": "stream",
     "text": [
      "Initial amount of samples: #16784 Number of training samples: #13427 Number of test samples: #3357\n"
     ]
    }
   ],
   "source": [
    "X_train, X_test, y_train, y_test = train_test_split(X, y, test_size=0.2, random_state=42)\n",
    "\n",
    "print(\"Initial amount of samples: #{}\".format(X.shape[0]),\"Number of training samples: #{}\".format(X_train.shape[0]),\"Number of test samples: #{}\".format(X_test.shape[0]))"
   ]
  },
  {
   "cell_type": "code",
   "execution_count": 60,
   "id": "143e10f7",
   "metadata": {
    "hidden": true
   },
   "outputs": [
    {
     "data": {
      "text/plain": [
       "((13427, 23), (3357, 23))"
      ]
     },
     "execution_count": 60,
     "metadata": {},
     "output_type": "execute_result"
    }
   ],
   "source": [
    "scaler = StandardScaler()\n",
    "X_train_scaled = scaler.fit_transform(X_train)\n",
    "X_test_scaled = scaler.transform(X_test)\n",
    "X_train_scaled.shape, X_test_scaled.shape"
   ]
  },
  {
   "cell_type": "code",
   "execution_count": 61,
   "id": "50e4f000",
   "metadata": {
    "hidden": true
   },
   "outputs": [
    {
     "name": "stdout",
     "output_type": "stream",
     "text": [
      "Mean squared error (test): 1.226\n",
      "Mean absolute error (test): 0.904\n",
      "Mean absolute percentage error: 16.846\n",
      "R2_score: 0.043\n"
     ]
    },
    {
     "data": {
      "image/png": "[encoded data removed]",
      "text/plain": [
       "<Figure size 720x432 with 1 Axes>"
      ]
     },
     "metadata": {
      "needs_background": "light"
     },
     "output_type": "display_data"
    }
   ],
   "source": [
    "linear_regression = LinearRegression().fit(X_train_scaled, y_train)\n",
    "predictions = linear_regression.predict(X_test_scaled)\n",
    "true_values = y_test\n",
    "show_regresion_error(predictions, true_values)"
   ]
  },
  {
   "cell_type": "markdown",
   "id": "10c2596a",
   "metadata": {},
   "source": [
    "## Classification models"
   ]
  },
  {
   "cell_type": "markdown",
   "id": "bbe0547c",
   "metadata": {},
   "source": [
    "<b>genre model<b>"
   ]
  },
  {
   "cell_type": "code",
   "execution_count": 62,
   "id": "f6d22021",
   "metadata": {},
   "outputs": [],
   "source": [
    "replace_map = {'none':0,'Rock':1,'Electronic':2,'Rap':3,'Pop/R&B':4,'Metal':5,'Folk/Country':6,'Jazz':7,'Global':8,'Experimental':9}\n",
    "df_02.replace(replace_map, inplace=True)"
   ]
  },
  {
   "cell_type": "code",
   "execution_count": 63,
   "id": "c2027e29",
   "metadata": {},
   "outputs": [
    {
     "data": {
      "text/html": [
       "<div>\n",
       "<style scoped>\n",
       "    .dataframe tbody tr th:only-of-type {\n",
       "        vertical-align: middle;\n",
       "    }\n",
       "\n",
       "    .dataframe tbody tr th {\n",
       "        vertical-align: top;\n",
       "    }\n",
       "\n",
       "    .dataframe thead th {\n",
       "        text-align: right;\n",
       "    }\n",
       "</style>\n",
       "<table border=\"1\" class=\"dataframe\">\n",
       "  <thead>\n",
       "    <tr style=\"text-align: right;\">\n",
       "      <th></th>\n",
       "      <th>0</th>\n",
       "      <th>1</th>\n",
       "      <th>2</th>\n",
       "      <th>3</th>\n",
       "      <th>4</th>\n",
       "    </tr>\n",
       "  </thead>\n",
       "  <tbody>\n",
       "    <tr>\n",
       "      <th>score</th>\n",
       "      <td>8.500000</td>\n",
       "      <td>8.200000</td>\n",
       "      <td>8.300000</td>\n",
       "      <td>7.300000</td>\n",
       "      <td>7.500000</td>\n",
       "    </tr>\n",
       "    <tr>\n",
       "      <th>years_since</th>\n",
       "      <td>13.000000</td>\n",
       "      <td>17.000000</td>\n",
       "      <td>18.000000</td>\n",
       "      <td>19.000000</td>\n",
       "      <td>4.000000</td>\n",
       "    </tr>\n",
       "    <tr>\n",
       "      <th>genre</th>\n",
       "      <td>2.000000</td>\n",
       "      <td>6.000000</td>\n",
       "      <td>2.000000</td>\n",
       "      <td>1.000000</td>\n",
       "      <td>3.000000</td>\n",
       "    </tr>\n",
       "    <tr>\n",
       "      <th>danceability</th>\n",
       "      <td>0.511917</td>\n",
       "      <td>0.369765</td>\n",
       "      <td>0.253943</td>\n",
       "      <td>0.425400</td>\n",
       "      <td>0.624846</td>\n",
       "    </tr>\n",
       "    <tr>\n",
       "      <th>energy</th>\n",
       "      <td>0.499667</td>\n",
       "      <td>0.325412</td>\n",
       "      <td>0.912857</td>\n",
       "      <td>0.433474</td>\n",
       "      <td>0.438154</td>\n",
       "    </tr>\n",
       "    <tr>\n",
       "      <th>key</th>\n",
       "      <td>5.250000</td>\n",
       "      <td>4.470588</td>\n",
       "      <td>4.428571</td>\n",
       "      <td>5.700000</td>\n",
       "      <td>4.153846</td>\n",
       "    </tr>\n",
       "    <tr>\n",
       "      <th>loudness</th>\n",
       "      <td>-5.626583</td>\n",
       "      <td>-19.153824</td>\n",
       "      <td>-1.089500</td>\n",
       "      <td>-12.871000</td>\n",
       "      <td>-9.456077</td>\n",
       "    </tr>\n",
       "    <tr>\n",
       "      <th>speechiness</th>\n",
       "      <td>0.031983</td>\n",
       "      <td>0.148624</td>\n",
       "      <td>0.055500</td>\n",
       "      <td>0.028260</td>\n",
       "      <td>0.170246</td>\n",
       "    </tr>\n",
       "    <tr>\n",
       "      <th>acousticness</th>\n",
       "      <td>0.724917</td>\n",
       "      <td>0.647053</td>\n",
       "      <td>0.000253</td>\n",
       "      <td>0.310325</td>\n",
       "      <td>0.652462</td>\n",
       "    </tr>\n",
       "    <tr>\n",
       "      <th>instrumentalness</th>\n",
       "      <td>0.024493</td>\n",
       "      <td>0.559133</td>\n",
       "      <td>0.751214</td>\n",
       "      <td>0.224137</td>\n",
       "      <td>0.012819</td>\n",
       "    </tr>\n",
       "    <tr>\n",
       "      <th>liveness</th>\n",
       "      <td>0.165367</td>\n",
       "      <td>0.527782</td>\n",
       "      <td>0.199071</td>\n",
       "      <td>0.125150</td>\n",
       "      <td>0.121131</td>\n",
       "    </tr>\n",
       "    <tr>\n",
       "      <th>valence</th>\n",
       "      <td>0.555083</td>\n",
       "      <td>0.179465</td>\n",
       "      <td>0.552786</td>\n",
       "      <td>0.451400</td>\n",
       "      <td>0.281138</td>\n",
       "    </tr>\n",
       "    <tr>\n",
       "      <th>tempo</th>\n",
       "      <td>101.395167</td>\n",
       "      <td>107.622647</td>\n",
       "      <td>133.895500</td>\n",
       "      <td>104.354200</td>\n",
       "      <td>122.121308</td>\n",
       "    </tr>\n",
       "    <tr>\n",
       "      <th>number_of_albums</th>\n",
       "      <td>1.000000</td>\n",
       "      <td>4.000000</td>\n",
       "      <td>4.000000</td>\n",
       "      <td>1.000000</td>\n",
       "      <td>5.000000</td>\n",
       "    </tr>\n",
       "    <tr>\n",
       "      <th>number_of_dups</th>\n",
       "      <td>1.000000</td>\n",
       "      <td>1.000000</td>\n",
       "      <td>1.000000</td>\n",
       "      <td>1.000000</td>\n",
       "      <td>2.000000</td>\n",
       "    </tr>\n",
       "  </tbody>\n",
       "</table>\n",
       "</div>"
      ],
      "text/plain": [
       "                           0           1           2           3           4\n",
       "score               8.500000    8.200000    8.300000    7.300000    7.500000\n",
       "years_since        13.000000   17.000000   18.000000   19.000000    4.000000\n",
       "genre               2.000000    6.000000    2.000000    1.000000    3.000000\n",
       "danceability        0.511917    0.369765    0.253943    0.425400    0.624846\n",
       "energy              0.499667    0.325412    0.912857    0.433474    0.438154\n",
       "key                 5.250000    4.470588    4.428571    5.700000    4.153846\n",
       "loudness           -5.626583  -19.153824   -1.089500  -12.871000   -9.456077\n",
       "speechiness         0.031983    0.148624    0.055500    0.028260    0.170246\n",
       "acousticness        0.724917    0.647053    0.000253    0.310325    0.652462\n",
       "instrumentalness    0.024493    0.559133    0.751214    0.224137    0.012819\n",
       "liveness            0.165367    0.527782    0.199071    0.125150    0.121131\n",
       "valence             0.555083    0.179465    0.552786    0.451400    0.281138\n",
       "tempo             101.395167  107.622647  133.895500  104.354200  122.121308\n",
       "number_of_albums    1.000000    4.000000    4.000000    1.000000    5.000000\n",
       "number_of_dups      1.000000    1.000000    1.000000    1.000000    2.000000"
      ]
     },
     "execution_count": 63,
     "metadata": {},
     "output_type": "execute_result"
    }
   ],
   "source": [
    "df_02.head().T"
   ]
  },
  {
   "cell_type": "code",
   "execution_count": 64,
   "id": "6229de6b",
   "metadata": {},
   "outputs": [
    {
     "data": {
      "text/plain": [
       "((16784,), (16784, 14))"
      ]
     },
     "execution_count": 64,
     "metadata": {},
     "output_type": "execute_result"
    }
   ],
   "source": [
    "y = df_02['genre']\n",
    "X = df_02.drop(['genre'],axis=1)\n",
    "y.shape, X.shape"
   ]
  },
  {
   "cell_type": "code",
   "execution_count": 65,
   "id": "1974e30c",
   "metadata": {},
   "outputs": [
    {
     "name": "stdout",
     "output_type": "stream",
     "text": [
      "Initial amount of samples: #16784 Number of training samples: #13427 Number of test samples: #3357\n"
     ]
    }
   ],
   "source": [
    "X_train, X_test, y_train, y_test = train_test_split(X, y, test_size=0.2, random_state=42)\n",
    "\n",
    "print(\"Initial amount of samples: #{}\".format(X.shape[0]),\"Number of training samples: #{}\".format(X_train.shape[0]),\"Number of test samples: #{}\".format(X_test.shape[0]))\n"
   ]
  },
  {
   "cell_type": "markdown",
   "id": "ebdc810a",
   "metadata": {},
   "source": [
    "### Logistic Regression"
   ]
  },
  {
   "cell_type": "code",
   "execution_count": 66,
   "id": "6a1f2f92",
   "metadata": {},
   "outputs": [],
   "source": [
    "# add hyper parameter for inbalanced classes\n",
    "logistic_model = LogisticRegression(class_weight='balanced')"
   ]
  },
  {
   "cell_type": "code",
   "execution_count": 67,
   "id": "a808fec8",
   "metadata": {},
   "outputs": [],
   "source": [
    "clf_model = LogisticRegression().fit(X_train, y_train)\n",
    "\n",
    "y_pred=clf_model.predict(X_test)"
   ]
  },
  {
   "cell_type": "code",
   "execution_count": 68,
   "id": "0a126241",
   "metadata": {},
   "outputs": [
    {
     "name": "stdout",
     "output_type": "stream",
     "text": [
      "accuracy is 0.41346440274054214\n"
     ]
    }
   ],
   "source": [
    "acc=clf_model.score(X_test,y_test)\n",
    "\n",
    "print(f\"accuracy is {acc}\")"
   ]
  },
  {
   "cell_type": "code",
   "execution_count": 69,
   "id": "a3d01637",
   "metadata": {},
   "outputs": [
    {
     "data": {
      "text/html": [
       "<div>\n",
       "<style scoped>\n",
       "    .dataframe tbody tr th:only-of-type {\n",
       "        vertical-align: middle;\n",
       "    }\n",
       "\n",
       "    .dataframe tbody tr th {\n",
       "        vertical-align: top;\n",
       "    }\n",
       "\n",
       "    .dataframe thead th {\n",
       "        text-align: right;\n",
       "    }\n",
       "</style>\n",
       "<table border=\"1\" class=\"dataframe\">\n",
       "  <thead>\n",
       "    <tr style=\"text-align: right;\">\n",
       "      <th></th>\n",
       "      <th>score</th>\n",
       "      <th>years_since</th>\n",
       "      <th>danceability</th>\n",
       "      <th>energy</th>\n",
       "      <th>key</th>\n",
       "      <th>loudness</th>\n",
       "      <th>speechiness</th>\n",
       "      <th>acousticness</th>\n",
       "      <th>instrumentalness</th>\n",
       "      <th>liveness</th>\n",
       "      <th>valence</th>\n",
       "      <th>tempo</th>\n",
       "      <th>number_of_albums</th>\n",
       "      <th>number_of_dups</th>\n",
       "    </tr>\n",
       "  </thead>\n",
       "  <tbody>\n",
       "    <tr>\n",
       "      <th>10155</th>\n",
       "      <td>7.0</td>\n",
       "      <td>42.0</td>\n",
       "      <td>0.320214</td>\n",
       "      <td>0.967786</td>\n",
       "      <td>6.000000</td>\n",
       "      <td>-3.212000</td>\n",
       "      <td>0.107221</td>\n",
       "      <td>0.343336</td>\n",
       "      <td>0.130231</td>\n",
       "      <td>0.229107</td>\n",
       "      <td>0.625143</td>\n",
       "      <td>136.540000</td>\n",
       "      <td>1</td>\n",
       "      <td>1</td>\n",
       "    </tr>\n",
       "    <tr>\n",
       "      <th>8237</th>\n",
       "      <td>7.2</td>\n",
       "      <td>19.0</td>\n",
       "      <td>0.911000</td>\n",
       "      <td>0.438000</td>\n",
       "      <td>4.000000</td>\n",
       "      <td>-7.423000</td>\n",
       "      <td>0.350000</td>\n",
       "      <td>0.533000</td>\n",
       "      <td>0.000000</td>\n",
       "      <td>0.115000</td>\n",
       "      <td>0.617000</td>\n",
       "      <td>101.000000</td>\n",
       "      <td>1</td>\n",
       "      <td>1</td>\n",
       "    </tr>\n",
       "    <tr>\n",
       "      <th>12563</th>\n",
       "      <td>8.8</td>\n",
       "      <td>7.0</td>\n",
       "      <td>0.684500</td>\n",
       "      <td>0.648050</td>\n",
       "      <td>5.250000</td>\n",
       "      <td>-8.403100</td>\n",
       "      <td>0.300060</td>\n",
       "      <td>0.152778</td>\n",
       "      <td>0.000263</td>\n",
       "      <td>0.255050</td>\n",
       "      <td>0.508530</td>\n",
       "      <td>104.108150</td>\n",
       "      <td>4</td>\n",
       "      <td>1</td>\n",
       "    </tr>\n",
       "    <tr>\n",
       "      <th>14214</th>\n",
       "      <td>6.4</td>\n",
       "      <td>13.0</td>\n",
       "      <td>0.368500</td>\n",
       "      <td>0.762800</td>\n",
       "      <td>5.600000</td>\n",
       "      <td>-6.621000</td>\n",
       "      <td>0.042720</td>\n",
       "      <td>0.108995</td>\n",
       "      <td>0.384129</td>\n",
       "      <td>0.171050</td>\n",
       "      <td>0.383580</td>\n",
       "      <td>131.300500</td>\n",
       "      <td>3</td>\n",
       "      <td>1</td>\n",
       "    </tr>\n",
       "    <tr>\n",
       "      <th>6872</th>\n",
       "      <td>5.8</td>\n",
       "      <td>18.0</td>\n",
       "      <td>0.726333</td>\n",
       "      <td>0.594667</td>\n",
       "      <td>3.166667</td>\n",
       "      <td>-4.923500</td>\n",
       "      <td>0.185225</td>\n",
       "      <td>0.314133</td>\n",
       "      <td>0.001306</td>\n",
       "      <td>0.174517</td>\n",
       "      <td>0.568667</td>\n",
       "      <td>114.168417</td>\n",
       "      <td>18</td>\n",
       "      <td>1</td>\n",
       "    </tr>\n",
       "    <tr>\n",
       "      <th>...</th>\n",
       "      <td>...</td>\n",
       "      <td>...</td>\n",
       "      <td>...</td>\n",
       "      <td>...</td>\n",
       "      <td>...</td>\n",
       "      <td>...</td>\n",
       "      <td>...</td>\n",
       "      <td>...</td>\n",
       "      <td>...</td>\n",
       "      <td>...</td>\n",
       "      <td>...</td>\n",
       "      <td>...</td>\n",
       "      <td>...</td>\n",
       "      <td>...</td>\n",
       "    </tr>\n",
       "    <tr>\n",
       "      <th>14058</th>\n",
       "      <td>6.4</td>\n",
       "      <td>18.0</td>\n",
       "      <td>0.268000</td>\n",
       "      <td>0.471000</td>\n",
       "      <td>5.000000</td>\n",
       "      <td>-16.493000</td>\n",
       "      <td>0.137000</td>\n",
       "      <td>0.796000</td>\n",
       "      <td>0.896000</td>\n",
       "      <td>0.097500</td>\n",
       "      <td>0.133000</td>\n",
       "      <td>170.432000</td>\n",
       "      <td>6</td>\n",
       "      <td>1</td>\n",
       "    </tr>\n",
       "    <tr>\n",
       "      <th>3098</th>\n",
       "      <td>6.5</td>\n",
       "      <td>17.0</td>\n",
       "      <td>0.653500</td>\n",
       "      <td>0.625500</td>\n",
       "      <td>5.500000</td>\n",
       "      <td>-4.980000</td>\n",
       "      <td>0.047550</td>\n",
       "      <td>0.067750</td>\n",
       "      <td>0.000000</td>\n",
       "      <td>0.109000</td>\n",
       "      <td>0.509500</td>\n",
       "      <td>119.438000</td>\n",
       "      <td>14</td>\n",
       "      <td>1</td>\n",
       "    </tr>\n",
       "    <tr>\n",
       "      <th>6210</th>\n",
       "      <td>7.1</td>\n",
       "      <td>9.0</td>\n",
       "      <td>0.815500</td>\n",
       "      <td>0.868750</td>\n",
       "      <td>6.250000</td>\n",
       "      <td>-9.291000</td>\n",
       "      <td>0.144000</td>\n",
       "      <td>0.008505</td>\n",
       "      <td>0.498000</td>\n",
       "      <td>0.450750</td>\n",
       "      <td>0.450250</td>\n",
       "      <td>120.989500</td>\n",
       "      <td>3</td>\n",
       "      <td>1</td>\n",
       "    </tr>\n",
       "    <tr>\n",
       "      <th>14378</th>\n",
       "      <td>7.8</td>\n",
       "      <td>13.0</td>\n",
       "      <td>0.468846</td>\n",
       "      <td>0.776769</td>\n",
       "      <td>6.769231</td>\n",
       "      <td>-5.934385</td>\n",
       "      <td>0.052723</td>\n",
       "      <td>0.080584</td>\n",
       "      <td>0.044768</td>\n",
       "      <td>0.189623</td>\n",
       "      <td>0.515154</td>\n",
       "      <td>136.989231</td>\n",
       "      <td>4</td>\n",
       "      <td>1</td>\n",
       "    </tr>\n",
       "    <tr>\n",
       "      <th>15304</th>\n",
       "      <td>7.1</td>\n",
       "      <td>18.0</td>\n",
       "      <td>0.391400</td>\n",
       "      <td>0.334900</td>\n",
       "      <td>3.300000</td>\n",
       "      <td>-10.797700</td>\n",
       "      <td>0.059220</td>\n",
       "      <td>0.724800</td>\n",
       "      <td>0.913700</td>\n",
       "      <td>0.126640</td>\n",
       "      <td>0.209650</td>\n",
       "      <td>109.572500</td>\n",
       "      <td>1</td>\n",
       "      <td>1</td>\n",
       "    </tr>\n",
       "  </tbody>\n",
       "</table>\n",
       "<p>3357 rows × 14 columns</p>\n",
       "</div>"
      ],
      "text/plain": [
       "       score  years_since  danceability    energy       key   loudness  \\\n",
       "10155    7.0         42.0      0.320214  0.967786  6.000000  -3.212000   \n",
       "8237     7.2         19.0      0.911000  0.438000  4.000000  -7.423000   \n",
       "12563    8.8          7.0      0.684500  0.648050  5.250000  -8.403100   \n",
       "14214    6.4         13.0      0.368500  0.762800  5.600000  -6.621000   \n",
       "6872     5.8         18.0      0.726333  0.594667  3.166667  -4.923500   \n",
       "...      ...          ...           ...       ...       ...        ...   \n",
       "14058    6.4         18.0      0.268000  0.471000  5.000000 -16.493000   \n",
       "3098     6.5         17.0      0.653500  0.625500  5.500000  -4.980000   \n",
       "6210     7.1          9.0      0.815500  0.868750  6.250000  -9.291000   \n",
       "14378    7.8         13.0      0.468846  0.776769  6.769231  -5.934385   \n",
       "15304    7.1         18.0      0.391400  0.334900  3.300000 -10.797700   \n",
       "\n",
       "       speechiness  acousticness  instrumentalness  liveness   valence  \\\n",
       "10155     0.107221      0.343336          0.130231  0.229107  0.625143   \n",
       "8237      0.350000      0.533000          0.000000  0.115000  0.617000   \n",
       "12563     0.300060      0.152778          0.000263  0.255050  0.508530   \n",
       "14214     0.042720      0.108995          0.384129  0.171050  0.383580   \n",
       "6872      0.185225      0.314133          0.001306  0.174517  0.568667   \n",
       "...            ...           ...               ...       ...       ...   \n",
       "14058     0.137000      0.796000          0.896000  0.097500  0.133000   \n",
       "3098      0.047550      0.067750          0.000000  0.109000  0.509500   \n",
       "6210      0.144000      0.008505          0.498000  0.450750  0.450250   \n",
       "14378     0.052723      0.080584          0.044768  0.189623  0.515154   \n",
       "15304     0.059220      0.724800          0.913700  0.126640  0.209650   \n",
       "\n",
       "            tempo  number_of_albums  number_of_dups  \n",
       "10155  136.540000                 1               1  \n",
       "8237   101.000000                 1               1  \n",
       "12563  104.108150                 4               1  \n",
       "14214  131.300500                 3               1  \n",
       "6872   114.168417                18               1  \n",
       "...           ...               ...             ...  \n",
       "14058  170.432000                 6               1  \n",
       "3098   119.438000                14               1  \n",
       "6210   120.989500                 3               1  \n",
       "14378  136.989231                 4               1  \n",
       "15304  109.572500                 1               1  \n",
       "\n",
       "[3357 rows x 14 columns]"
      ]
     },
     "execution_count": 69,
     "metadata": {},
     "output_type": "execute_result"
    }
   ],
   "source": [
    "X_test"
   ]
  },
  {
   "cell_type": "code",
   "execution_count": 70,
   "id": "974ed46f",
   "metadata": {},
   "outputs": [
    {
     "name": "stdout",
     "output_type": "stream",
     "text": [
      "[[   0    2    2    0    0    0    0    0    0    0]\n",
      " [   0 1312   24    9    0    0    0    0    0    7]\n",
      " [   0  626   54    3    0    0    0    1    0   14]\n",
      " [   0  305    2    6    0    0    0    0    0    2]\n",
      " [   0  252    8    4    0    0    0    0    0    1]\n",
      " [   0  145    3    1    0    0    0    0    0    1]\n",
      " [   0  149    9    1    0    0    0    0    0    1]\n",
      " [   0   40   12    0    0    0    0    0    0    2]\n",
      " [   0   35    1    0    0    0    0    0    0    0]\n",
      " [   0  270   34    3    0    0    0    0    0   16]]\n",
      "              precision    recall  f1-score   support\n",
      "\n",
      "           0       0.00      0.00      0.00         0\n",
      "           1       0.97      0.42      0.58      3136\n",
      "           2       0.08      0.36      0.13       149\n",
      "           3       0.02      0.22      0.04        27\n",
      "           4       0.00      0.00      0.00         0\n",
      "           5       0.00      0.00      0.00         0\n",
      "           6       0.00      0.00      0.00         0\n",
      "           7       0.00      0.00      0.00         1\n",
      "           8       0.00      0.00      0.00         0\n",
      "           9       0.05      0.36      0.09        44\n",
      "\n",
      "    accuracy                           0.41      3357\n",
      "   macro avg       0.11      0.14      0.08      3357\n",
      "weighted avg       0.91      0.41      0.55      3357\n",
      "\n"
     ]
    }
   ],
   "source": [
    "predictions = clf_model.predict(X_test)\n",
    "cm = confusion_matrix(y_test, predictions)\n",
    "print(cm)\n",
    "print(classification_report(predictions,y_test))"
   ]
  },
  {
   "cell_type": "markdown",
   "id": "5d8872bc",
   "metadata": {},
   "source": [
    "<b>prediction of 'years-since'<b>"
   ]
  },
  {
   "cell_type": "code",
   "execution_count": 71,
   "id": "2ba45ef3",
   "metadata": {
    "scrolled": true
   },
   "outputs": [
    {
     "data": {
      "text/plain": [
       "((16784,), (16784, 23))"
      ]
     },
     "execution_count": 71,
     "metadata": {},
     "output_type": "execute_result"
    }
   ],
   "source": [
    "y = df_01['years_since']\n",
    "X = df_01.drop(['years_since'],axis=1)\n",
    "y.shape, X.shape"
   ]
  },
  {
   "cell_type": "code",
   "execution_count": 72,
   "id": "f5cb312d",
   "metadata": {},
   "outputs": [
    {
     "name": "stdout",
     "output_type": "stream",
     "text": [
      "Initial amount of samples: #16784 Number of training samples: #13427 Number of test samples: #3357\n"
     ]
    },
    {
     "data": {
      "text/plain": [
       "((13427, 23), (3357, 23))"
      ]
     },
     "execution_count": 72,
     "metadata": {},
     "output_type": "execute_result"
    }
   ],
   "source": [
    "X_train, X_test, y_train, y_test = train_test_split(X, y, test_size=0.2, random_state=42)\n",
    "\n",
    "print(\"Initial amount of samples: #{}\".format(X.shape[0]),\"Number of training samples: #{}\".format(X_train.shape[0]),\"Number of test samples: #{}\".format(X_test.shape[0]))\n",
    "\n",
    "scaler = StandardScaler()\n",
    "X_train_scaled = scaler.fit_transform(X_train)\n",
    "X_test_scaled = scaler.transform(X_test)\n",
    "X_train_scaled.shape, X_test_scaled.shape"
   ]
  },
  {
   "cell_type": "code",
   "execution_count": 73,
   "id": "e673cfae",
   "metadata": {},
   "outputs": [],
   "source": [
    "logistic_model = LogisticRegression(class_weight='balanced')"
   ]
  },
  {
   "cell_type": "code",
   "execution_count": 74,
   "id": "ea18122e",
   "metadata": {},
   "outputs": [],
   "source": [
    "clf_model = LogisticRegression().fit(X_train, y_train)\n",
    "\n",
    "y_pred=clf_model.predict(X_test)"
   ]
  },
  {
   "cell_type": "code",
   "execution_count": 75,
   "id": "47b0c6c3",
   "metadata": {},
   "outputs": [
    {
     "name": "stdout",
     "output_type": "stream",
     "text": [
      "accuracy is 0.07059874888293119\n"
     ]
    }
   ],
   "source": [
    "acc=clf_model.score(X_test,y_test)\n",
    "\n",
    "print(f\"accuracy is {acc}\")"
   ]
  },
  {
   "cell_type": "code",
   "execution_count": 76,
   "id": "cd4fab83",
   "metadata": {},
   "outputs": [],
   "source": [
    "clf_model = LogisticRegression().fit(X_train_scaled, y_train)\n",
    "\n",
    "y_pred=clf_model.predict(X_test_scaled)"
   ]
  },
  {
   "cell_type": "code",
   "execution_count": 77,
   "id": "61097328",
   "metadata": {},
   "outputs": [
    {
     "name": "stdout",
     "output_type": "stream",
     "text": [
      "accuracy is 0.0717902889484659\n"
     ]
    }
   ],
   "source": [
    "acc=clf_model.score(X_test_scaled,y_test)\n",
    "\n",
    "print(f\"accuracy is {acc}\")"
   ]
  },
  {
   "cell_type": "markdown",
   "id": "72e7506a",
   "metadata": {
    "heading_collapsed": true
   },
   "source": [
    "# Random Forest"
   ]
  },
  {
   "cell_type": "markdown",
   "id": "5d7a4511",
   "metadata": {
    "heading_collapsed": true,
    "hidden": true
   },
   "source": [
    "## model of score"
   ]
  },
  {
   "cell_type": "code",
   "execution_count": 78,
   "id": "680e341d",
   "metadata": {
    "hidden": true
   },
   "outputs": [
    {
     "data": {
      "text/plain": [
       "((16784,), (16784, 23))"
      ]
     },
     "execution_count": 78,
     "metadata": {},
     "output_type": "execute_result"
    }
   ],
   "source": [
    "y = df_01['score']\n",
    "X = df_01.drop(['score'],axis=1)\n",
    "y.shape, X.shape"
   ]
  },
  {
   "cell_type": "code",
   "execution_count": 79,
   "id": "946a45a8",
   "metadata": {
    "hidden": true
   },
   "outputs": [
    {
     "name": "stdout",
     "output_type": "stream",
     "text": [
      "Initial amount of samples: #16784 Number of training samples: #13427 Number of test samples: #3357\n"
     ]
    }
   ],
   "source": [
    "X_train, X_test, y_train, y_test = train_test_split(X, y, test_size=0.2, random_state=42)\n",
    "\n",
    "print(\"Initial amount of samples: #{}\".format(X.shape[0]),\"Number of training samples: #{}\".format(X_train.shape[0]),\"Number of test samples: #{}\".format(X_test.shape[0]))"
   ]
  },
  {
   "cell_type": "code",
   "execution_count": 80,
   "id": "ed33ba8a",
   "metadata": {
    "hidden": true
   },
   "outputs": [
    {
     "name": "stdout",
     "output_type": "stream",
     "text": [
      "Mean squared error (test): 1.185\n",
      "Mean absolute error (test): 0.877\n",
      "Mean absolute percentage error: 16.300\n",
      "R2_score: 0.105\n"
     ]
    },
    {
     "data": {
      "image/png": "[encoded data removed]",
      "text/plain": [
       "<Figure size 720x432 with 1 Axes>"
      ]
     },
     "metadata": {
      "needs_background": "light"
     },
     "output_type": "display_data"
    }
   ],
   "source": [
    "random_forest_regressor = RandomForestRegressor(n_estimators= 100, max_depth=10,\n",
    "                                                min_samples_leaf=20).fit(X_train, y_train)\n",
    "predictions = random_forest_regressor.predict(X_test)\n",
    "show_regresion_error(predictions, y_test)"
   ]
  },
  {
   "cell_type": "code",
   "execution_count": 81,
   "id": "0dcc6742",
   "metadata": {},
   "outputs": [
    {
     "data": {
      "text/plain": [
       "0.2160578151730601"
      ]
     },
     "execution_count": 81,
     "metadata": {},
     "output_type": "execute_result"
    }
   ],
   "source": [
    "random_forest_regressor.score(X_train, y_train)"
   ]
  },
  {
   "cell_type": "code",
   "execution_count": 82,
   "id": "712555ed",
   "metadata": {},
   "outputs": [
    {
     "data": {
      "text/plain": [
       "0.10543600718503188"
      ]
     },
     "execution_count": 82,
     "metadata": {},
     "output_type": "execute_result"
    }
   ],
   "source": [
    "random_forest_regressor.score(X_test, y_test)"
   ]
  },
  {
   "cell_type": "markdown",
   "id": "612bd41b",
   "metadata": {},
   "source": [
    "<b>converting the 'score' to discrete variables and trying again<b>"
   ]
  },
  {
   "cell_type": "code",
   "execution_count": 83,
   "id": "774c7629",
   "metadata": {},
   "outputs": [],
   "source": [
    "df_03=df_02.copy()"
   ]
  },
  {
   "cell_type": "code",
   "execution_count": 84,
   "id": "137c1491",
   "metadata": {},
   "outputs": [],
   "source": [
    "df_ds=df_02"
   ]
  },
  {
   "cell_type": "code",
   "execution_count": 85,
   "id": "a8913d9f",
   "metadata": {},
   "outputs": [],
   "source": [
    "df_ds['score']=pd.cut(df_ds.score, bins=10, labels=np.arange(10), right=True)"
   ]
  },
  {
   "cell_type": "code",
   "execution_count": 86,
   "id": "7afcb99a",
   "metadata": {},
   "outputs": [
    {
     "data": {
      "text/html": [
       "<div>\n",
       "<style scoped>\n",
       "    .dataframe tbody tr th:only-of-type {\n",
       "        vertical-align: middle;\n",
       "    }\n",
       "\n",
       "    .dataframe tbody tr th {\n",
       "        vertical-align: top;\n",
       "    }\n",
       "\n",
       "    .dataframe thead th {\n",
       "        text-align: right;\n",
       "    }\n",
       "</style>\n",
       "<table border=\"1\" class=\"dataframe\">\n",
       "  <thead>\n",
       "    <tr style=\"text-align: right;\">\n",
       "      <th></th>\n",
       "      <th>score</th>\n",
       "      <th>years_since</th>\n",
       "      <th>genre</th>\n",
       "      <th>danceability</th>\n",
       "      <th>energy</th>\n",
       "      <th>key</th>\n",
       "      <th>loudness</th>\n",
       "      <th>speechiness</th>\n",
       "      <th>acousticness</th>\n",
       "      <th>instrumentalness</th>\n",
       "      <th>liveness</th>\n",
       "      <th>valence</th>\n",
       "      <th>tempo</th>\n",
       "      <th>number_of_albums</th>\n",
       "      <th>number_of_dups</th>\n",
       "    </tr>\n",
       "  </thead>\n",
       "  <tbody>\n",
       "    <tr>\n",
       "      <th>0</th>\n",
       "      <td>8</td>\n",
       "      <td>13.0</td>\n",
       "      <td>2</td>\n",
       "      <td>0.511917</td>\n",
       "      <td>0.499667</td>\n",
       "      <td>5.250000</td>\n",
       "      <td>-5.626583</td>\n",
       "      <td>0.031983</td>\n",
       "      <td>0.724917</td>\n",
       "      <td>0.024493</td>\n",
       "      <td>0.165367</td>\n",
       "      <td>0.555083</td>\n",
       "      <td>101.395167</td>\n",
       "      <td>1</td>\n",
       "      <td>1</td>\n",
       "    </tr>\n",
       "    <tr>\n",
       "      <th>1</th>\n",
       "      <td>8</td>\n",
       "      <td>17.0</td>\n",
       "      <td>6</td>\n",
       "      <td>0.369765</td>\n",
       "      <td>0.325412</td>\n",
       "      <td>4.470588</td>\n",
       "      <td>-19.153824</td>\n",
       "      <td>0.148624</td>\n",
       "      <td>0.647053</td>\n",
       "      <td>0.559133</td>\n",
       "      <td>0.527782</td>\n",
       "      <td>0.179465</td>\n",
       "      <td>107.622647</td>\n",
       "      <td>4</td>\n",
       "      <td>1</td>\n",
       "    </tr>\n",
       "    <tr>\n",
       "      <th>2</th>\n",
       "      <td>8</td>\n",
       "      <td>18.0</td>\n",
       "      <td>2</td>\n",
       "      <td>0.253943</td>\n",
       "      <td>0.912857</td>\n",
       "      <td>4.428571</td>\n",
       "      <td>-1.089500</td>\n",
       "      <td>0.055500</td>\n",
       "      <td>0.000253</td>\n",
       "      <td>0.751214</td>\n",
       "      <td>0.199071</td>\n",
       "      <td>0.552786</td>\n",
       "      <td>133.895500</td>\n",
       "      <td>4</td>\n",
       "      <td>1</td>\n",
       "    </tr>\n",
       "    <tr>\n",
       "      <th>3</th>\n",
       "      <td>7</td>\n",
       "      <td>19.0</td>\n",
       "      <td>1</td>\n",
       "      <td>0.425400</td>\n",
       "      <td>0.433474</td>\n",
       "      <td>5.700000</td>\n",
       "      <td>-12.871000</td>\n",
       "      <td>0.028260</td>\n",
       "      <td>0.310325</td>\n",
       "      <td>0.224137</td>\n",
       "      <td>0.125150</td>\n",
       "      <td>0.451400</td>\n",
       "      <td>104.354200</td>\n",
       "      <td>1</td>\n",
       "      <td>1</td>\n",
       "    </tr>\n",
       "    <tr>\n",
       "      <th>4</th>\n",
       "      <td>7</td>\n",
       "      <td>4.0</td>\n",
       "      <td>3</td>\n",
       "      <td>0.624846</td>\n",
       "      <td>0.438154</td>\n",
       "      <td>4.153846</td>\n",
       "      <td>-9.456077</td>\n",
       "      <td>0.170246</td>\n",
       "      <td>0.652462</td>\n",
       "      <td>0.012819</td>\n",
       "      <td>0.121131</td>\n",
       "      <td>0.281138</td>\n",
       "      <td>122.121308</td>\n",
       "      <td>5</td>\n",
       "      <td>2</td>\n",
       "    </tr>\n",
       "    <tr>\n",
       "      <th>...</th>\n",
       "      <td>...</td>\n",
       "      <td>...</td>\n",
       "      <td>...</td>\n",
       "      <td>...</td>\n",
       "      <td>...</td>\n",
       "      <td>...</td>\n",
       "      <td>...</td>\n",
       "      <td>...</td>\n",
       "      <td>...</td>\n",
       "      <td>...</td>\n",
       "      <td>...</td>\n",
       "      <td>...</td>\n",
       "      <td>...</td>\n",
       "      <td>...</td>\n",
       "      <td>...</td>\n",
       "    </tr>\n",
       "    <tr>\n",
       "      <th>16779</th>\n",
       "      <td>5</td>\n",
       "      <td>3.0</td>\n",
       "      <td>3</td>\n",
       "      <td>0.530733</td>\n",
       "      <td>0.763000</td>\n",
       "      <td>5.600000</td>\n",
       "      <td>-4.037933</td>\n",
       "      <td>0.260833</td>\n",
       "      <td>0.138597</td>\n",
       "      <td>0.000002</td>\n",
       "      <td>0.286033</td>\n",
       "      <td>0.465000</td>\n",
       "      <td>109.981200</td>\n",
       "      <td>6</td>\n",
       "      <td>2</td>\n",
       "    </tr>\n",
       "    <tr>\n",
       "      <th>16780</th>\n",
       "      <td>5</td>\n",
       "      <td>3.0</td>\n",
       "      <td>1</td>\n",
       "      <td>0.481000</td>\n",
       "      <td>0.938800</td>\n",
       "      <td>2.600000</td>\n",
       "      <td>-1.761400</td>\n",
       "      <td>0.054260</td>\n",
       "      <td>0.000563</td>\n",
       "      <td>0.699800</td>\n",
       "      <td>0.202380</td>\n",
       "      <td>0.522800</td>\n",
       "      <td>124.184800</td>\n",
       "      <td>12</td>\n",
       "      <td>2</td>\n",
       "    </tr>\n",
       "    <tr>\n",
       "      <th>16781</th>\n",
       "      <td>6</td>\n",
       "      <td>3.0</td>\n",
       "      <td>3</td>\n",
       "      <td>0.559615</td>\n",
       "      <td>0.709538</td>\n",
       "      <td>5.769231</td>\n",
       "      <td>-6.205846</td>\n",
       "      <td>0.346485</td>\n",
       "      <td>0.182031</td>\n",
       "      <td>0.000229</td>\n",
       "      <td>0.259154</td>\n",
       "      <td>0.559154</td>\n",
       "      <td>106.885769</td>\n",
       "      <td>2</td>\n",
       "      <td>2</td>\n",
       "    </tr>\n",
       "    <tr>\n",
       "      <th>16782</th>\n",
       "      <td>7</td>\n",
       "      <td>3.0</td>\n",
       "      <td>1</td>\n",
       "      <td>0.575929</td>\n",
       "      <td>0.693429</td>\n",
       "      <td>5.071429</td>\n",
       "      <td>-9.977714</td>\n",
       "      <td>0.058193</td>\n",
       "      <td>0.171626</td>\n",
       "      <td>0.192718</td>\n",
       "      <td>0.260207</td>\n",
       "      <td>0.417579</td>\n",
       "      <td>124.177214</td>\n",
       "      <td>4</td>\n",
       "      <td>2</td>\n",
       "    </tr>\n",
       "    <tr>\n",
       "      <th>16783</th>\n",
       "      <td>8</td>\n",
       "      <td>3.0</td>\n",
       "      <td>3</td>\n",
       "      <td>0.685000</td>\n",
       "      <td>0.707176</td>\n",
       "      <td>4.470588</td>\n",
       "      <td>-6.512118</td>\n",
       "      <td>0.335035</td>\n",
       "      <td>0.203241</td>\n",
       "      <td>0.000007</td>\n",
       "      <td>0.199035</td>\n",
       "      <td>0.486588</td>\n",
       "      <td>121.439000</td>\n",
       "      <td>2</td>\n",
       "      <td>2</td>\n",
       "    </tr>\n",
       "  </tbody>\n",
       "</table>\n",
       "<p>16784 rows × 15 columns</p>\n",
       "</div>"
      ],
      "text/plain": [
       "      score  years_since  genre  danceability    energy       key   loudness  \\\n",
       "0         8         13.0      2      0.511917  0.499667  5.250000  -5.626583   \n",
       "1         8         17.0      6      0.369765  0.325412  4.470588 -19.153824   \n",
       "2         8         18.0      2      0.253943  0.912857  4.428571  -1.089500   \n",
       "3         7         19.0      1      0.425400  0.433474  5.700000 -12.871000   \n",
       "4         7          4.0      3      0.624846  0.438154  4.153846  -9.456077   \n",
       "...     ...          ...    ...           ...       ...       ...        ...   \n",
       "16779     5          3.0      3      0.530733  0.763000  5.600000  -4.037933   \n",
       "16780     5          3.0      1      0.481000  0.938800  2.600000  -1.761400   \n",
       "16781     6          3.0      3      0.559615  0.709538  5.769231  -6.205846   \n",
       "16782     7          3.0      1      0.575929  0.693429  5.071429  -9.977714   \n",
       "16783     8          3.0      3      0.685000  0.707176  4.470588  -6.512118   \n",
       "\n",
       "       speechiness  acousticness  instrumentalness  liveness   valence  \\\n",
       "0         0.031983      0.724917          0.024493  0.165367  0.555083   \n",
       "1         0.148624      0.647053          0.559133  0.527782  0.179465   \n",
       "2         0.055500      0.000253          0.751214  0.199071  0.552786   \n",
       "3         0.028260      0.310325          0.224137  0.125150  0.451400   \n",
       "4         0.170246      0.652462          0.012819  0.121131  0.281138   \n",
       "...            ...           ...               ...       ...       ...   \n",
       "16779     0.260833      0.138597          0.000002  0.286033  0.465000   \n",
       "16780     0.054260      0.000563          0.699800  0.202380  0.522800   \n",
       "16781     0.346485      0.182031          0.000229  0.259154  0.559154   \n",
       "16782     0.058193      0.171626          0.192718  0.260207  0.417579   \n",
       "16783     0.335035      0.203241          0.000007  0.199035  0.486588   \n",
       "\n",
       "            tempo  number_of_albums  number_of_dups  \n",
       "0      101.395167                 1               1  \n",
       "1      107.622647                 4               1  \n",
       "2      133.895500                 4               1  \n",
       "3      104.354200                 1               1  \n",
       "4      122.121308                 5               2  \n",
       "...           ...               ...             ...  \n",
       "16779  109.981200                 6               2  \n",
       "16780  124.184800                12               2  \n",
       "16781  106.885769                 2               2  \n",
       "16782  124.177214                 4               2  \n",
       "16783  121.439000                 2               2  \n",
       "\n",
       "[16784 rows x 15 columns]"
      ]
     },
     "execution_count": 86,
     "metadata": {},
     "output_type": "execute_result"
    }
   ],
   "source": [
    "df_ds"
   ]
  },
  {
   "cell_type": "code",
   "execution_count": 87,
   "id": "e2b3a5d3",
   "metadata": {},
   "outputs": [
    {
     "data": {
      "text/plain": [
       "((16784,), (16784, 14))"
      ]
     },
     "execution_count": 87,
     "metadata": {},
     "output_type": "execute_result"
    }
   ],
   "source": [
    "y = df_ds['score']\n",
    "X = df_ds.drop(['score'],axis=1)\n",
    "y.shape, X.shape"
   ]
  },
  {
   "cell_type": "code",
   "execution_count": 88,
   "id": "2dbd3852",
   "metadata": {},
   "outputs": [
    {
     "name": "stdout",
     "output_type": "stream",
     "text": [
      "Initial amount of samples: #16784 Number of training samples: #13427 Number of test samples: #3357\n"
     ]
    }
   ],
   "source": [
    "X_train, X_test, y_train, y_test = train_test_split(X, y, test_size=0.2, random_state=42)\n",
    "\n",
    "print(\"Initial amount of samples: #{}\".format(X.shape[0]),\"Number of training samples: #{}\".format(X_train.shape[0]),\"Number of test samples: #{}\".format(X_test.shape[0]))"
   ]
  },
  {
   "cell_type": "code",
   "execution_count": 89,
   "id": "cf626bdf",
   "metadata": {},
   "outputs": [
    {
     "name": "stdout",
     "output_type": "stream",
     "text": [
      "Accuracy on training data=  0.43241230356743876\n",
      "Accuracy on test data=  0.4399761691986893\n"
     ]
    }
   ],
   "source": [
    "forest =  RandomForestClassifier(bootstrap=True, n_estimators=30,\n",
    "                                 random_state=0, max_depth=8,min_samples_leaf=20)\n",
    "\n",
    "trained_forest = forest.fit(X_train, y_train) \n",
    "\n",
    "y_pred_train = trained_forest.predict(X_train)\n",
    "print('Accuracy on training data= ', metrics.accuracy_score(y_true = y_train, y_pred = y_pred_train))\n",
    "\n",
    "y_pred = trained_forest.predict(X_test)\n",
    "print('Accuracy on test data= ', metrics.accuracy_score(y_true = y_test, y_pred = y_pred))"
   ]
  },
  {
   "cell_type": "markdown",
   "id": "56573211",
   "metadata": {},
   "source": [
    "<b>KNN<b>"
   ]
  },
  {
   "cell_type": "code",
   "execution_count": 90,
   "id": "02a6b602",
   "metadata": {},
   "outputs": [
    {
     "data": {
      "text/plain": [
       "KNeighborsClassifier(n_neighbors=1000)"
      ]
     },
     "execution_count": 90,
     "metadata": {},
     "output_type": "execute_result"
    }
   ],
   "source": [
    "k = 1000\n",
    "clf = KNeighborsClassifier(n_neighbors=k)\n",
    "clf.fit(X_train, y_train)"
   ]
  },
  {
   "cell_type": "code",
   "execution_count": 91,
   "id": "14f0e165",
   "metadata": {},
   "outputs": [
    {
     "name": "stdout",
     "output_type": "stream",
     "text": [
      "[[   0    0    0    0    0    0    0    6    0    0]\n",
      " [   0    0    0    0    0    0    0   11    0    0]\n",
      " [   0    0    0    0    0    0    0   28    0    0]\n",
      " [   0    0    0    0    0    0    0   56    0    0]\n",
      " [   0    0    0    0    0    0    0  129    0    0]\n",
      " [   0    0    0    0    0    0    0  312    0    0]\n",
      " [   0    0    0    0    0    0    0  787    5    0]\n",
      " [   0    0    0    0    0    0    0 1431   14    0]\n",
      " [   0    0    0    0    0    0    0  475   27    0]\n",
      " [   0    0    0    0    0    0    0   65   11    0]]\n",
      "Accuracy =  0.4343163538873995\n"
     ]
    }
   ],
   "source": [
    "y_pred=clf.predict(X_test)\n",
    "\n",
    "print(metrics.confusion_matrix(y_true = y_test, y_pred = y_pred))\n",
    "\n",
    "print('Accuracy = ', metrics.accuracy_score(y_true = y_test, y_pred = y_pred))\n"
   ]
  },
  {
   "cell_type": "markdown",
   "id": "11fdb2e9",
   "metadata": {},
   "source": [
    "<b>naive bayes<b>"
   ]
  },
  {
   "cell_type": "code",
   "execution_count": 92,
   "id": "f18c2b82",
   "metadata": {},
   "outputs": [
    {
     "name": "stdout",
     "output_type": "stream",
     "text": [
      "Accuracy on Train data =  0.28263945780889255\n",
      "Accuracy on test data =  0.2669049746797736\n"
     ]
    }
   ],
   "source": [
    "nb = GaussianNB()\n",
    "\n",
    "nb.fit(X_train,y_train)\n",
    "\n",
    "y_pred = nb.predict(X_test)\n",
    "y_pred_train = nb.predict(X_train)\n",
    "\n",
    "# Print results\n",
    "print('Accuracy on Train data = ', metrics.accuracy_score(y_true = y_train, y_pred = y_pred_train))\n",
    "print('Accuracy on test data = ', metrics.accuracy_score(y_true = y_test, y_pred = y_pred))"
   ]
  },
  {
   "cell_type": "markdown",
   "id": "e752f0e9",
   "metadata": {},
   "source": [
    "<b>switching to binary score<b>"
   ]
  },
  {
   "cell_type": "code",
   "execution_count": 93,
   "id": "20262ca9",
   "metadata": {},
   "outputs": [
    {
     "data": {
      "text/html": [
       "<div>\n",
       "<style scoped>\n",
       "    .dataframe tbody tr th:only-of-type {\n",
       "        vertical-align: middle;\n",
       "    }\n",
       "\n",
       "    .dataframe tbody tr th {\n",
       "        vertical-align: top;\n",
       "    }\n",
       "\n",
       "    .dataframe thead th {\n",
       "        text-align: right;\n",
       "    }\n",
       "</style>\n",
       "<table border=\"1\" class=\"dataframe\">\n",
       "  <thead>\n",
       "    <tr style=\"text-align: right;\">\n",
       "      <th></th>\n",
       "      <th>score</th>\n",
       "      <th>years_since</th>\n",
       "      <th>genre</th>\n",
       "      <th>danceability</th>\n",
       "      <th>energy</th>\n",
       "      <th>key</th>\n",
       "      <th>loudness</th>\n",
       "      <th>speechiness</th>\n",
       "      <th>acousticness</th>\n",
       "      <th>instrumentalness</th>\n",
       "      <th>liveness</th>\n",
       "      <th>valence</th>\n",
       "      <th>tempo</th>\n",
       "      <th>number_of_albums</th>\n",
       "      <th>number_of_dups</th>\n",
       "    </tr>\n",
       "  </thead>\n",
       "  <tbody>\n",
       "    <tr>\n",
       "      <th>0</th>\n",
       "      <td>8</td>\n",
       "      <td>13.0</td>\n",
       "      <td>2</td>\n",
       "      <td>0.511917</td>\n",
       "      <td>0.499667</td>\n",
       "      <td>5.250000</td>\n",
       "      <td>-5.626583</td>\n",
       "      <td>0.031983</td>\n",
       "      <td>0.724917</td>\n",
       "      <td>0.024493</td>\n",
       "      <td>0.165367</td>\n",
       "      <td>0.555083</td>\n",
       "      <td>101.395167</td>\n",
       "      <td>1</td>\n",
       "      <td>1</td>\n",
       "    </tr>\n",
       "    <tr>\n",
       "      <th>1</th>\n",
       "      <td>8</td>\n",
       "      <td>17.0</td>\n",
       "      <td>6</td>\n",
       "      <td>0.369765</td>\n",
       "      <td>0.325412</td>\n",
       "      <td>4.470588</td>\n",
       "      <td>-19.153824</td>\n",
       "      <td>0.148624</td>\n",
       "      <td>0.647053</td>\n",
       "      <td>0.559133</td>\n",
       "      <td>0.527782</td>\n",
       "      <td>0.179465</td>\n",
       "      <td>107.622647</td>\n",
       "      <td>4</td>\n",
       "      <td>1</td>\n",
       "    </tr>\n",
       "    <tr>\n",
       "      <th>2</th>\n",
       "      <td>8</td>\n",
       "      <td>18.0</td>\n",
       "      <td>2</td>\n",
       "      <td>0.253943</td>\n",
       "      <td>0.912857</td>\n",
       "      <td>4.428571</td>\n",
       "      <td>-1.089500</td>\n",
       "      <td>0.055500</td>\n",
       "      <td>0.000253</td>\n",
       "      <td>0.751214</td>\n",
       "      <td>0.199071</td>\n",
       "      <td>0.552786</td>\n",
       "      <td>133.895500</td>\n",
       "      <td>4</td>\n",
       "      <td>1</td>\n",
       "    </tr>\n",
       "    <tr>\n",
       "      <th>3</th>\n",
       "      <td>7</td>\n",
       "      <td>19.0</td>\n",
       "      <td>1</td>\n",
       "      <td>0.425400</td>\n",
       "      <td>0.433474</td>\n",
       "      <td>5.700000</td>\n",
       "      <td>-12.871000</td>\n",
       "      <td>0.028260</td>\n",
       "      <td>0.310325</td>\n",
       "      <td>0.224137</td>\n",
       "      <td>0.125150</td>\n",
       "      <td>0.451400</td>\n",
       "      <td>104.354200</td>\n",
       "      <td>1</td>\n",
       "      <td>1</td>\n",
       "    </tr>\n",
       "    <tr>\n",
       "      <th>4</th>\n",
       "      <td>7</td>\n",
       "      <td>4.0</td>\n",
       "      <td>3</td>\n",
       "      <td>0.624846</td>\n",
       "      <td>0.438154</td>\n",
       "      <td>4.153846</td>\n",
       "      <td>-9.456077</td>\n",
       "      <td>0.170246</td>\n",
       "      <td>0.652462</td>\n",
       "      <td>0.012819</td>\n",
       "      <td>0.121131</td>\n",
       "      <td>0.281138</td>\n",
       "      <td>122.121308</td>\n",
       "      <td>5</td>\n",
       "      <td>2</td>\n",
       "    </tr>\n",
       "    <tr>\n",
       "      <th>...</th>\n",
       "      <td>...</td>\n",
       "      <td>...</td>\n",
       "      <td>...</td>\n",
       "      <td>...</td>\n",
       "      <td>...</td>\n",
       "      <td>...</td>\n",
       "      <td>...</td>\n",
       "      <td>...</td>\n",
       "      <td>...</td>\n",
       "      <td>...</td>\n",
       "      <td>...</td>\n",
       "      <td>...</td>\n",
       "      <td>...</td>\n",
       "      <td>...</td>\n",
       "      <td>...</td>\n",
       "    </tr>\n",
       "    <tr>\n",
       "      <th>16779</th>\n",
       "      <td>5</td>\n",
       "      <td>3.0</td>\n",
       "      <td>3</td>\n",
       "      <td>0.530733</td>\n",
       "      <td>0.763000</td>\n",
       "      <td>5.600000</td>\n",
       "      <td>-4.037933</td>\n",
       "      <td>0.260833</td>\n",
       "      <td>0.138597</td>\n",
       "      <td>0.000002</td>\n",
       "      <td>0.286033</td>\n",
       "      <td>0.465000</td>\n",
       "      <td>109.981200</td>\n",
       "      <td>6</td>\n",
       "      <td>2</td>\n",
       "    </tr>\n",
       "    <tr>\n",
       "      <th>16780</th>\n",
       "      <td>5</td>\n",
       "      <td>3.0</td>\n",
       "      <td>1</td>\n",
       "      <td>0.481000</td>\n",
       "      <td>0.938800</td>\n",
       "      <td>2.600000</td>\n",
       "      <td>-1.761400</td>\n",
       "      <td>0.054260</td>\n",
       "      <td>0.000563</td>\n",
       "      <td>0.699800</td>\n",
       "      <td>0.202380</td>\n",
       "      <td>0.522800</td>\n",
       "      <td>124.184800</td>\n",
       "      <td>12</td>\n",
       "      <td>2</td>\n",
       "    </tr>\n",
       "    <tr>\n",
       "      <th>16781</th>\n",
       "      <td>6</td>\n",
       "      <td>3.0</td>\n",
       "      <td>3</td>\n",
       "      <td>0.559615</td>\n",
       "      <td>0.709538</td>\n",
       "      <td>5.769231</td>\n",
       "      <td>-6.205846</td>\n",
       "      <td>0.346485</td>\n",
       "      <td>0.182031</td>\n",
       "      <td>0.000229</td>\n",
       "      <td>0.259154</td>\n",
       "      <td>0.559154</td>\n",
       "      <td>106.885769</td>\n",
       "      <td>2</td>\n",
       "      <td>2</td>\n",
       "    </tr>\n",
       "    <tr>\n",
       "      <th>16782</th>\n",
       "      <td>7</td>\n",
       "      <td>3.0</td>\n",
       "      <td>1</td>\n",
       "      <td>0.575929</td>\n",
       "      <td>0.693429</td>\n",
       "      <td>5.071429</td>\n",
       "      <td>-9.977714</td>\n",
       "      <td>0.058193</td>\n",
       "      <td>0.171626</td>\n",
       "      <td>0.192718</td>\n",
       "      <td>0.260207</td>\n",
       "      <td>0.417579</td>\n",
       "      <td>124.177214</td>\n",
       "      <td>4</td>\n",
       "      <td>2</td>\n",
       "    </tr>\n",
       "    <tr>\n",
       "      <th>16783</th>\n",
       "      <td>8</td>\n",
       "      <td>3.0</td>\n",
       "      <td>3</td>\n",
       "      <td>0.685000</td>\n",
       "      <td>0.707176</td>\n",
       "      <td>4.470588</td>\n",
       "      <td>-6.512118</td>\n",
       "      <td>0.335035</td>\n",
       "      <td>0.203241</td>\n",
       "      <td>0.000007</td>\n",
       "      <td>0.199035</td>\n",
       "      <td>0.486588</td>\n",
       "      <td>121.439000</td>\n",
       "      <td>2</td>\n",
       "      <td>2</td>\n",
       "    </tr>\n",
       "  </tbody>\n",
       "</table>\n",
       "<p>16784 rows × 15 columns</p>\n",
       "</div>"
      ],
      "text/plain": [
       "      score  years_since  genre  danceability    energy       key   loudness  \\\n",
       "0         8         13.0      2      0.511917  0.499667  5.250000  -5.626583   \n",
       "1         8         17.0      6      0.369765  0.325412  4.470588 -19.153824   \n",
       "2         8         18.0      2      0.253943  0.912857  4.428571  -1.089500   \n",
       "3         7         19.0      1      0.425400  0.433474  5.700000 -12.871000   \n",
       "4         7          4.0      3      0.624846  0.438154  4.153846  -9.456077   \n",
       "...     ...          ...    ...           ...       ...       ...        ...   \n",
       "16779     5          3.0      3      0.530733  0.763000  5.600000  -4.037933   \n",
       "16780     5          3.0      1      0.481000  0.938800  2.600000  -1.761400   \n",
       "16781     6          3.0      3      0.559615  0.709538  5.769231  -6.205846   \n",
       "16782     7          3.0      1      0.575929  0.693429  5.071429  -9.977714   \n",
       "16783     8          3.0      3      0.685000  0.707176  4.470588  -6.512118   \n",
       "\n",
       "       speechiness  acousticness  instrumentalness  liveness   valence  \\\n",
       "0         0.031983      0.724917          0.024493  0.165367  0.555083   \n",
       "1         0.148624      0.647053          0.559133  0.527782  0.179465   \n",
       "2         0.055500      0.000253          0.751214  0.199071  0.552786   \n",
       "3         0.028260      0.310325          0.224137  0.125150  0.451400   \n",
       "4         0.170246      0.652462          0.012819  0.121131  0.281138   \n",
       "...            ...           ...               ...       ...       ...   \n",
       "16779     0.260833      0.138597          0.000002  0.286033  0.465000   \n",
       "16780     0.054260      0.000563          0.699800  0.202380  0.522800   \n",
       "16781     0.346485      0.182031          0.000229  0.259154  0.559154   \n",
       "16782     0.058193      0.171626          0.192718  0.260207  0.417579   \n",
       "16783     0.335035      0.203241          0.000007  0.199035  0.486588   \n",
       "\n",
       "            tempo  number_of_albums  number_of_dups  \n",
       "0      101.395167                 1               1  \n",
       "1      107.622647                 4               1  \n",
       "2      133.895500                 4               1  \n",
       "3      104.354200                 1               1  \n",
       "4      122.121308                 5               2  \n",
       "...           ...               ...             ...  \n",
       "16779  109.981200                 6               2  \n",
       "16780  124.184800                12               2  \n",
       "16781  106.885769                 2               2  \n",
       "16782  124.177214                 4               2  \n",
       "16783  121.439000                 2               2  \n",
       "\n",
       "[16784 rows x 15 columns]"
      ]
     },
     "execution_count": 93,
     "metadata": {},
     "output_type": "execute_result"
    }
   ],
   "source": [
    "df_02"
   ]
  },
  {
   "cell_type": "code",
   "execution_count": 94,
   "id": "fc64a937",
   "metadata": {},
   "outputs": [],
   "source": [
    "df_b=df_02"
   ]
  },
  {
   "cell_type": "code",
   "execution_count": 95,
   "id": "f703916d",
   "metadata": {},
   "outputs": [],
   "source": [
    "bins = [0,7,10]\n",
    "labels = [0,1]"
   ]
  },
  {
   "cell_type": "code",
   "execution_count": 96,
   "id": "3ae26c80",
   "metadata": {},
   "outputs": [],
   "source": [
    "df_b['score_binned'] = pd.cut(df_b['score'], bins, labels=labels)"
   ]
  },
  {
   "cell_type": "code",
   "execution_count": 97,
   "id": "a6945fec",
   "metadata": {},
   "outputs": [
    {
     "data": {
      "text/html": [
       "<div>\n",
       "<style scoped>\n",
       "    .dataframe tbody tr th:only-of-type {\n",
       "        vertical-align: middle;\n",
       "    }\n",
       "\n",
       "    .dataframe tbody tr th {\n",
       "        vertical-align: top;\n",
       "    }\n",
       "\n",
       "    .dataframe thead th {\n",
       "        text-align: right;\n",
       "    }\n",
       "</style>\n",
       "<table border=\"1\" class=\"dataframe\">\n",
       "  <thead>\n",
       "    <tr style=\"text-align: right;\">\n",
       "      <th></th>\n",
       "      <th>score</th>\n",
       "      <th>years_since</th>\n",
       "      <th>genre</th>\n",
       "      <th>danceability</th>\n",
       "      <th>energy</th>\n",
       "      <th>key</th>\n",
       "      <th>loudness</th>\n",
       "      <th>speechiness</th>\n",
       "      <th>acousticness</th>\n",
       "      <th>instrumentalness</th>\n",
       "      <th>liveness</th>\n",
       "      <th>valence</th>\n",
       "      <th>tempo</th>\n",
       "      <th>number_of_albums</th>\n",
       "      <th>number_of_dups</th>\n",
       "      <th>score_binned</th>\n",
       "    </tr>\n",
       "  </thead>\n",
       "  <tbody>\n",
       "    <tr>\n",
       "      <th>0</th>\n",
       "      <td>8</td>\n",
       "      <td>13.0</td>\n",
       "      <td>2</td>\n",
       "      <td>0.511917</td>\n",
       "      <td>0.499667</td>\n",
       "      <td>5.250000</td>\n",
       "      <td>-5.626583</td>\n",
       "      <td>0.031983</td>\n",
       "      <td>0.724917</td>\n",
       "      <td>0.024493</td>\n",
       "      <td>0.165367</td>\n",
       "      <td>0.555083</td>\n",
       "      <td>101.395167</td>\n",
       "      <td>1</td>\n",
       "      <td>1</td>\n",
       "      <td>1</td>\n",
       "    </tr>\n",
       "    <tr>\n",
       "      <th>1</th>\n",
       "      <td>8</td>\n",
       "      <td>17.0</td>\n",
       "      <td>6</td>\n",
       "      <td>0.369765</td>\n",
       "      <td>0.325412</td>\n",
       "      <td>4.470588</td>\n",
       "      <td>-19.153824</td>\n",
       "      <td>0.148624</td>\n",
       "      <td>0.647053</td>\n",
       "      <td>0.559133</td>\n",
       "      <td>0.527782</td>\n",
       "      <td>0.179465</td>\n",
       "      <td>107.622647</td>\n",
       "      <td>4</td>\n",
       "      <td>1</td>\n",
       "      <td>1</td>\n",
       "    </tr>\n",
       "    <tr>\n",
       "      <th>2</th>\n",
       "      <td>8</td>\n",
       "      <td>18.0</td>\n",
       "      <td>2</td>\n",
       "      <td>0.253943</td>\n",
       "      <td>0.912857</td>\n",
       "      <td>4.428571</td>\n",
       "      <td>-1.089500</td>\n",
       "      <td>0.055500</td>\n",
       "      <td>0.000253</td>\n",
       "      <td>0.751214</td>\n",
       "      <td>0.199071</td>\n",
       "      <td>0.552786</td>\n",
       "      <td>133.895500</td>\n",
       "      <td>4</td>\n",
       "      <td>1</td>\n",
       "      <td>1</td>\n",
       "    </tr>\n",
       "    <tr>\n",
       "      <th>3</th>\n",
       "      <td>7</td>\n",
       "      <td>19.0</td>\n",
       "      <td>1</td>\n",
       "      <td>0.425400</td>\n",
       "      <td>0.433474</td>\n",
       "      <td>5.700000</td>\n",
       "      <td>-12.871000</td>\n",
       "      <td>0.028260</td>\n",
       "      <td>0.310325</td>\n",
       "      <td>0.224137</td>\n",
       "      <td>0.125150</td>\n",
       "      <td>0.451400</td>\n",
       "      <td>104.354200</td>\n",
       "      <td>1</td>\n",
       "      <td>1</td>\n",
       "      <td>0</td>\n",
       "    </tr>\n",
       "    <tr>\n",
       "      <th>4</th>\n",
       "      <td>7</td>\n",
       "      <td>4.0</td>\n",
       "      <td>3</td>\n",
       "      <td>0.624846</td>\n",
       "      <td>0.438154</td>\n",
       "      <td>4.153846</td>\n",
       "      <td>-9.456077</td>\n",
       "      <td>0.170246</td>\n",
       "      <td>0.652462</td>\n",
       "      <td>0.012819</td>\n",
       "      <td>0.121131</td>\n",
       "      <td>0.281138</td>\n",
       "      <td>122.121308</td>\n",
       "      <td>5</td>\n",
       "      <td>2</td>\n",
       "      <td>0</td>\n",
       "    </tr>\n",
       "    <tr>\n",
       "      <th>...</th>\n",
       "      <td>...</td>\n",
       "      <td>...</td>\n",
       "      <td>...</td>\n",
       "      <td>...</td>\n",
       "      <td>...</td>\n",
       "      <td>...</td>\n",
       "      <td>...</td>\n",
       "      <td>...</td>\n",
       "      <td>...</td>\n",
       "      <td>...</td>\n",
       "      <td>...</td>\n",
       "      <td>...</td>\n",
       "      <td>...</td>\n",
       "      <td>...</td>\n",
       "      <td>...</td>\n",
       "      <td>...</td>\n",
       "    </tr>\n",
       "    <tr>\n",
       "      <th>16779</th>\n",
       "      <td>5</td>\n",
       "      <td>3.0</td>\n",
       "      <td>3</td>\n",
       "      <td>0.530733</td>\n",
       "      <td>0.763000</td>\n",
       "      <td>5.600000</td>\n",
       "      <td>-4.037933</td>\n",
       "      <td>0.260833</td>\n",
       "      <td>0.138597</td>\n",
       "      <td>0.000002</td>\n",
       "      <td>0.286033</td>\n",
       "      <td>0.465000</td>\n",
       "      <td>109.981200</td>\n",
       "      <td>6</td>\n",
       "      <td>2</td>\n",
       "      <td>0</td>\n",
       "    </tr>\n",
       "    <tr>\n",
       "      <th>16780</th>\n",
       "      <td>5</td>\n",
       "      <td>3.0</td>\n",
       "      <td>1</td>\n",
       "      <td>0.481000</td>\n",
       "      <td>0.938800</td>\n",
       "      <td>2.600000</td>\n",
       "      <td>-1.761400</td>\n",
       "      <td>0.054260</td>\n",
       "      <td>0.000563</td>\n",
       "      <td>0.699800</td>\n",
       "      <td>0.202380</td>\n",
       "      <td>0.522800</td>\n",
       "      <td>124.184800</td>\n",
       "      <td>12</td>\n",
       "      <td>2</td>\n",
       "      <td>0</td>\n",
       "    </tr>\n",
       "    <tr>\n",
       "      <th>16781</th>\n",
       "      <td>6</td>\n",
       "      <td>3.0</td>\n",
       "      <td>3</td>\n",
       "      <td>0.559615</td>\n",
       "      <td>0.709538</td>\n",
       "      <td>5.769231</td>\n",
       "      <td>-6.205846</td>\n",
       "      <td>0.346485</td>\n",
       "      <td>0.182031</td>\n",
       "      <td>0.000229</td>\n",
       "      <td>0.259154</td>\n",
       "      <td>0.559154</td>\n",
       "      <td>106.885769</td>\n",
       "      <td>2</td>\n",
       "      <td>2</td>\n",
       "      <td>0</td>\n",
       "    </tr>\n",
       "    <tr>\n",
       "      <th>16782</th>\n",
       "      <td>7</td>\n",
       "      <td>3.0</td>\n",
       "      <td>1</td>\n",
       "      <td>0.575929</td>\n",
       "      <td>0.693429</td>\n",
       "      <td>5.071429</td>\n",
       "      <td>-9.977714</td>\n",
       "      <td>0.058193</td>\n",
       "      <td>0.171626</td>\n",
       "      <td>0.192718</td>\n",
       "      <td>0.260207</td>\n",
       "      <td>0.417579</td>\n",
       "      <td>124.177214</td>\n",
       "      <td>4</td>\n",
       "      <td>2</td>\n",
       "      <td>0</td>\n",
       "    </tr>\n",
       "    <tr>\n",
       "      <th>16783</th>\n",
       "      <td>8</td>\n",
       "      <td>3.0</td>\n",
       "      <td>3</td>\n",
       "      <td>0.685000</td>\n",
       "      <td>0.707176</td>\n",
       "      <td>4.470588</td>\n",
       "      <td>-6.512118</td>\n",
       "      <td>0.335035</td>\n",
       "      <td>0.203241</td>\n",
       "      <td>0.000007</td>\n",
       "      <td>0.199035</td>\n",
       "      <td>0.486588</td>\n",
       "      <td>121.439000</td>\n",
       "      <td>2</td>\n",
       "      <td>2</td>\n",
       "      <td>1</td>\n",
       "    </tr>\n",
       "  </tbody>\n",
       "</table>\n",
       "<p>16784 rows × 16 columns</p>\n",
       "</div>"
      ],
      "text/plain": [
       "      score  years_since  genre  danceability    energy       key   loudness  \\\n",
       "0         8         13.0      2      0.511917  0.499667  5.250000  -5.626583   \n",
       "1         8         17.0      6      0.369765  0.325412  4.470588 -19.153824   \n",
       "2         8         18.0      2      0.253943  0.912857  4.428571  -1.089500   \n",
       "3         7         19.0      1      0.425400  0.433474  5.700000 -12.871000   \n",
       "4         7          4.0      3      0.624846  0.438154  4.153846  -9.456077   \n",
       "...     ...          ...    ...           ...       ...       ...        ...   \n",
       "16779     5          3.0      3      0.530733  0.763000  5.600000  -4.037933   \n",
       "16780     5          3.0      1      0.481000  0.938800  2.600000  -1.761400   \n",
       "16781     6          3.0      3      0.559615  0.709538  5.769231  -6.205846   \n",
       "16782     7          3.0      1      0.575929  0.693429  5.071429  -9.977714   \n",
       "16783     8          3.0      3      0.685000  0.707176  4.470588  -6.512118   \n",
       "\n",
       "       speechiness  acousticness  instrumentalness  liveness   valence  \\\n",
       "0         0.031983      0.724917          0.024493  0.165367  0.555083   \n",
       "1         0.148624      0.647053          0.559133  0.527782  0.179465   \n",
       "2         0.055500      0.000253          0.751214  0.199071  0.552786   \n",
       "3         0.028260      0.310325          0.224137  0.125150  0.451400   \n",
       "4         0.170246      0.652462          0.012819  0.121131  0.281138   \n",
       "...            ...           ...               ...       ...       ...   \n",
       "16779     0.260833      0.138597          0.000002  0.286033  0.465000   \n",
       "16780     0.054260      0.000563          0.699800  0.202380  0.522800   \n",
       "16781     0.346485      0.182031          0.000229  0.259154  0.559154   \n",
       "16782     0.058193      0.171626          0.192718  0.260207  0.417579   \n",
       "16783     0.335035      0.203241          0.000007  0.199035  0.486588   \n",
       "\n",
       "            tempo  number_of_albums  number_of_dups score_binned  \n",
       "0      101.395167                 1               1            1  \n",
       "1      107.622647                 4               1            1  \n",
       "2      133.895500                 4               1            1  \n",
       "3      104.354200                 1               1            0  \n",
       "4      122.121308                 5               2            0  \n",
       "...           ...               ...             ...          ...  \n",
       "16779  109.981200                 6               2            0  \n",
       "16780  124.184800                12               2            0  \n",
       "16781  106.885769                 2               2            0  \n",
       "16782  124.177214                 4               2            0  \n",
       "16783  121.439000                 2               2            1  \n",
       "\n",
       "[16784 rows x 16 columns]"
      ]
     },
     "execution_count": 97,
     "metadata": {},
     "output_type": "execute_result"
    }
   ],
   "source": [
    "df_b"
   ]
  },
  {
   "cell_type": "code",
   "execution_count": 98,
   "id": "a16d72a1",
   "metadata": {},
   "outputs": [],
   "source": [
    "df_b = df_b.drop([\"score\"], axis=1)"
   ]
  },
  {
   "cell_type": "code",
   "execution_count": 99,
   "id": "bc4b129e",
   "metadata": {},
   "outputs": [],
   "source": [
    "df_b.score_binned=pd.factorize( df_b.score_binned,na_sentinel=None )[0]"
   ]
  },
  {
   "cell_type": "code",
   "execution_count": 100,
   "id": "20bb4943",
   "metadata": {},
   "outputs": [
    {
     "data": {
      "text/plain": [
       "years_since         float64\n",
       "genre                 int64\n",
       "danceability        float64\n",
       "energy              float64\n",
       "key                 float64\n",
       "loudness            float64\n",
       "speechiness         float64\n",
       "acousticness        float64\n",
       "instrumentalness    float64\n",
       "liveness            float64\n",
       "valence             float64\n",
       "tempo               float64\n",
       "number_of_albums      int64\n",
       "number_of_dups        int64\n",
       "score_binned          int64\n",
       "dtype: object"
      ]
     },
     "execution_count": 100,
     "metadata": {},
     "output_type": "execute_result"
    }
   ],
   "source": [
    "df_b.dtypes"
   ]
  },
  {
   "cell_type": "code",
   "execution_count": 101,
   "id": "edbb94e9",
   "metadata": {},
   "outputs": [
    {
     "data": {
      "text/plain": [
       "1    14106\n",
       "0     2652\n",
       "2       26\n",
       "Name: score_binned, dtype: int64"
      ]
     },
     "execution_count": 101,
     "metadata": {},
     "output_type": "execute_result"
    }
   ],
   "source": [
    "df_b.score_binned.value_counts()"
   ]
  },
  {
   "cell_type": "code",
   "execution_count": 102,
   "id": "cf77cce6",
   "metadata": {},
   "outputs": [],
   "source": [
    "df_b = df_b[df_b.score_binned != 2]"
   ]
  },
  {
   "cell_type": "code",
   "execution_count": 103,
   "id": "f600fe90",
   "metadata": {},
   "outputs": [
    {
     "data": {
      "text/plain": [
       "1    14106\n",
       "0     2652\n",
       "Name: score_binned, dtype: int64"
      ]
     },
     "execution_count": 103,
     "metadata": {},
     "output_type": "execute_result"
    }
   ],
   "source": [
    "df_b.score_binned.value_counts()"
   ]
  },
  {
   "cell_type": "code",
   "execution_count": 104,
   "id": "84045acf",
   "metadata": {},
   "outputs": [
    {
     "data": {
      "text/plain": [
       "False"
      ]
     },
     "execution_count": 104,
     "metadata": {},
     "output_type": "execute_result"
    }
   ],
   "source": [
    "np.any(np.isnan(df_b))"
   ]
  },
  {
   "cell_type": "code",
   "execution_count": 105,
   "id": "a75f3a2c",
   "metadata": {},
   "outputs": [
    {
     "data": {
      "text/plain": [
       "((16758,), (16758, 14))"
      ]
     },
     "execution_count": 105,
     "metadata": {},
     "output_type": "execute_result"
    }
   ],
   "source": [
    "y = df_b['score_binned']\n",
    "X = df_b.drop(['score_binned'],axis=1)\n",
    "y.shape, X.shape"
   ]
  },
  {
   "cell_type": "code",
   "execution_count": 106,
   "id": "8750ea72",
   "metadata": {},
   "outputs": [
    {
     "name": "stdout",
     "output_type": "stream",
     "text": [
      "Initial amount of samples: #16758 Number of training samples: #13406 Number of test samples: #3352\n"
     ]
    }
   ],
   "source": [
    "X_train, X_test, y_train, y_test = train_test_split(X, y, test_size=0.2, random_state=42)\n",
    "\n",
    "print(\"Initial amount of samples: #{}\".format(X.shape[0]),\"Number of training samples: #{}\".format(X_train.shape[0]),\"Number of test samples: #{}\".format(X_test.shape[0]))"
   ]
  },
  {
   "cell_type": "code",
   "execution_count": 107,
   "id": "74737d52",
   "metadata": {},
   "outputs": [
    {
     "name": "stdout",
     "output_type": "stream",
     "text": [
      "Accuracy on training data =  0.8610323735640758\n",
      "Accuracy on test data =  0.8615751789976134\n"
     ]
    }
   ],
   "source": [
    "forest =  RandomForestClassifier(bootstrap=True, n_estimators=300,\n",
    "                                 random_state=0, max_depth=10,min_samples_leaf=20)\n",
    "\n",
    "trained_forest = forest.fit(X_train, y_train) \n",
    "\n",
    "y_pred_train = trained_forest.predict(X_train)\n",
    "print('Accuracy on training data = ', metrics.accuracy_score(y_true = y_train, y_pred = y_pred_train))\n",
    "\n",
    "y_pred = trained_forest.predict(X_test)\n",
    "print('Accuracy on test data = ', metrics.accuracy_score(y_true = y_test, y_pred = y_pred))"
   ]
  },
  {
   "cell_type": "code",
   "execution_count": 108,
   "id": "f5f4467e",
   "metadata": {},
   "outputs": [],
   "source": [
    "test_list=['years_since','genre','danceability','energy','key','loudness','speechiness',\n",
    " 'acousticness','instrumentalness','liveness','valence',\n",
    " 'tempo','number_of_albums','number_of_dups']\n"
   ]
  },
  {
   "cell_type": "code",
   "execution_count": 109,
   "id": "6260095e",
   "metadata": {},
   "outputs": [
    {
     "data": {
      "text/html": [
       "<div>\n",
       "<style scoped>\n",
       "    .dataframe tbody tr th:only-of-type {\n",
       "        vertical-align: middle;\n",
       "    }\n",
       "\n",
       "    .dataframe tbody tr th {\n",
       "        vertical-align: top;\n",
       "    }\n",
       "\n",
       "    .dataframe thead th {\n",
       "        text-align: right;\n",
       "    }\n",
       "</style>\n",
       "<table border=\"1\" class=\"dataframe\">\n",
       "  <thead>\n",
       "    <tr style=\"text-align: right;\">\n",
       "      <th></th>\n",
       "      <th>features</th>\n",
       "      <th>weights</th>\n",
       "    </tr>\n",
       "  </thead>\n",
       "  <tbody>\n",
       "    <tr>\n",
       "      <th>0</th>\n",
       "      <td>years_since</td>\n",
       "      <td>0.417962</td>\n",
       "    </tr>\n",
       "    <tr>\n",
       "      <th>12</th>\n",
       "      <td>number_of_albums</td>\n",
       "      <td>0.134083</td>\n",
       "    </tr>\n",
       "    <tr>\n",
       "      <th>5</th>\n",
       "      <td>loudness</td>\n",
       "      <td>0.048798</td>\n",
       "    </tr>\n",
       "    <tr>\n",
       "      <th>2</th>\n",
       "      <td>danceability</td>\n",
       "      <td>0.048517</td>\n",
       "    </tr>\n",
       "    <tr>\n",
       "      <th>10</th>\n",
       "      <td>valence</td>\n",
       "      <td>0.048475</td>\n",
       "    </tr>\n",
       "    <tr>\n",
       "      <th>8</th>\n",
       "      <td>instrumentalness</td>\n",
       "      <td>0.043652</td>\n",
       "    </tr>\n",
       "    <tr>\n",
       "      <th>6</th>\n",
       "      <td>speechiness</td>\n",
       "      <td>0.042171</td>\n",
       "    </tr>\n",
       "    <tr>\n",
       "      <th>9</th>\n",
       "      <td>liveness</td>\n",
       "      <td>0.040348</td>\n",
       "    </tr>\n",
       "    <tr>\n",
       "      <th>7</th>\n",
       "      <td>acousticness</td>\n",
       "      <td>0.039695</td>\n",
       "    </tr>\n",
       "    <tr>\n",
       "      <th>3</th>\n",
       "      <td>energy</td>\n",
       "      <td>0.038205</td>\n",
       "    </tr>\n",
       "    <tr>\n",
       "      <th>11</th>\n",
       "      <td>tempo</td>\n",
       "      <td>0.037727</td>\n",
       "    </tr>\n",
       "    <tr>\n",
       "      <th>4</th>\n",
       "      <td>key</td>\n",
       "      <td>0.033462</td>\n",
       "    </tr>\n",
       "    <tr>\n",
       "      <th>1</th>\n",
       "      <td>genre</td>\n",
       "      <td>0.024548</td>\n",
       "    </tr>\n",
       "    <tr>\n",
       "      <th>13</th>\n",
       "      <td>number_of_dups</td>\n",
       "      <td>0.002359</td>\n",
       "    </tr>\n",
       "  </tbody>\n",
       "</table>\n",
       "</div>"
      ],
      "text/plain": [
       "            features   weights\n",
       "0        years_since  0.417962\n",
       "12  number_of_albums  0.134083\n",
       "5           loudness  0.048798\n",
       "2       danceability  0.048517\n",
       "10           valence  0.048475\n",
       "8   instrumentalness  0.043652\n",
       "6        speechiness  0.042171\n",
       "9           liveness  0.040348\n",
       "7       acousticness  0.039695\n",
       "3             energy  0.038205\n",
       "11             tempo  0.037727\n",
       "4                key  0.033462\n",
       "1              genre  0.024548\n",
       "13    number_of_dups  0.002359"
      ]
     },
     "execution_count": 109,
     "metadata": {},
     "output_type": "execute_result"
    }
   ],
   "source": [
    "featuresDF=pd.DataFrame({\"features\":test_list,\"weights\":trained_forest.feature_importances_})\n",
    "featuresDF.sort_values(\"weights\",ascending=False)"
   ]
  },
  {
   "cell_type": "markdown",
   "id": "cc499c22",
   "metadata": {
    "hidden": true
   },
   "source": [
    "## model of genre"
   ]
  },
  {
   "cell_type": "code",
   "execution_count": 110,
   "id": "771c4393",
   "metadata": {},
   "outputs": [
    {
     "data": {
      "text/html": [
       "<div>\n",
       "<style scoped>\n",
       "    .dataframe tbody tr th:only-of-type {\n",
       "        vertical-align: middle;\n",
       "    }\n",
       "\n",
       "    .dataframe tbody tr th {\n",
       "        vertical-align: top;\n",
       "    }\n",
       "\n",
       "    .dataframe thead th {\n",
       "        text-align: right;\n",
       "    }\n",
       "</style>\n",
       "<table border=\"1\" class=\"dataframe\">\n",
       "  <thead>\n",
       "    <tr style=\"text-align: right;\">\n",
       "      <th></th>\n",
       "      <th>score</th>\n",
       "      <th>years_since</th>\n",
       "      <th>genre</th>\n",
       "      <th>danceability</th>\n",
       "      <th>energy</th>\n",
       "      <th>key</th>\n",
       "      <th>loudness</th>\n",
       "      <th>speechiness</th>\n",
       "      <th>acousticness</th>\n",
       "      <th>instrumentalness</th>\n",
       "      <th>liveness</th>\n",
       "      <th>valence</th>\n",
       "      <th>tempo</th>\n",
       "      <th>number_of_albums</th>\n",
       "      <th>number_of_dups</th>\n",
       "    </tr>\n",
       "  </thead>\n",
       "  <tbody>\n",
       "    <tr>\n",
       "      <th>0</th>\n",
       "      <td>8.5</td>\n",
       "      <td>13.0</td>\n",
       "      <td>2</td>\n",
       "      <td>0.511917</td>\n",
       "      <td>0.499667</td>\n",
       "      <td>5.250000</td>\n",
       "      <td>-5.626583</td>\n",
       "      <td>0.031983</td>\n",
       "      <td>0.724917</td>\n",
       "      <td>0.024493</td>\n",
       "      <td>0.165367</td>\n",
       "      <td>0.555083</td>\n",
       "      <td>101.395167</td>\n",
       "      <td>1</td>\n",
       "      <td>1</td>\n",
       "    </tr>\n",
       "    <tr>\n",
       "      <th>1</th>\n",
       "      <td>8.2</td>\n",
       "      <td>17.0</td>\n",
       "      <td>6</td>\n",
       "      <td>0.369765</td>\n",
       "      <td>0.325412</td>\n",
       "      <td>4.470588</td>\n",
       "      <td>-19.153824</td>\n",
       "      <td>0.148624</td>\n",
       "      <td>0.647053</td>\n",
       "      <td>0.559133</td>\n",
       "      <td>0.527782</td>\n",
       "      <td>0.179465</td>\n",
       "      <td>107.622647</td>\n",
       "      <td>4</td>\n",
       "      <td>1</td>\n",
       "    </tr>\n",
       "    <tr>\n",
       "      <th>2</th>\n",
       "      <td>8.3</td>\n",
       "      <td>18.0</td>\n",
       "      <td>2</td>\n",
       "      <td>0.253943</td>\n",
       "      <td>0.912857</td>\n",
       "      <td>4.428571</td>\n",
       "      <td>-1.089500</td>\n",
       "      <td>0.055500</td>\n",
       "      <td>0.000253</td>\n",
       "      <td>0.751214</td>\n",
       "      <td>0.199071</td>\n",
       "      <td>0.552786</td>\n",
       "      <td>133.895500</td>\n",
       "      <td>4</td>\n",
       "      <td>1</td>\n",
       "    </tr>\n",
       "    <tr>\n",
       "      <th>3</th>\n",
       "      <td>7.3</td>\n",
       "      <td>19.0</td>\n",
       "      <td>1</td>\n",
       "      <td>0.425400</td>\n",
       "      <td>0.433474</td>\n",
       "      <td>5.700000</td>\n",
       "      <td>-12.871000</td>\n",
       "      <td>0.028260</td>\n",
       "      <td>0.310325</td>\n",
       "      <td>0.224137</td>\n",
       "      <td>0.125150</td>\n",
       "      <td>0.451400</td>\n",
       "      <td>104.354200</td>\n",
       "      <td>1</td>\n",
       "      <td>1</td>\n",
       "    </tr>\n",
       "    <tr>\n",
       "      <th>4</th>\n",
       "      <td>7.5</td>\n",
       "      <td>4.0</td>\n",
       "      <td>3</td>\n",
       "      <td>0.624846</td>\n",
       "      <td>0.438154</td>\n",
       "      <td>4.153846</td>\n",
       "      <td>-9.456077</td>\n",
       "      <td>0.170246</td>\n",
       "      <td>0.652462</td>\n",
       "      <td>0.012819</td>\n",
       "      <td>0.121131</td>\n",
       "      <td>0.281138</td>\n",
       "      <td>122.121308</td>\n",
       "      <td>5</td>\n",
       "      <td>2</td>\n",
       "    </tr>\n",
       "    <tr>\n",
       "      <th>...</th>\n",
       "      <td>...</td>\n",
       "      <td>...</td>\n",
       "      <td>...</td>\n",
       "      <td>...</td>\n",
       "      <td>...</td>\n",
       "      <td>...</td>\n",
       "      <td>...</td>\n",
       "      <td>...</td>\n",
       "      <td>...</td>\n",
       "      <td>...</td>\n",
       "      <td>...</td>\n",
       "      <td>...</td>\n",
       "      <td>...</td>\n",
       "      <td>...</td>\n",
       "      <td>...</td>\n",
       "    </tr>\n",
       "    <tr>\n",
       "      <th>16779</th>\n",
       "      <td>5.4</td>\n",
       "      <td>3.0</td>\n",
       "      <td>3</td>\n",
       "      <td>0.530733</td>\n",
       "      <td>0.763000</td>\n",
       "      <td>5.600000</td>\n",
       "      <td>-4.037933</td>\n",
       "      <td>0.260833</td>\n",
       "      <td>0.138597</td>\n",
       "      <td>0.000002</td>\n",
       "      <td>0.286033</td>\n",
       "      <td>0.465000</td>\n",
       "      <td>109.981200</td>\n",
       "      <td>6</td>\n",
       "      <td>2</td>\n",
       "    </tr>\n",
       "    <tr>\n",
       "      <th>16780</th>\n",
       "      <td>5.6</td>\n",
       "      <td>3.0</td>\n",
       "      <td>1</td>\n",
       "      <td>0.481000</td>\n",
       "      <td>0.938800</td>\n",
       "      <td>2.600000</td>\n",
       "      <td>-1.761400</td>\n",
       "      <td>0.054260</td>\n",
       "      <td>0.000563</td>\n",
       "      <td>0.699800</td>\n",
       "      <td>0.202380</td>\n",
       "      <td>0.522800</td>\n",
       "      <td>124.184800</td>\n",
       "      <td>12</td>\n",
       "      <td>2</td>\n",
       "    </tr>\n",
       "    <tr>\n",
       "      <th>16781</th>\n",
       "      <td>6.8</td>\n",
       "      <td>3.0</td>\n",
       "      <td>3</td>\n",
       "      <td>0.559615</td>\n",
       "      <td>0.709538</td>\n",
       "      <td>5.769231</td>\n",
       "      <td>-6.205846</td>\n",
       "      <td>0.346485</td>\n",
       "      <td>0.182031</td>\n",
       "      <td>0.000229</td>\n",
       "      <td>0.259154</td>\n",
       "      <td>0.559154</td>\n",
       "      <td>106.885769</td>\n",
       "      <td>2</td>\n",
       "      <td>2</td>\n",
       "    </tr>\n",
       "    <tr>\n",
       "      <th>16782</th>\n",
       "      <td>7.7</td>\n",
       "      <td>3.0</td>\n",
       "      <td>1</td>\n",
       "      <td>0.575929</td>\n",
       "      <td>0.693429</td>\n",
       "      <td>5.071429</td>\n",
       "      <td>-9.977714</td>\n",
       "      <td>0.058193</td>\n",
       "      <td>0.171626</td>\n",
       "      <td>0.192718</td>\n",
       "      <td>0.260207</td>\n",
       "      <td>0.417579</td>\n",
       "      <td>124.177214</td>\n",
       "      <td>4</td>\n",
       "      <td>2</td>\n",
       "    </tr>\n",
       "    <tr>\n",
       "      <th>16783</th>\n",
       "      <td>8.4</td>\n",
       "      <td>3.0</td>\n",
       "      <td>3</td>\n",
       "      <td>0.685000</td>\n",
       "      <td>0.707176</td>\n",
       "      <td>4.470588</td>\n",
       "      <td>-6.512118</td>\n",
       "      <td>0.335035</td>\n",
       "      <td>0.203241</td>\n",
       "      <td>0.000007</td>\n",
       "      <td>0.199035</td>\n",
       "      <td>0.486588</td>\n",
       "      <td>121.439000</td>\n",
       "      <td>2</td>\n",
       "      <td>2</td>\n",
       "    </tr>\n",
       "  </tbody>\n",
       "</table>\n",
       "<p>16784 rows × 15 columns</p>\n",
       "</div>"
      ],
      "text/plain": [
       "       score  years_since  genre  danceability    energy       key   loudness  \\\n",
       "0        8.5         13.0      2      0.511917  0.499667  5.250000  -5.626583   \n",
       "1        8.2         17.0      6      0.369765  0.325412  4.470588 -19.153824   \n",
       "2        8.3         18.0      2      0.253943  0.912857  4.428571  -1.089500   \n",
       "3        7.3         19.0      1      0.425400  0.433474  5.700000 -12.871000   \n",
       "4        7.5          4.0      3      0.624846  0.438154  4.153846  -9.456077   \n",
       "...      ...          ...    ...           ...       ...       ...        ...   \n",
       "16779    5.4          3.0      3      0.530733  0.763000  5.600000  -4.037933   \n",
       "16780    5.6          3.0      1      0.481000  0.938800  2.600000  -1.761400   \n",
       "16781    6.8          3.0      3      0.559615  0.709538  5.769231  -6.205846   \n",
       "16782    7.7          3.0      1      0.575929  0.693429  5.071429  -9.977714   \n",
       "16783    8.4          3.0      3      0.685000  0.707176  4.470588  -6.512118   \n",
       "\n",
       "       speechiness  acousticness  instrumentalness  liveness   valence  \\\n",
       "0         0.031983      0.724917          0.024493  0.165367  0.555083   \n",
       "1         0.148624      0.647053          0.559133  0.527782  0.179465   \n",
       "2         0.055500      0.000253          0.751214  0.199071  0.552786   \n",
       "3         0.028260      0.310325          0.224137  0.125150  0.451400   \n",
       "4         0.170246      0.652462          0.012819  0.121131  0.281138   \n",
       "...            ...           ...               ...       ...       ...   \n",
       "16779     0.260833      0.138597          0.000002  0.286033  0.465000   \n",
       "16780     0.054260      0.000563          0.699800  0.202380  0.522800   \n",
       "16781     0.346485      0.182031          0.000229  0.259154  0.559154   \n",
       "16782     0.058193      0.171626          0.192718  0.260207  0.417579   \n",
       "16783     0.335035      0.203241          0.000007  0.199035  0.486588   \n",
       "\n",
       "            tempo  number_of_albums  number_of_dups  \n",
       "0      101.395167                 1               1  \n",
       "1      107.622647                 4               1  \n",
       "2      133.895500                 4               1  \n",
       "3      104.354200                 1               1  \n",
       "4      122.121308                 5               2  \n",
       "...           ...               ...             ...  \n",
       "16779  109.981200                 6               2  \n",
       "16780  124.184800                12               2  \n",
       "16781  106.885769                 2               2  \n",
       "16782  124.177214                 4               2  \n",
       "16783  121.439000                 2               2  \n",
       "\n",
       "[16784 rows x 15 columns]"
      ]
     },
     "execution_count": 110,
     "metadata": {},
     "output_type": "execute_result"
    }
   ],
   "source": [
    "df_03"
   ]
  },
  {
   "cell_type": "code",
   "execution_count": 111,
   "id": "ec0eefa0",
   "metadata": {
    "hidden": true
   },
   "outputs": [
    {
     "data": {
      "text/plain": [
       "((16784,), (16784, 14))"
      ]
     },
     "execution_count": 111,
     "metadata": {},
     "output_type": "execute_result"
    }
   ],
   "source": [
    "y = df_03['genre']\n",
    "X = df_03.drop(['genre'],axis=1)\n",
    "y.shape, X.shape"
   ]
  },
  {
   "cell_type": "code",
   "execution_count": 112,
   "id": "cc948f1c",
   "metadata": {
    "hidden": true
   },
   "outputs": [
    {
     "name": "stdout",
     "output_type": "stream",
     "text": [
      "Initial amount of samples: #16784 Number of training samples: #13427 Number of test samples: #3357\n"
     ]
    }
   ],
   "source": [
    "X_train, X_test, y_train, y_test = train_test_split(X, y, test_size=0.2, random_state=42)\n",
    "\n",
    "print(\"Initial amount of samples: #{}\".format(X.shape[0]),\"Number of training samples: #{}\".format(X_train.shape[0]),\"Number of test samples: #{}\".format(X_test.shape[0]))\n"
   ]
  },
  {
   "cell_type": "markdown",
   "id": "fa824d08",
   "metadata": {},
   "source": [
    "<b>overfitted model<b>"
   ]
  },
  {
   "cell_type": "code",
   "execution_count": 113,
   "id": "f6a79777",
   "metadata": {},
   "outputs": [
    {
     "name": "stdout",
     "output_type": "stream",
     "text": [
      "Accuracy on training data =  1.0\n",
      "Accuracy on test data =  0.5424486148346738\n"
     ]
    }
   ],
   "source": [
    "forest =  RandomForestClassifier(bootstrap=True, n_estimators=300, random_state=0)\n",
    "\n",
    "trained_forest = forest.fit(X_train, y_train) \n",
    "\n",
    "y_pred_train = trained_forest.predict(X_train)\n",
    "print('Accuracy on training data = ', metrics.accuracy_score(y_true = y_train, y_pred = y_pred_train))\n",
    "\n",
    "y_pred = trained_forest.predict(X_test)\n",
    "print('Accuracy on test data = ', metrics.accuracy_score(y_true = y_test, y_pred = y_pred))"
   ]
  },
  {
   "cell_type": "markdown",
   "id": "f1df64ff",
   "metadata": {},
   "source": [
    "<b>handling overfitting<b>"
   ]
  },
  {
   "cell_type": "code",
   "execution_count": 114,
   "id": "58eeee5e",
   "metadata": {},
   "outputs": [
    {
     "name": "stdout",
     "output_type": "stream",
     "text": [
      "Accuracy on training data =  0.5637149028077754\n",
      "Accuracy on test data =  0.5278522490318737\n"
     ]
    }
   ],
   "source": [
    "forest =  RandomForestClassifier(bootstrap=True, n_estimators=30,\n",
    "                                 random_state=0, max_depth=8,min_samples_leaf=20)\n",
    "\n",
    "trained_forest = forest.fit(X_train, y_train) \n",
    "\n",
    "y_pred_train = trained_forest.predict(X_train)\n",
    "print('Accuracy on training data = ', metrics.accuracy_score(y_true = y_train, y_pred = y_pred_train))\n",
    "\n",
    "y_pred = trained_forest.predict(X_test)\n",
    "print('Accuracy on test data = ', metrics.accuracy_score(y_true = y_test, y_pred = y_pred))"
   ]
  },
  {
   "cell_type": "code",
   "execution_count": 115,
   "id": "209c5ea0",
   "metadata": {},
   "outputs": [
    {
     "data": {
      "text/html": [
       "<div>\n",
       "<style scoped>\n",
       "    .dataframe tbody tr th:only-of-type {\n",
       "        vertical-align: middle;\n",
       "    }\n",
       "\n",
       "    .dataframe tbody tr th {\n",
       "        vertical-align: top;\n",
       "    }\n",
       "\n",
       "    .dataframe thead th {\n",
       "        text-align: right;\n",
       "    }\n",
       "</style>\n",
       "<table border=\"1\" class=\"dataframe\">\n",
       "  <thead>\n",
       "    <tr style=\"text-align: right;\">\n",
       "      <th></th>\n",
       "      <th>score</th>\n",
       "      <th>years_since</th>\n",
       "      <th>danceability</th>\n",
       "      <th>energy</th>\n",
       "      <th>key</th>\n",
       "      <th>loudness</th>\n",
       "      <th>speechiness</th>\n",
       "      <th>acousticness</th>\n",
       "      <th>instrumentalness</th>\n",
       "      <th>liveness</th>\n",
       "      <th>valence</th>\n",
       "      <th>tempo</th>\n",
       "      <th>number_of_albums</th>\n",
       "      <th>number_of_dups</th>\n",
       "    </tr>\n",
       "  </thead>\n",
       "  <tbody>\n",
       "    <tr>\n",
       "      <th>15946</th>\n",
       "      <td>5.1</td>\n",
       "      <td>8.0</td>\n",
       "      <td>0.603364</td>\n",
       "      <td>0.450818</td>\n",
       "      <td>6.909091</td>\n",
       "      <td>-6.817455</td>\n",
       "      <td>0.034482</td>\n",
       "      <td>0.595727</td>\n",
       "      <td>0.000137</td>\n",
       "      <td>0.115600</td>\n",
       "      <td>0.484582</td>\n",
       "      <td>115.780364</td>\n",
       "      <td>2</td>\n",
       "      <td>1</td>\n",
       "    </tr>\n",
       "    <tr>\n",
       "      <th>483</th>\n",
       "      <td>7.0</td>\n",
       "      <td>5.0</td>\n",
       "      <td>0.341889</td>\n",
       "      <td>0.979444</td>\n",
       "      <td>7.333333</td>\n",
       "      <td>-3.813000</td>\n",
       "      <td>0.221000</td>\n",
       "      <td>0.001536</td>\n",
       "      <td>0.736889</td>\n",
       "      <td>0.219411</td>\n",
       "      <td>0.261444</td>\n",
       "      <td>142.702444</td>\n",
       "      <td>2</td>\n",
       "      <td>1</td>\n",
       "    </tr>\n",
       "    <tr>\n",
       "      <th>971</th>\n",
       "      <td>7.9</td>\n",
       "      <td>10.0</td>\n",
       "      <td>0.175000</td>\n",
       "      <td>0.007860</td>\n",
       "      <td>7.000000</td>\n",
       "      <td>-30.964000</td>\n",
       "      <td>0.048700</td>\n",
       "      <td>0.975000</td>\n",
       "      <td>0.965000</td>\n",
       "      <td>0.110000</td>\n",
       "      <td>0.038100</td>\n",
       "      <td>79.893000</td>\n",
       "      <td>1</td>\n",
       "      <td>1</td>\n",
       "    </tr>\n",
       "    <tr>\n",
       "      <th>15609</th>\n",
       "      <td>7.6</td>\n",
       "      <td>3.0</td>\n",
       "      <td>0.420000</td>\n",
       "      <td>0.723000</td>\n",
       "      <td>10.000000</td>\n",
       "      <td>-6.860000</td>\n",
       "      <td>0.175000</td>\n",
       "      <td>0.063800</td>\n",
       "      <td>0.000012</td>\n",
       "      <td>0.123000</td>\n",
       "      <td>0.288000</td>\n",
       "      <td>167.806000</td>\n",
       "      <td>4</td>\n",
       "      <td>1</td>\n",
       "    </tr>\n",
       "    <tr>\n",
       "      <th>5955</th>\n",
       "      <td>7.8</td>\n",
       "      <td>9.0</td>\n",
       "      <td>0.601278</td>\n",
       "      <td>0.783611</td>\n",
       "      <td>5.111111</td>\n",
       "      <td>-6.707667</td>\n",
       "      <td>0.049789</td>\n",
       "      <td>0.197958</td>\n",
       "      <td>0.012026</td>\n",
       "      <td>0.197500</td>\n",
       "      <td>0.717611</td>\n",
       "      <td>124.014222</td>\n",
       "      <td>8</td>\n",
       "      <td>1</td>\n",
       "    </tr>\n",
       "  </tbody>\n",
       "</table>\n",
       "</div>"
      ],
      "text/plain": [
       "       score  years_since  danceability    energy        key   loudness  \\\n",
       "15946    5.1          8.0      0.603364  0.450818   6.909091  -6.817455   \n",
       "483      7.0          5.0      0.341889  0.979444   7.333333  -3.813000   \n",
       "971      7.9         10.0      0.175000  0.007860   7.000000 -30.964000   \n",
       "15609    7.6          3.0      0.420000  0.723000  10.000000  -6.860000   \n",
       "5955     7.8          9.0      0.601278  0.783611   5.111111  -6.707667   \n",
       "\n",
       "       speechiness  acousticness  instrumentalness  liveness   valence  \\\n",
       "15946     0.034482      0.595727          0.000137  0.115600  0.484582   \n",
       "483       0.221000      0.001536          0.736889  0.219411  0.261444   \n",
       "971       0.048700      0.975000          0.965000  0.110000  0.038100   \n",
       "15609     0.175000      0.063800          0.000012  0.123000  0.288000   \n",
       "5955      0.049789      0.197958          0.012026  0.197500  0.717611   \n",
       "\n",
       "            tempo  number_of_albums  number_of_dups  \n",
       "15946  115.780364                 2               1  \n",
       "483    142.702444                 2               1  \n",
       "971     79.893000                 1               1  \n",
       "15609  167.806000                 4               1  \n",
       "5955   124.014222                 8               1  "
      ]
     },
     "execution_count": 115,
     "metadata": {},
     "output_type": "execute_result"
    }
   ],
   "source": [
    "X_train.head()"
   ]
  },
  {
   "cell_type": "markdown",
   "id": "5a4202fd",
   "metadata": {},
   "source": [
    "<b>importance of features<b>"
   ]
  },
  {
   "cell_type": "code",
   "execution_count": 116,
   "id": "bce27add",
   "metadata": {},
   "outputs": [],
   "source": [
    "test_list=['index','score','danceability','energy','key','loudness','speechiness',\n",
    " 'acousticness','instrumentalness','liveness','valence',\n",
    " 'tempo','number_of_albums','number_of_dups']\n"
   ]
  },
  {
   "cell_type": "code",
   "execution_count": 117,
   "id": "ed95b62b",
   "metadata": {},
   "outputs": [
    {
     "data": {
      "text/html": [
       "<div>\n",
       "<style scoped>\n",
       "    .dataframe tbody tr th:only-of-type {\n",
       "        vertical-align: middle;\n",
       "    }\n",
       "\n",
       "    .dataframe tbody tr th {\n",
       "        vertical-align: top;\n",
       "    }\n",
       "\n",
       "    .dataframe thead th {\n",
       "        text-align: right;\n",
       "    }\n",
       "</style>\n",
       "<table border=\"1\" class=\"dataframe\">\n",
       "  <thead>\n",
       "    <tr style=\"text-align: right;\">\n",
       "      <th></th>\n",
       "      <th>features</th>\n",
       "      <th>weights</th>\n",
       "    </tr>\n",
       "  </thead>\n",
       "  <tbody>\n",
       "    <tr>\n",
       "      <th>6</th>\n",
       "      <td>speechiness</td>\n",
       "      <td>0.266372</td>\n",
       "    </tr>\n",
       "    <tr>\n",
       "      <th>2</th>\n",
       "      <td>danceability</td>\n",
       "      <td>0.178580</td>\n",
       "    </tr>\n",
       "    <tr>\n",
       "      <th>8</th>\n",
       "      <td>instrumentalness</td>\n",
       "      <td>0.171086</td>\n",
       "    </tr>\n",
       "    <tr>\n",
       "      <th>7</th>\n",
       "      <td>acousticness</td>\n",
       "      <td>0.064569</td>\n",
       "    </tr>\n",
       "    <tr>\n",
       "      <th>10</th>\n",
       "      <td>valence</td>\n",
       "      <td>0.058354</td>\n",
       "    </tr>\n",
       "    <tr>\n",
       "      <th>5</th>\n",
       "      <td>loudness</td>\n",
       "      <td>0.052630</td>\n",
       "    </tr>\n",
       "    <tr>\n",
       "      <th>3</th>\n",
       "      <td>energy</td>\n",
       "      <td>0.049207</td>\n",
       "    </tr>\n",
       "    <tr>\n",
       "      <th>1</th>\n",
       "      <td>score</td>\n",
       "      <td>0.039928</td>\n",
       "    </tr>\n",
       "    <tr>\n",
       "      <th>11</th>\n",
       "      <td>tempo</td>\n",
       "      <td>0.033432</td>\n",
       "    </tr>\n",
       "    <tr>\n",
       "      <th>9</th>\n",
       "      <td>liveness</td>\n",
       "      <td>0.029691</td>\n",
       "    </tr>\n",
       "    <tr>\n",
       "      <th>12</th>\n",
       "      <td>number_of_albums</td>\n",
       "      <td>0.027900</td>\n",
       "    </tr>\n",
       "    <tr>\n",
       "      <th>4</th>\n",
       "      <td>key</td>\n",
       "      <td>0.014179</td>\n",
       "    </tr>\n",
       "    <tr>\n",
       "      <th>0</th>\n",
       "      <td>index</td>\n",
       "      <td>0.012938</td>\n",
       "    </tr>\n",
       "    <tr>\n",
       "      <th>13</th>\n",
       "      <td>number_of_dups</td>\n",
       "      <td>0.001134</td>\n",
       "    </tr>\n",
       "  </tbody>\n",
       "</table>\n",
       "</div>"
      ],
      "text/plain": [
       "            features   weights\n",
       "6        speechiness  0.266372\n",
       "2       danceability  0.178580\n",
       "8   instrumentalness  0.171086\n",
       "7       acousticness  0.064569\n",
       "10           valence  0.058354\n",
       "5           loudness  0.052630\n",
       "3             energy  0.049207\n",
       "1              score  0.039928\n",
       "11             tempo  0.033432\n",
       "9           liveness  0.029691\n",
       "12  number_of_albums  0.027900\n",
       "4                key  0.014179\n",
       "0              index  0.012938\n",
       "13    number_of_dups  0.001134"
      ]
     },
     "execution_count": 117,
     "metadata": {},
     "output_type": "execute_result"
    }
   ],
   "source": [
    "featuresDF=pd.DataFrame({\"features\":test_list,\"weights\":trained_forest.feature_importances_})\n",
    "featuresDF.sort_values(\"weights\",ascending=False)"
   ]
  },
  {
   "cell_type": "markdown",
   "id": "18772a95",
   "metadata": {},
   "source": [
    "<b>prediction of 'years-since'<b>"
   ]
  },
  {
   "cell_type": "code",
   "execution_count": 118,
   "id": "8a91b40f",
   "metadata": {},
   "outputs": [
    {
     "data": {
      "text/plain": [
       "((16784,), (16784, 23))"
      ]
     },
     "execution_count": 118,
     "metadata": {},
     "output_type": "execute_result"
    }
   ],
   "source": [
    "y = df_01['years_since']\n",
    "X = df_01.drop(['years_since'],axis=1)\n",
    "y.shape, X.shape"
   ]
  },
  {
   "cell_type": "code",
   "execution_count": 119,
   "id": "07f0bbbd",
   "metadata": {},
   "outputs": [
    {
     "name": "stdout",
     "output_type": "stream",
     "text": [
      "Initial amount of samples: #16784 Number of training samples: #13427 Number of test samples: #3357\n"
     ]
    }
   ],
   "source": [
    "X_train, X_test, y_train, y_test = train_test_split(X, y, test_size=0.2, random_state=42)\n",
    "\n",
    "print(\"Initial amount of samples: #{}\".format(X.shape[0]),\"Number of training samples: #{}\".format(X_train.shape[0]),\"Number of test samples: #{}\".format(X_test.shape[0]))\n"
   ]
  },
  {
   "cell_type": "code",
   "execution_count": 120,
   "id": "151bb282",
   "metadata": {},
   "outputs": [
    {
     "name": "stdout",
     "output_type": "stream",
     "text": [
      "Accuracy on training data =  0.9996276159976167\n",
      "Accuracy on test data =  0.0828120345546619\n"
     ]
    }
   ],
   "source": [
    "forest =  RandomForestClassifier(bootstrap=True, n_estimators=300, random_state=0)\n",
    "\n",
    "trained_forest = forest.fit(X_train, y_train) \n",
    "\n",
    "y_pred_train = trained_forest.predict(X_train)\n",
    "print('Accuracy on training data = ', metrics.accuracy_score(y_true = y_train, y_pred = y_pred_train))\n",
    "\n",
    "y_pred = trained_forest.predict(X_test)\n",
    "print('Accuracy on test data = ', metrics.accuracy_score(y_true = y_test, y_pred = y_pred))"
   ]
  },
  {
   "cell_type": "code",
   "execution_count": 121,
   "id": "7db95760",
   "metadata": {},
   "outputs": [
    {
     "name": "stdout",
     "output_type": "stream",
     "text": [
      "Accuracy on training data =  0.23236761748715276\n",
      "Accuracy on test data =  0.07893952934167411\n"
     ]
    }
   ],
   "source": [
    "forest =  RandomForestClassifier(bootstrap=True, n_estimators=30,\n",
    "                                 random_state=0, max_depth=8,min_samples_leaf=20)\n",
    "\n",
    "trained_forest = forest.fit(X_train, y_train) \n",
    "\n",
    "y_pred_train = trained_forest.predict(X_train)\n",
    "print('Accuracy on training data = ', metrics.accuracy_score(y_true = y_train, y_pred = y_pred_train))\n",
    "\n",
    "y_pred = trained_forest.predict(X_test)\n",
    "print('Accuracy on test data = ', metrics.accuracy_score(y_true = y_test, y_pred = y_pred))"
   ]
  }
 ],
 "metadata": {
  "kernelspec": {
   "display_name": "Python 3",
   "language": "python",
   "name": "python3"
  },
  "language_info": {
   "codemirror_mode": {
    "name": "ipython",
    "version": 3
   },
   "file_extension": ".py",
   "mimetype": "text/x-python",
   "name": "python",
   "nbconvert_exporter": "python",
   "pygments_lexer": "ipython3",
   "version": "3.8.8"
  },
  "toc": {
   "base_numbering": 1,
   "nav_menu": {},
   "number_sections": true,
   "sideBar": true,
   "skip_h1_title": false,
   "title_cell": "Table of Contents",
   "title_sidebar": "Contents",
   "toc_cell": false,
   "toc_position": {},
   "toc_section_display": true,
   "toc_window_display": false
  }
 },
 "nbformat": 4,
 "nbformat_minor": 5
}
